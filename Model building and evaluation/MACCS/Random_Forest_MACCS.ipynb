{
  "nbformat": 4,
  "nbformat_minor": 0,
  "metadata": {
    "colab": {
      "provenance": []
    },
    "kernelspec": {
      "name": "python3",
      "display_name": "Python 3"
    },
    "language_info": {
      "name": "python"
    }
  },
  "cells": [
    {
      "cell_type": "code",
      "execution_count": null,
      "metadata": {
        "id": "rBUDfzKUSwLE"
      },
      "outputs": [],
      "source": []
    },
    {
      "cell_type": "code",
      "execution_count": null,
      "metadata": {
        "colab": {
          "base_uri": "https://localhost:8080/"
        },
        "id": "S5dz-2pZYlnw",
        "outputId": "6d4035d1-67c9-462a-ae11-25ee4d60ccb3"
      },
      "outputs": [
        {
          "output_type": "stream",
          "name": "stdout",
          "text": [
            "Mounted at /content/drive\n"
          ]
        }
      ],
      "source": [
        "# LOAD the data\n",
        "from google.colab import drive\n",
        "\n",
        "drive.mount('/content/drive')"
      ]
    },
    {
      "cell_type": "code",
      "source": [
        "!time pip install rdkit-pypi"
      ],
      "metadata": {
        "colab": {
          "base_uri": "https://localhost:8080/"
        },
        "id": "f7Hf4GsMY4b_",
        "outputId": "568041ad-afc2-4256-ce7f-e776d91d2945"
      },
      "execution_count": null,
      "outputs": [
        {
          "output_type": "stream",
          "name": "stdout",
          "text": [
            "Looking in indexes: https://pypi.org/simple, https://us-python.pkg.dev/colab-wheels/public/simple/\n",
            "Collecting rdkit-pypi\n",
            "  Downloading rdkit_pypi-2022.9.5-cp310-cp310-manylinux_2_17_x86_64.manylinux2014_x86_64.whl (29.4 MB)\n",
            "\u001b[2K     \u001b[90m━━━━━━━━━━━━━━━━━━━━━━━━━━━━━━━━━━━━━━━━\u001b[0m \u001b[32m29.4/29.4 MB\u001b[0m \u001b[31m30.6 MB/s\u001b[0m eta \u001b[36m0:00:00\u001b[0m\n",
            "\u001b[?25hRequirement already satisfied: numpy in /usr/local/lib/python3.10/dist-packages (from rdkit-pypi) (1.22.4)\n",
            "Requirement already satisfied: Pillow in /usr/local/lib/python3.10/dist-packages (from rdkit-pypi) (8.4.0)\n",
            "Installing collected packages: rdkit-pypi\n",
            "Successfully installed rdkit-pypi-2022.9.5\n",
            "\n",
            "real\t0m9.720s\n",
            "user\t0m6.913s\n",
            "sys\t0m0.985s\n"
          ]
        }
      ]
    },
    {
      "cell_type": "code",
      "source": [
        "import matplotlib.pyplot as plt\n",
        "import numpy as np\n",
        "import pandas as pd\n",
        "# import seaborn as sn\n",
        "# import scipy as sp\n",
        "\n",
        "import random\n",
        "import tensorflow\n",
        "from tensorflow import keras\n",
        "from tensorflow.keras.models import Sequential\n",
        "from tensorflow.keras.layers import Activation, Dense, BatchNormalization, Conv2D, Dropout, Flatten\n",
        "from tensorflow.keras.optimizers import Adam\n",
        "from tensorflow.keras.metrics import categorical_crossentropy\n",
        "from tensorflow.keras.wrappers.scikit_learn import KerasClassifier, KerasRegressor\n",
        "from sklearn.model_selection import GridSearchCV\n",
        "from sklearn.model_selection import cross_val_score\n",
        "from sklearn.preprocessing import LabelEncoder\n",
        "from sklearn.model_selection import StratifiedKFold\n",
        "\n",
        "from rdkit import Chem # A core definition\n",
        "from rdkit.Chem.Draw import MolsToGridImage # For displaying multiple molecules\n",
        "from rdkit.Chem.AllChem import * # conformer generation and adding H \n",
        "from rdkit.Chem.rdMolDescriptors import * # To calculate descriptors\n",
        "from rdkit.Chem.Draw import IPythonConsole # This displays the molecule in-line\n",
        "from rdkit.Chem import PandasTools # for pandas dataframe with rdkit\n",
        "from rdkit.DataStructs.cDataStructs import ConvertToNumpyArray\n",
        "import pandas.io.formats.style"
      ],
      "metadata": {
        "id": "czGg-Fy5Y5Nv"
      },
      "execution_count": null,
      "outputs": []
    },
    {
      "cell_type": "code",
      "source": [
        "############################################Sexual data\n",
        "#Optional: move to the desired location:\n",
        "%cd /content/drive/MyDrive/PhD/PTS_datasets/\n",
        "!ls '/content/drive/MyDrive/PhD/PTS_datasets/'\n",
        "import pandas as pd\n",
        "sxl= pd.read_csv(\"M_sexual_LibrariesC_hits_nd_2ndclst_nhits.csv\")\n",
        "sxl['S_Hit'] = sxl['S_Hit'].replace(np.nan, \"No\")\n",
        "sxl = sxl.iloc[: , 1:]\n",
        "print(sxl['S_Hit'].value_counts())\n",
        "sxl"
      ],
      "metadata": {
        "colab": {
          "base_uri": "https://localhost:8080/",
          "height": 1000
        },
        "id": "2CftPmPDY82J",
        "outputId": "3091dfdd-d782-477b-f8fa-702c19699b4c"
      },
      "execution_count": null,
      "outputs": [
        {
          "output_type": "stream",
          "name": "stdout",
          "text": [
            "/content/drive/MyDrive/PhD/PTS_datasets\n",
            " ABSActiveInactiveFeatCorrelationOnABSActives.csv\n",
            " ABSActiveInactiveFeatCorrelationOnABSInactives.csv\n",
            " absdualGBMFinalizedhpt5005_UMFP_model_prediction_on_pbox.csv\n",
            " absdualLRFinalizedhpt5005_UMFP_model_prediction_on_pbox.csv\n",
            " absdualRFFinalizedhpt5005_UMFP_model_prediction_on_pbox.csv\n",
            " absdualsvmFinalizedhpt5005_UMFP_model_prediction_on_pbox.csv\n",
            " asexualsFeaturesZtestprop.csv\n",
            " asexualsFeaturesZtestpropInact.csv\n",
            " asexualsFeaturesZtestproportionsActvsInactv.csv\n",
            " asexualsFeaturesZtestpropTopABSfeat.csv\n",
            " asexualsFeaturesZtestpropTopDualfeat.csv\n",
            " asexualsFeaturesZtestpropTopfeat.csv\n",
            " asexualsGBMhpt_UMFP_model5atom500bitFinal.pkl\n",
            " asexualsLogisticRegressionFinalHPT_UMFP_model5005.pkl\n",
            " asexualsSVCFinalHPT_UMFP_model5005.pkl\n",
            " axldeepinsighOverUnderXttestMFP.npy\n",
            " axldeepinsighOverUnderXttrainMFP.npy\n",
            " axldeepinsighOverUnderYttestMFP.npy\n",
            " axldeepinsighOverUnderYttrainMFP.npy\n",
            " axl_UnderMFP_GBM_HPT5005_FeatureImp.csv\n",
            " axl_UnderMFP_GBM_HPT5005_FeatureImpFinal.csv\n",
            " axl_UnderMFP_LR_HPT5005_FeatureImpFinal.csv\n",
            " axl_UnderMFP_LR_HPT_FeatureImp.csv\n",
            " axl_UnderMFP_RF_HPT5005_FeatureImp2.csv\n",
            " axl_UnderMFP_RF_HPT5005_FeatureImpFinal.csv\n",
            " CTCVAE_300bit5radiusMFP.pkl\n",
            " CTCVAE_300bit5raduisMFP_500samples.csv\n",
            " CTGAN_300bit5radiusMFP.pkl\n",
            " CTGAN_300bit5raduisMFP_500samples.csv\n",
            " data\n",
            " DualactiveFeaturesZtestprop.csv\n",
            " DualActiveInactiveFeatCorrelationOnDualActives.csv\n",
            " DualActiveInactiveFeatCorrelationOnDualInactives.csv\n",
            " DualactivePBoxMFPRanks.csv\n",
            " DualactivePBoxMFPRanksMACCS.csv\n",
            " finalized_model.sav\n",
            " GanSexualsU_MACCs.pkl\n",
            " image_at_epoch_0000.png\n",
            " M_asexuals_lib_hits_nd_clst_nhts.csv\n",
            " Miniconda3-py37_4.12.0-Linux-x86_64.sh\n",
            " M_sexual_LibrariesC_hits_nd_2ndclst_nhits.csv\n",
            "'Sexual_libraries_hits and nonhits_composition.csv'\n",
            " sexualsFeaturesZtestpropInact.csv\n",
            " SexualsFeaturesZtestpropTopABSfeat.csv\n",
            " SexualsFeaturesZtestpropTopDualfeat.csv\n",
            " sexualsGBMFinalHPT_UMFP_model5005.pkl\n",
            " sexualsLRFinalHPT_UMFP_model5005.pkl\n",
            " sexualsRFFinalHPT_UMFP_model5005.pkl\n",
            " sexualsSVCFinalHPT_UMFP_model5005.pkl\n",
            " sxl_UnderMACCS_LR_HPT_FeatureImp.csv\n",
            " sxl_UnderMFP_GBM_HPT5005_FeatureImp.csv\n",
            " sxl_UnderMFP_GBM_HPT5005_FeatureImpFinal.csv\n",
            " sxl_UnderMFP_LR_HPT5005_FeatureImp.csv\n",
            " sxl_UnderMFP_LR_HPT5005_FeatureImpFinal.csv\n",
            " sxl_UnderMFP_RF_HPT5005_FeatureImp2.csv\n",
            " sxl_UnderMFP_RF_HPT5005_FeatureImpFinal.csv\n",
            " sxl_UnderMFP_RF_HPT_FeatureImp2.csv\n",
            " sxl_UnderX_MFP.csv\n",
            " sxl_UnderX_MFP.csv.npy\n",
            " sxl_UnderX_MFP.npy\n",
            " TCGANSexualsU_MACCs.pkl\n",
            "No     8975\n",
            "Yes     916\n",
            "Name: S_Hit, dtype: int64\n"
          ]
        },
        {
          "output_type": "execute_result",
          "data": {
            "text/plain": [
              "                                              Smiles S_Hit\n",
              "0     NC(=O)c1cccc2nc([C@H]3CCN(Cc4ccccn4)C3)[nH]c12   Yes\n",
              "1              Fc1ccc2[nH]c(C3CCCN3Cc3c[nH]cn3)nc2c1   Yes\n",
              "2                      COc1c(C)cnc(CN(C)C2CCCCC2)c1C   Yes\n",
              "3              Cc1cccc(CN2CCCC2c2cccc(Nc3nccs3)n2)c1   Yes\n",
              "4                 CCSCCNc1nc(-c2ccccn2)nc2c1c(C)nn2C   Yes\n",
              "...                                              ...   ...\n",
              "9886        Cc1nc(C)n(C2CCCN(C(=O)c3ncoc3C(C)C)C2)n1    No\n",
              "9887            COCCN1CCN(Cc2c(C)noc2C)Cc2ccc(C)nc21    No\n",
              "9888             CCc1ncnc2c1CCN(Cc1ccc3c(c1)OCO3)CC2    No\n",
              "9889            CCC1CN(CC(=O)NCCN2CCCCCC2)c2ccccc2S1    No\n",
              "9890              Cc1cnn(CC2CCCN2Cc2nc3ccccc3nc2C)c1    No\n",
              "\n",
              "[9891 rows x 2 columns]"
            ],
            "text/html": [
              "\n",
              "  <div id=\"df-a0aa4044-1a9f-42fe-9689-6368f79f5786\">\n",
              "    <div class=\"colab-df-container\">\n",
              "      <div>\n",
              "<style scoped>\n",
              "    .dataframe tbody tr th:only-of-type {\n",
              "        vertical-align: middle;\n",
              "    }\n",
              "\n",
              "    .dataframe tbody tr th {\n",
              "        vertical-align: top;\n",
              "    }\n",
              "\n",
              "    .dataframe thead th {\n",
              "        text-align: right;\n",
              "    }\n",
              "</style>\n",
              "<table border=\"1\" class=\"dataframe\">\n",
              "  <thead>\n",
              "    <tr style=\"text-align: right;\">\n",
              "      <th></th>\n",
              "      <th>Smiles</th>\n",
              "      <th>S_Hit</th>\n",
              "    </tr>\n",
              "  </thead>\n",
              "  <tbody>\n",
              "    <tr>\n",
              "      <th>0</th>\n",
              "      <td>NC(=O)c1cccc2nc([C@H]3CCN(Cc4ccccn4)C3)[nH]c12</td>\n",
              "      <td>Yes</td>\n",
              "    </tr>\n",
              "    <tr>\n",
              "      <th>1</th>\n",
              "      <td>Fc1ccc2[nH]c(C3CCCN3Cc3c[nH]cn3)nc2c1</td>\n",
              "      <td>Yes</td>\n",
              "    </tr>\n",
              "    <tr>\n",
              "      <th>2</th>\n",
              "      <td>COc1c(C)cnc(CN(C)C2CCCCC2)c1C</td>\n",
              "      <td>Yes</td>\n",
              "    </tr>\n",
              "    <tr>\n",
              "      <th>3</th>\n",
              "      <td>Cc1cccc(CN2CCCC2c2cccc(Nc3nccs3)n2)c1</td>\n",
              "      <td>Yes</td>\n",
              "    </tr>\n",
              "    <tr>\n",
              "      <th>4</th>\n",
              "      <td>CCSCCNc1nc(-c2ccccn2)nc2c1c(C)nn2C</td>\n",
              "      <td>Yes</td>\n",
              "    </tr>\n",
              "    <tr>\n",
              "      <th>...</th>\n",
              "      <td>...</td>\n",
              "      <td>...</td>\n",
              "    </tr>\n",
              "    <tr>\n",
              "      <th>9886</th>\n",
              "      <td>Cc1nc(C)n(C2CCCN(C(=O)c3ncoc3C(C)C)C2)n1</td>\n",
              "      <td>No</td>\n",
              "    </tr>\n",
              "    <tr>\n",
              "      <th>9887</th>\n",
              "      <td>COCCN1CCN(Cc2c(C)noc2C)Cc2ccc(C)nc21</td>\n",
              "      <td>No</td>\n",
              "    </tr>\n",
              "    <tr>\n",
              "      <th>9888</th>\n",
              "      <td>CCc1ncnc2c1CCN(Cc1ccc3c(c1)OCO3)CC2</td>\n",
              "      <td>No</td>\n",
              "    </tr>\n",
              "    <tr>\n",
              "      <th>9889</th>\n",
              "      <td>CCC1CN(CC(=O)NCCN2CCCCCC2)c2ccccc2S1</td>\n",
              "      <td>No</td>\n",
              "    </tr>\n",
              "    <tr>\n",
              "      <th>9890</th>\n",
              "      <td>Cc1cnn(CC2CCCN2Cc2nc3ccccc3nc2C)c1</td>\n",
              "      <td>No</td>\n",
              "    </tr>\n",
              "  </tbody>\n",
              "</table>\n",
              "<p>9891 rows × 2 columns</p>\n",
              "</div>\n",
              "      <button class=\"colab-df-convert\" onclick=\"convertToInteractive('df-a0aa4044-1a9f-42fe-9689-6368f79f5786')\"\n",
              "              title=\"Convert this dataframe to an interactive table.\"\n",
              "              style=\"display:none;\">\n",
              "        \n",
              "  <svg xmlns=\"http://www.w3.org/2000/svg\" height=\"24px\"viewBox=\"0 0 24 24\"\n",
              "       width=\"24px\">\n",
              "    <path d=\"M0 0h24v24H0V0z\" fill=\"none\"/>\n",
              "    <path d=\"M18.56 5.44l.94 2.06.94-2.06 2.06-.94-2.06-.94-.94-2.06-.94 2.06-2.06.94zm-11 1L8.5 8.5l.94-2.06 2.06-.94-2.06-.94L8.5 2.5l-.94 2.06-2.06.94zm10 10l.94 2.06.94-2.06 2.06-.94-2.06-.94-.94-2.06-.94 2.06-2.06.94z\"/><path d=\"M17.41 7.96l-1.37-1.37c-.4-.4-.92-.59-1.43-.59-.52 0-1.04.2-1.43.59L10.3 9.45l-7.72 7.72c-.78.78-.78 2.05 0 2.83L4 21.41c.39.39.9.59 1.41.59.51 0 1.02-.2 1.41-.59l7.78-7.78 2.81-2.81c.8-.78.8-2.07 0-2.86zM5.41 20L4 18.59l7.72-7.72 1.47 1.35L5.41 20z\"/>\n",
              "  </svg>\n",
              "      </button>\n",
              "      \n",
              "  <style>\n",
              "    .colab-df-container {\n",
              "      display:flex;\n",
              "      flex-wrap:wrap;\n",
              "      gap: 12px;\n",
              "    }\n",
              "\n",
              "    .colab-df-convert {\n",
              "      background-color: #E8F0FE;\n",
              "      border: none;\n",
              "      border-radius: 50%;\n",
              "      cursor: pointer;\n",
              "      display: none;\n",
              "      fill: #1967D2;\n",
              "      height: 32px;\n",
              "      padding: 0 0 0 0;\n",
              "      width: 32px;\n",
              "    }\n",
              "\n",
              "    .colab-df-convert:hover {\n",
              "      background-color: #E2EBFA;\n",
              "      box-shadow: 0px 1px 2px rgba(60, 64, 67, 0.3), 0px 1px 3px 1px rgba(60, 64, 67, 0.15);\n",
              "      fill: #174EA6;\n",
              "    }\n",
              "\n",
              "    [theme=dark] .colab-df-convert {\n",
              "      background-color: #3B4455;\n",
              "      fill: #D2E3FC;\n",
              "    }\n",
              "\n",
              "    [theme=dark] .colab-df-convert:hover {\n",
              "      background-color: #434B5C;\n",
              "      box-shadow: 0px 1px 3px 1px rgba(0, 0, 0, 0.15);\n",
              "      filter: drop-shadow(0px 1px 2px rgba(0, 0, 0, 0.3));\n",
              "      fill: #FFFFFF;\n",
              "    }\n",
              "  </style>\n",
              "\n",
              "      <script>\n",
              "        const buttonEl =\n",
              "          document.querySelector('#df-a0aa4044-1a9f-42fe-9689-6368f79f5786 button.colab-df-convert');\n",
              "        buttonEl.style.display =\n",
              "          google.colab.kernel.accessAllowed ? 'block' : 'none';\n",
              "\n",
              "        async function convertToInteractive(key) {\n",
              "          const element = document.querySelector('#df-a0aa4044-1a9f-42fe-9689-6368f79f5786');\n",
              "          const dataTable =\n",
              "            await google.colab.kernel.invokeFunction('convertToInteractive',\n",
              "                                                     [key], {});\n",
              "          if (!dataTable) return;\n",
              "\n",
              "          const docLinkHtml = 'Like what you see? Visit the ' +\n",
              "            '<a target=\"_blank\" href=https://colab.research.google.com/notebooks/data_table.ipynb>data table notebook</a>'\n",
              "            + ' to learn more about interactive tables.';\n",
              "          element.innerHTML = '';\n",
              "          dataTable['output_type'] = 'display_data';\n",
              "          await google.colab.output.renderOutput(dataTable, element);\n",
              "          const docLink = document.createElement('div');\n",
              "          docLink.innerHTML = docLinkHtml;\n",
              "          element.appendChild(docLink);\n",
              "        }\n",
              "      </script>\n",
              "    </div>\n",
              "  </div>\n",
              "  "
            ]
          },
          "metadata": {},
          "execution_count": 4
        }
      ]
    },
    {
      "cell_type": "markdown",
      "source": [
        "# MACCSKeysFingerprint"
      ],
      "metadata": {
        "id": "2QaSmxw8ZxdZ"
      }
    },
    {
      "cell_type": "code",
      "source": [
        "!pip install deepchem"
      ],
      "metadata": {
        "colab": {
          "base_uri": "https://localhost:8080/"
        },
        "id": "Ob9Gky_4ZfDt",
        "outputId": "27085e49-6a54-42ee-83f2-8790deb100ed"
      },
      "execution_count": null,
      "outputs": [
        {
          "output_type": "stream",
          "name": "stdout",
          "text": [
            "Looking in indexes: https://pypi.org/simple, https://us-python.pkg.dev/colab-wheels/public/simple/\n",
            "Requirement already satisfied: deepchem in /usr/local/lib/python3.9/dist-packages (2.7.1)\n",
            "Requirement already satisfied: scikit-learn in /usr/local/lib/python3.9/dist-packages (from deepchem) (1.2.2)\n",
            "Requirement already satisfied: numpy>=1.21 in /usr/local/lib/python3.9/dist-packages (from deepchem) (1.22.4)\n",
            "Requirement already satisfied: pandas in /usr/local/lib/python3.9/dist-packages (from deepchem) (1.4.4)\n",
            "Requirement already satisfied: rdkit in /usr/local/lib/python3.9/dist-packages (from deepchem) (2022.9.5)\n",
            "Requirement already satisfied: scipy<1.9 in /usr/local/lib/python3.9/dist-packages (from deepchem) (1.8.1)\n",
            "Requirement already satisfied: joblib in /usr/local/lib/python3.9/dist-packages (from deepchem) (1.1.1)\n",
            "Requirement already satisfied: pytz>=2020.1 in /usr/local/lib/python3.9/dist-packages (from pandas->deepchem) (2022.7.1)\n",
            "Requirement already satisfied: python-dateutil>=2.8.1 in /usr/local/lib/python3.9/dist-packages (from pandas->deepchem) (2.8.2)\n",
            "Requirement already satisfied: Pillow in /usr/local/lib/python3.9/dist-packages (from rdkit->deepchem) (8.4.0)\n",
            "Requirement already satisfied: threadpoolctl>=2.0.0 in /usr/local/lib/python3.9/dist-packages (from scikit-learn->deepchem) (3.1.0)\n",
            "Requirement already satisfied: six>=1.5 in /usr/local/lib/python3.9/dist-packages (from python-dateutil>=2.8.1->pandas->deepchem) (1.15.0)\n"
          ]
        }
      ]
    },
    {
      "cell_type": "code",
      "source": [
        "import deepchem as dc\n",
        "from deepchem.feat import MACCSKeysFingerprint"
      ],
      "metadata": {
        "id": "sYQZg9gkZeF1"
      },
      "execution_count": null,
      "outputs": []
    },
    {
      "cell_type": "code",
      "source": [
        "sxl[\"Target\"] = np.where(sxl[\"S_Hit\"]== \"Yes\", 1,0)\n",
        "sxl[\"Target\"].value_counts()"
      ],
      "metadata": {
        "colab": {
          "base_uri": "https://localhost:8080/"
        },
        "id": "3jAkY8TcbA2v",
        "outputId": "08890934-3cfe-4830-d6c3-673a289b08c9"
      },
      "execution_count": null,
      "outputs": [
        {
          "output_type": "execute_result",
          "data": {
            "text/plain": [
              "0    8975\n",
              "1     916\n",
              "Name: Target, dtype: int64"
            ]
          },
          "metadata": {},
          "execution_count": 45
        }
      ]
    },
    {
      "cell_type": "code",
      "source": [
        "dchm= sxl[\"Smiles\"]\n",
        "dchm"
      ],
      "metadata": {
        "colab": {
          "base_uri": "https://localhost:8080/"
        },
        "id": "hTSHuZYYaTmj",
        "outputId": "65d5ffe6-e456-4d9c-ec2e-08118486d3e1"
      },
      "execution_count": null,
      "outputs": [
        {
          "output_type": "execute_result",
          "data": {
            "text/plain": [
              "0       NC(=O)c1cccc2nc([C@H]3CCN(Cc4ccccn4)C3)[nH]c12\n",
              "1                Fc1ccc2[nH]c(C3CCCN3Cc3c[nH]cn3)nc2c1\n",
              "2                        COc1c(C)cnc(CN(C)C2CCCCC2)c1C\n",
              "3                Cc1cccc(CN2CCCC2c2cccc(Nc3nccs3)n2)c1\n",
              "4                   CCSCCNc1nc(-c2ccccn2)nc2c1c(C)nn2C\n",
              "                             ...                      \n",
              "9886          Cc1nc(C)n(C2CCCN(C(=O)c3ncoc3C(C)C)C2)n1\n",
              "9887              COCCN1CCN(Cc2c(C)noc2C)Cc2ccc(C)nc21\n",
              "9888               CCc1ncnc2c1CCN(Cc1ccc3c(c1)OCO3)CC2\n",
              "9889              CCC1CN(CC(=O)NCCN2CCCCCC2)c2ccccc2S1\n",
              "9890                Cc1cnn(CC2CCCN2Cc2nc3ccccc3nc2C)c1\n",
              "Name: Smiles, Length: 9891, dtype: object"
            ]
          },
          "metadata": {},
          "execution_count": 46
        }
      ]
    },
    {
      "cell_type": "code",
      "source": [
        "mols = [Chem.MolFromSmiles(x) for x in dchm]\n",
        "featurizer = MACCSKeysFingerprint()\n",
        "maccs = featurizer.featurize(mols)\n",
        "maccs"
      ],
      "metadata": {
        "colab": {
          "base_uri": "https://localhost:8080/"
        },
        "id": "U9oQ6FwCZojx",
        "outputId": "b5bdfeb3-bac4-4357-9eff-974605dcd44b"
      },
      "execution_count": null,
      "outputs": [
        {
          "output_type": "execute_result",
          "data": {
            "text/plain": [
              "array([[0, 0, 0, ..., 1, 1, 0],\n",
              "       [0, 0, 0, ..., 0, 1, 0],\n",
              "       [0, 0, 0, ..., 1, 1, 0],\n",
              "       ...,\n",
              "       [0, 0, 0, ..., 1, 1, 0],\n",
              "       [0, 0, 0, ..., 1, 1, 0],\n",
              "       [0, 0, 0, ..., 0, 1, 0]])"
            ]
          },
          "metadata": {},
          "execution_count": 47
        }
      ]
    },
    {
      "cell_type": "code",
      "source": [
        "df=[]\n",
        "df = pd.DataFrame(maccs)\n",
        "#df[\"Target\"]= sxl[\"Target\"]\n",
        "df"
      ],
      "metadata": {
        "colab": {
          "base_uri": "https://localhost:8080/",
          "height": 423
        },
        "id": "OJSxLbwknW-s",
        "outputId": "7f145a05-55e8-4450-fd55-592ac48a0e90"
      },
      "execution_count": null,
      "outputs": [
        {
          "output_type": "execute_result",
          "data": {
            "text/plain": [
              "      0    1    2    3    4    5    6    7    8    9    ...  157  158  159  \\\n",
              "0       0    0    0    0    0    0    0    0    0    0  ...    0    1    0   \n",
              "1       0    0    0    0    0    0    0    0    0    0  ...    0    1    0   \n",
              "2       0    0    0    0    0    0    0    0    0    0  ...    1    1    0   \n",
              "3       0    0    0    0    0    0    0    0    0    0  ...    0    1    0   \n",
              "4       0    0    0    0    0    0    0    0    0    0  ...    0    1    0   \n",
              "...   ...  ...  ...  ...  ...  ...  ...  ...  ...  ...  ...  ...  ...  ...   \n",
              "9886    0    0    0    0    0    0    0    0    0    0  ...    0    1    1   \n",
              "9887    0    0    0    0    0    0    0    0    0    0  ...    1    1    1   \n",
              "9888    0    0    0    0    0    0    0    0    0    0  ...    1    1    1   \n",
              "9889    0    0    0    0    0    0    0    0    0    0  ...    0    1    0   \n",
              "9890    0    0    0    0    0    0    0    0    0    0  ...    0    1    0   \n",
              "\n",
              "      160  161  162  163  164  165  166  \n",
              "0       0    1    1    1    1    1    0  \n",
              "1       0    1    1    1    0    1    0  \n",
              "2       1    1    1    1    1    1    0  \n",
              "3       1    1    1    1    0    1    0  \n",
              "4       1    1    1    1    0    1    0  \n",
              "...   ...  ...  ...  ...  ...  ...  ...  \n",
              "9886    1    1    1    1    1    1    0  \n",
              "9887    1    1    1    1    1    1    0  \n",
              "9888    1    1    1    1    1    1    0  \n",
              "9889    1    1    1    1    1    1    0  \n",
              "9890    1    1    1    1    0    1    0  \n",
              "\n",
              "[9891 rows x 167 columns]"
            ],
            "text/html": [
              "\n",
              "  <div id=\"df-ba633a9c-7272-408d-8813-84fbe21c60dc\">\n",
              "    <div class=\"colab-df-container\">\n",
              "      <div>\n",
              "<style scoped>\n",
              "    .dataframe tbody tr th:only-of-type {\n",
              "        vertical-align: middle;\n",
              "    }\n",
              "\n",
              "    .dataframe tbody tr th {\n",
              "        vertical-align: top;\n",
              "    }\n",
              "\n",
              "    .dataframe thead th {\n",
              "        text-align: right;\n",
              "    }\n",
              "</style>\n",
              "<table border=\"1\" class=\"dataframe\">\n",
              "  <thead>\n",
              "    <tr style=\"text-align: right;\">\n",
              "      <th></th>\n",
              "      <th>0</th>\n",
              "      <th>1</th>\n",
              "      <th>2</th>\n",
              "      <th>3</th>\n",
              "      <th>4</th>\n",
              "      <th>5</th>\n",
              "      <th>6</th>\n",
              "      <th>7</th>\n",
              "      <th>8</th>\n",
              "      <th>9</th>\n",
              "      <th>...</th>\n",
              "      <th>157</th>\n",
              "      <th>158</th>\n",
              "      <th>159</th>\n",
              "      <th>160</th>\n",
              "      <th>161</th>\n",
              "      <th>162</th>\n",
              "      <th>163</th>\n",
              "      <th>164</th>\n",
              "      <th>165</th>\n",
              "      <th>166</th>\n",
              "    </tr>\n",
              "  </thead>\n",
              "  <tbody>\n",
              "    <tr>\n",
              "      <th>0</th>\n",
              "      <td>0</td>\n",
              "      <td>0</td>\n",
              "      <td>0</td>\n",
              "      <td>0</td>\n",
              "      <td>0</td>\n",
              "      <td>0</td>\n",
              "      <td>0</td>\n",
              "      <td>0</td>\n",
              "      <td>0</td>\n",
              "      <td>0</td>\n",
              "      <td>...</td>\n",
              "      <td>0</td>\n",
              "      <td>1</td>\n",
              "      <td>0</td>\n",
              "      <td>0</td>\n",
              "      <td>1</td>\n",
              "      <td>1</td>\n",
              "      <td>1</td>\n",
              "      <td>1</td>\n",
              "      <td>1</td>\n",
              "      <td>0</td>\n",
              "    </tr>\n",
              "    <tr>\n",
              "      <th>1</th>\n",
              "      <td>0</td>\n",
              "      <td>0</td>\n",
              "      <td>0</td>\n",
              "      <td>0</td>\n",
              "      <td>0</td>\n",
              "      <td>0</td>\n",
              "      <td>0</td>\n",
              "      <td>0</td>\n",
              "      <td>0</td>\n",
              "      <td>0</td>\n",
              "      <td>...</td>\n",
              "      <td>0</td>\n",
              "      <td>1</td>\n",
              "      <td>0</td>\n",
              "      <td>0</td>\n",
              "      <td>1</td>\n",
              "      <td>1</td>\n",
              "      <td>1</td>\n",
              "      <td>0</td>\n",
              "      <td>1</td>\n",
              "      <td>0</td>\n",
              "    </tr>\n",
              "    <tr>\n",
              "      <th>2</th>\n",
              "      <td>0</td>\n",
              "      <td>0</td>\n",
              "      <td>0</td>\n",
              "      <td>0</td>\n",
              "      <td>0</td>\n",
              "      <td>0</td>\n",
              "      <td>0</td>\n",
              "      <td>0</td>\n",
              "      <td>0</td>\n",
              "      <td>0</td>\n",
              "      <td>...</td>\n",
              "      <td>1</td>\n",
              "      <td>1</td>\n",
              "      <td>0</td>\n",
              "      <td>1</td>\n",
              "      <td>1</td>\n",
              "      <td>1</td>\n",
              "      <td>1</td>\n",
              "      <td>1</td>\n",
              "      <td>1</td>\n",
              "      <td>0</td>\n",
              "    </tr>\n",
              "    <tr>\n",
              "      <th>3</th>\n",
              "      <td>0</td>\n",
              "      <td>0</td>\n",
              "      <td>0</td>\n",
              "      <td>0</td>\n",
              "      <td>0</td>\n",
              "      <td>0</td>\n",
              "      <td>0</td>\n",
              "      <td>0</td>\n",
              "      <td>0</td>\n",
              "      <td>0</td>\n",
              "      <td>...</td>\n",
              "      <td>0</td>\n",
              "      <td>1</td>\n",
              "      <td>0</td>\n",
              "      <td>1</td>\n",
              "      <td>1</td>\n",
              "      <td>1</td>\n",
              "      <td>1</td>\n",
              "      <td>0</td>\n",
              "      <td>1</td>\n",
              "      <td>0</td>\n",
              "    </tr>\n",
              "    <tr>\n",
              "      <th>4</th>\n",
              "      <td>0</td>\n",
              "      <td>0</td>\n",
              "      <td>0</td>\n",
              "      <td>0</td>\n",
              "      <td>0</td>\n",
              "      <td>0</td>\n",
              "      <td>0</td>\n",
              "      <td>0</td>\n",
              "      <td>0</td>\n",
              "      <td>0</td>\n",
              "      <td>...</td>\n",
              "      <td>0</td>\n",
              "      <td>1</td>\n",
              "      <td>0</td>\n",
              "      <td>1</td>\n",
              "      <td>1</td>\n",
              "      <td>1</td>\n",
              "      <td>1</td>\n",
              "      <td>0</td>\n",
              "      <td>1</td>\n",
              "      <td>0</td>\n",
              "    </tr>\n",
              "    <tr>\n",
              "      <th>...</th>\n",
              "      <td>...</td>\n",
              "      <td>...</td>\n",
              "      <td>...</td>\n",
              "      <td>...</td>\n",
              "      <td>...</td>\n",
              "      <td>...</td>\n",
              "      <td>...</td>\n",
              "      <td>...</td>\n",
              "      <td>...</td>\n",
              "      <td>...</td>\n",
              "      <td>...</td>\n",
              "      <td>...</td>\n",
              "      <td>...</td>\n",
              "      <td>...</td>\n",
              "      <td>...</td>\n",
              "      <td>...</td>\n",
              "      <td>...</td>\n",
              "      <td>...</td>\n",
              "      <td>...</td>\n",
              "      <td>...</td>\n",
              "      <td>...</td>\n",
              "    </tr>\n",
              "    <tr>\n",
              "      <th>9886</th>\n",
              "      <td>0</td>\n",
              "      <td>0</td>\n",
              "      <td>0</td>\n",
              "      <td>0</td>\n",
              "      <td>0</td>\n",
              "      <td>0</td>\n",
              "      <td>0</td>\n",
              "      <td>0</td>\n",
              "      <td>0</td>\n",
              "      <td>0</td>\n",
              "      <td>...</td>\n",
              "      <td>0</td>\n",
              "      <td>1</td>\n",
              "      <td>1</td>\n",
              "      <td>1</td>\n",
              "      <td>1</td>\n",
              "      <td>1</td>\n",
              "      <td>1</td>\n",
              "      <td>1</td>\n",
              "      <td>1</td>\n",
              "      <td>0</td>\n",
              "    </tr>\n",
              "    <tr>\n",
              "      <th>9887</th>\n",
              "      <td>0</td>\n",
              "      <td>0</td>\n",
              "      <td>0</td>\n",
              "      <td>0</td>\n",
              "      <td>0</td>\n",
              "      <td>0</td>\n",
              "      <td>0</td>\n",
              "      <td>0</td>\n",
              "      <td>0</td>\n",
              "      <td>0</td>\n",
              "      <td>...</td>\n",
              "      <td>1</td>\n",
              "      <td>1</td>\n",
              "      <td>1</td>\n",
              "      <td>1</td>\n",
              "      <td>1</td>\n",
              "      <td>1</td>\n",
              "      <td>1</td>\n",
              "      <td>1</td>\n",
              "      <td>1</td>\n",
              "      <td>0</td>\n",
              "    </tr>\n",
              "    <tr>\n",
              "      <th>9888</th>\n",
              "      <td>0</td>\n",
              "      <td>0</td>\n",
              "      <td>0</td>\n",
              "      <td>0</td>\n",
              "      <td>0</td>\n",
              "      <td>0</td>\n",
              "      <td>0</td>\n",
              "      <td>0</td>\n",
              "      <td>0</td>\n",
              "      <td>0</td>\n",
              "      <td>...</td>\n",
              "      <td>1</td>\n",
              "      <td>1</td>\n",
              "      <td>1</td>\n",
              "      <td>1</td>\n",
              "      <td>1</td>\n",
              "      <td>1</td>\n",
              "      <td>1</td>\n",
              "      <td>1</td>\n",
              "      <td>1</td>\n",
              "      <td>0</td>\n",
              "    </tr>\n",
              "    <tr>\n",
              "      <th>9889</th>\n",
              "      <td>0</td>\n",
              "      <td>0</td>\n",
              "      <td>0</td>\n",
              "      <td>0</td>\n",
              "      <td>0</td>\n",
              "      <td>0</td>\n",
              "      <td>0</td>\n",
              "      <td>0</td>\n",
              "      <td>0</td>\n",
              "      <td>0</td>\n",
              "      <td>...</td>\n",
              "      <td>0</td>\n",
              "      <td>1</td>\n",
              "      <td>0</td>\n",
              "      <td>1</td>\n",
              "      <td>1</td>\n",
              "      <td>1</td>\n",
              "      <td>1</td>\n",
              "      <td>1</td>\n",
              "      <td>1</td>\n",
              "      <td>0</td>\n",
              "    </tr>\n",
              "    <tr>\n",
              "      <th>9890</th>\n",
              "      <td>0</td>\n",
              "      <td>0</td>\n",
              "      <td>0</td>\n",
              "      <td>0</td>\n",
              "      <td>0</td>\n",
              "      <td>0</td>\n",
              "      <td>0</td>\n",
              "      <td>0</td>\n",
              "      <td>0</td>\n",
              "      <td>0</td>\n",
              "      <td>...</td>\n",
              "      <td>0</td>\n",
              "      <td>1</td>\n",
              "      <td>0</td>\n",
              "      <td>1</td>\n",
              "      <td>1</td>\n",
              "      <td>1</td>\n",
              "      <td>1</td>\n",
              "      <td>0</td>\n",
              "      <td>1</td>\n",
              "      <td>0</td>\n",
              "    </tr>\n",
              "  </tbody>\n",
              "</table>\n",
              "<p>9891 rows × 167 columns</p>\n",
              "</div>\n",
              "      <button class=\"colab-df-convert\" onclick=\"convertToInteractive('df-ba633a9c-7272-408d-8813-84fbe21c60dc')\"\n",
              "              title=\"Convert this dataframe to an interactive table.\"\n",
              "              style=\"display:none;\">\n",
              "        \n",
              "  <svg xmlns=\"http://www.w3.org/2000/svg\" height=\"24px\"viewBox=\"0 0 24 24\"\n",
              "       width=\"24px\">\n",
              "    <path d=\"M0 0h24v24H0V0z\" fill=\"none\"/>\n",
              "    <path d=\"M18.56 5.44l.94 2.06.94-2.06 2.06-.94-2.06-.94-.94-2.06-.94 2.06-2.06.94zm-11 1L8.5 8.5l.94-2.06 2.06-.94-2.06-.94L8.5 2.5l-.94 2.06-2.06.94zm10 10l.94 2.06.94-2.06 2.06-.94-2.06-.94-.94-2.06-.94 2.06-2.06.94z\"/><path d=\"M17.41 7.96l-1.37-1.37c-.4-.4-.92-.59-1.43-.59-.52 0-1.04.2-1.43.59L10.3 9.45l-7.72 7.72c-.78.78-.78 2.05 0 2.83L4 21.41c.39.39.9.59 1.41.59.51 0 1.02-.2 1.41-.59l7.78-7.78 2.81-2.81c.8-.78.8-2.07 0-2.86zM5.41 20L4 18.59l7.72-7.72 1.47 1.35L5.41 20z\"/>\n",
              "  </svg>\n",
              "      </button>\n",
              "      \n",
              "  <style>\n",
              "    .colab-df-container {\n",
              "      display:flex;\n",
              "      flex-wrap:wrap;\n",
              "      gap: 12px;\n",
              "    }\n",
              "\n",
              "    .colab-df-convert {\n",
              "      background-color: #E8F0FE;\n",
              "      border: none;\n",
              "      border-radius: 50%;\n",
              "      cursor: pointer;\n",
              "      display: none;\n",
              "      fill: #1967D2;\n",
              "      height: 32px;\n",
              "      padding: 0 0 0 0;\n",
              "      width: 32px;\n",
              "    }\n",
              "\n",
              "    .colab-df-convert:hover {\n",
              "      background-color: #E2EBFA;\n",
              "      box-shadow: 0px 1px 2px rgba(60, 64, 67, 0.3), 0px 1px 3px 1px rgba(60, 64, 67, 0.15);\n",
              "      fill: #174EA6;\n",
              "    }\n",
              "\n",
              "    [theme=dark] .colab-df-convert {\n",
              "      background-color: #3B4455;\n",
              "      fill: #D2E3FC;\n",
              "    }\n",
              "\n",
              "    [theme=dark] .colab-df-convert:hover {\n",
              "      background-color: #434B5C;\n",
              "      box-shadow: 0px 1px 3px 1px rgba(0, 0, 0, 0.15);\n",
              "      filter: drop-shadow(0px 1px 2px rgba(0, 0, 0, 0.3));\n",
              "      fill: #FFFFFF;\n",
              "    }\n",
              "  </style>\n",
              "\n",
              "      <script>\n",
              "        const buttonEl =\n",
              "          document.querySelector('#df-ba633a9c-7272-408d-8813-84fbe21c60dc button.colab-df-convert');\n",
              "        buttonEl.style.display =\n",
              "          google.colab.kernel.accessAllowed ? 'block' : 'none';\n",
              "\n",
              "        async function convertToInteractive(key) {\n",
              "          const element = document.querySelector('#df-ba633a9c-7272-408d-8813-84fbe21c60dc');\n",
              "          const dataTable =\n",
              "            await google.colab.kernel.invokeFunction('convertToInteractive',\n",
              "                                                     [key], {});\n",
              "          if (!dataTable) return;\n",
              "\n",
              "          const docLinkHtml = 'Like what you see? Visit the ' +\n",
              "            '<a target=\"_blank\" href=https://colab.research.google.com/notebooks/data_table.ipynb>data table notebook</a>'\n",
              "            + ' to learn more about interactive tables.';\n",
              "          element.innerHTML = '';\n",
              "          dataTable['output_type'] = 'display_data';\n",
              "          await google.colab.output.renderOutput(dataTable, element);\n",
              "          const docLink = document.createElement('div');\n",
              "          docLink.innerHTML = docLinkHtml;\n",
              "          element.appendChild(docLink);\n",
              "        }\n",
              "      </script>\n",
              "    </div>\n",
              "  </div>\n",
              "  "
            ]
          },
          "metadata": {},
          "execution_count": 50
        }
      ]
    },
    {
      "cell_type": "code",
      "source": [
        "from sklearn.model_selection import train_test_split\n",
        "Xt_train, Xt_test, Yt_train, Yt_test = train_test_split(df, sxl[\"Target\"],test_size=0.2, random_state=42)"
      ],
      "metadata": {
        "id": "ch8uoenvndIx"
      },
      "execution_count": null,
      "outputs": []
    },
    {
      "cell_type": "code",
      "source": [
        "######################################################################Random_forest (https://www.analyticsvidhya.com/blog/2020/07/10-techniques-to-deal-with-class-imbalance-in-machine-learning/)\n",
        "# load library\n",
        "from sklearn.ensemble import RandomForestClassifier\n",
        "\n",
        "rfc = RandomForestClassifier()\n",
        "\n",
        "# fit the predictor and target\n",
        "rfc.fit(Xt_train, Yt_train)\n",
        "\n",
        "# predict\n",
        "rfc_predict = rfc.predict(Xt_test)# check performance\n"
      ],
      "metadata": {
        "id": "nYysoO4qEVy1"
      },
      "execution_count": null,
      "outputs": []
    },
    {
      "cell_type": "code",
      "source": [
        "# Save Model Using joblib\n",
        "import pandas\n",
        "from sklearn import model_selection\n",
        "from sklearn.linear_model import LogisticRegression\n",
        "import joblib\n",
        "\n",
        "%cd /content/\n",
        "# save the model to disk\n",
        "filename = 'sexualsRandomForest_UMACCS_model.sav'\n",
        "joblib.dump(rfc, filename)\n",
        " \n",
        "# some time later...\n",
        " \n",
        "# load the model from disk\n",
        "loaded_model = joblib.load(filename)\n",
        "result = loaded_model.score(Xt_test, Yt_test)\n",
        "print(result)"
      ],
      "metadata": {
        "id": "LWrdx41Cnz6Y"
      },
      "execution_count": null,
      "outputs": []
    },
    {
      "cell_type": "code",
      "source": [
        "!cp sexualsRandomForest_UMACCS_model.sav /content/drive/MyDrive/PhD/RF_MACCS"
      ],
      "metadata": {
        "id": "xwixRSN6n7K0"
      },
      "execution_count": null,
      "outputs": []
    },
    {
      "cell_type": "code",
      "source": [
        "###Import model\n",
        "#Optional: move to the desired location:\n",
        "%cd /content/drive/MyDrive/PhD/RF_MACCS\n",
        "!ls '/content/drive/MyDrive/PhD/RF_MACCS'"
      ],
      "metadata": {
        "colab": {
          "base_uri": "https://localhost:8080/"
        },
        "id": "ENq6VsgWn3jZ",
        "outputId": "d0862338-024d-4e27-9b9b-a7104612e47d"
      },
      "execution_count": null,
      "outputs": [
        {
          "output_type": "stream",
          "name": "stdout",
          "text": [
            "/content/drive/MyDrive/PhD/RF_MACCS\n",
            "sexualsRandomForest_UMACCS_model.sav\n"
          ]
        }
      ]
    },
    {
      "cell_type": "code",
      "source": [
        "import pandas\n",
        "from sklearn import model_selection\n",
        "from sklearn.linear_model import LogisticRegression\n",
        "import joblib\n",
        "\n",
        "# load the model from disk\n",
        "loaded_model = joblib.load('/content/drive/MyDrive/PhD/RF_MACCS/sexualsRandomForest_UMACCS_model.sav')\n",
        "result = loaded_model.score(Xt_test, Yt_test)\n",
        "print(result)"
      ],
      "metadata": {
        "colab": {
          "base_uri": "https://localhost:8080/"
        },
        "id": "g1YPBp8un0Iq",
        "outputId": "1b83103f-a317-45d2-d501-926785c9d19e"
      },
      "execution_count": null,
      "outputs": [
        {
          "output_type": "stream",
          "name": "stdout",
          "text": [
            "0.9737241030823648\n"
          ]
        }
      ]
    },
    {
      "cell_type": "code",
      "source": [
        "from sklearn.metrics import recall_score, precision_recall_curve,precision_score, confusion_matrix, accuracy_score, f1_score\n",
        "# accuracy: (tp + tn) / (p + n)\n",
        "accuracy = accuracy_score(Yt_test,rfc_predict)\n",
        "print('Accuracy: %f' % accuracy)\n",
        "recall= recall_score(Yt_test,rfc_predict)\n",
        "print(\"Recall %f\" % recall)\n",
        "precision= precision_score(Yt_test,rfc_predict)\n",
        "print(\"precision %f\" % precision)\n",
        "# f1: 2 tp / (2 tp + fp + fn)\n",
        "f1 = f1_score(Yt_test,rfc_predict)\n",
        "print('F1 score: %f' % f1)\n",
        "cm= confusion_matrix(Yt_test,rfc_predict)\n",
        "cm"
      ],
      "metadata": {
        "colab": {
          "base_uri": "https://localhost:8080/"
        },
        "id": "6QjNj3qdnjmg",
        "outputId": "c78decaa-728f-406e-8d10-931cc88070f2"
      },
      "execution_count": null,
      "outputs": [
        {
          "output_type": "stream",
          "name": "stdout",
          "text": [
            "Accuracy: 0.973724\n",
            "Recall 0.743455\n",
            "precision 0.979310\n",
            "F1 score: 0.845238\n"
          ]
        },
        {
          "output_type": "execute_result",
          "data": {
            "text/plain": [
              "array([[1785,    3],\n",
              "       [  49,  142]])"
            ]
          },
          "metadata": {},
          "execution_count": 21
        }
      ]
    },
    {
      "cell_type": "code",
      "source": [
        "from sklearn.metrics import recall_score, precision_recall_curve,precision_score, confusion_matrix, accuracy_score, f1_score, roc_auc_score\n",
        "print('ROCAUC score:',roc_auc_score(Yt_test, rfc_predict))\n",
        "print('Accuracy score:',accuracy_score(Yt_test, rfc_predict))\n",
        "print('F1 score:',f1_score(Yt_test, rfc_predict))"
      ],
      "metadata": {
        "colab": {
          "base_uri": "https://localhost:8080/"
        },
        "id": "x89_mEJxnqjB",
        "outputId": "8cd62c78-227d-45f8-ec03-c69942a29dfb"
      },
      "execution_count": null,
      "outputs": [
        {
          "output_type": "stream",
          "name": "stdout",
          "text": [
            "ROCAUC score: 0.8708888225166027\n",
            "Accuracy score: 0.9737241030823648\n",
            "F1 score: 0.8452380952380952\n"
          ]
        }
      ]
    },
    {
      "cell_type": "code",
      "source": [
        "from sklearn.metrics import recall_score, precision_recall_curve,precision_score, confusion_matrix, accuracy_score, f1_score, roc_auc_score, cohen_kappa_score\n",
        "# kappa\n",
        "kappa = cohen_kappa_score(Yt_test, rfc_predict)\n",
        "print('Cohens kappa: %f' % kappa)\n",
        "# ROC AUC\n",
        "auc = roc_auc_score(Yt_test, rfc_predict)\n",
        "print('ROC AUC: %f' % auc)\n",
        "# confusion matrix\n",
        "matrix = confusion_matrix(Yt_test, rfc_predict)\n",
        "print(matrix)"
      ],
      "metadata": {
        "colab": {
          "base_uri": "https://localhost:8080/"
        },
        "id": "BxsLy-iynwgM",
        "outputId": "a3de0bcf-9453-4969-b6e9-485618a0ffcc"
      },
      "execution_count": null,
      "outputs": [
        {
          "output_type": "stream",
          "name": "stdout",
          "text": [
            "Cohens kappa: 0.831175\n",
            "ROC AUC: 0.870889\n",
            "[[1785    3]\n",
            " [  49  142]]\n"
          ]
        }
      ]
    },
    {
      "cell_type": "code",
      "source": [
        "print('ROCAUC score:',roc_auc_score(Yt_test, rfc_predict))\n",
        "print('Accuracy score:',accuracy_score(Yt_test, rfc_predict))\n",
        "print('F1 score:',f1_score(Yt_test, rfc_predict))"
      ],
      "metadata": {
        "colab": {
          "base_uri": "https://localhost:8080/"
        },
        "id": "qE33gaI6nipL",
        "outputId": "c57b287b-9408-4049-882c-fef3414f9ec8"
      },
      "execution_count": null,
      "outputs": [
        {
          "output_type": "stream",
          "name": "stdout",
          "text": [
            "ROCAUC score: 0.8708888225166027\n",
            "Accuracy score: 0.9737241030823648\n",
            "F1 score: 0.8452380952380952\n"
          ]
        }
      ]
    },
    {
      "cell_type": "code",
      "source": [
        "print(f\"Test Set: {len(Xt_test)}\")\n",
        "print(Yt_test.value_counts())\n",
        "print(matrix)"
      ],
      "metadata": {
        "colab": {
          "base_uri": "https://localhost:8080/"
        },
        "id": "iAXL4ZfIq29T",
        "outputId": "9335754d-412d-4557-d954-588de974279e"
      },
      "execution_count": null,
      "outputs": [
        {
          "output_type": "stream",
          "name": "stdout",
          "text": [
            "Test Set: 1979\n",
            "0    1788\n",
            "1     191\n",
            "Name: Target, dtype: int64\n",
            "[[1785    3]\n",
            " [  49  142]]\n"
          ]
        }
      ]
    },
    {
      "cell_type": "code",
      "source": [
        "##################################################Cross validation kfold=10\n",
        "from sklearn.ensemble import RandomForestClassifier\n",
        "\n",
        "rfc = RandomForestClassifier()\n",
        "\n",
        "# fit the predictor and target\n",
        "fit=rfc.fit(Xt_train, Yt_train)\n",
        "\n",
        "# predict\n",
        "rfc_predict = rfc.predict(Xt_test)# check performance\n"
      ],
      "metadata": {
        "id": "khhcriCRuEfr"
      },
      "execution_count": null,
      "outputs": []
    },
    {
      "cell_type": "code",
      "source": [
        "from sklearn.model_selection import cross_val_score\n",
        "scores = cross_val_score(rfc,Xt_train, Yt_train, cv=10)"
      ],
      "metadata": {
        "id": "kPi5xq-suEia"
      },
      "execution_count": null,
      "outputs": []
    },
    {
      "cell_type": "code",
      "source": [
        "print(\"%0.2f accuracy with a standard deviation of %0.2f\" % (scores.mean(), scores.std()))"
      ],
      "metadata": {
        "colab": {
          "base_uri": "https://localhost:8080/"
        },
        "id": "O8_wQV_duEl4",
        "outputId": "632b2240-c59e-47c0-f7b6-f5f0cea7c27a"
      },
      "execution_count": null,
      "outputs": [
        {
          "output_type": "stream",
          "name": "stdout",
          "text": [
            "0.98 accuracy with a standard deviation of 0.00\n"
          ]
        }
      ]
    },
    {
      "cell_type": "markdown",
      "source": [
        "# Hyperparameter Tuning\n",
        "\n",
        "---\n",
        "\n",
        "Random Forest Hyperparameters we’ll be Looking at:\n",
        "\n",
        "*   max_depth\n",
        "*   min_sample_split\n",
        "*   max_leaf_nodes\n",
        "*   min_samples_leaf\n",
        "*   n_estimators\n",
        "*   max_sample (bootstrap sample)\n",
        "*   max_features\n",
        "---\n",
        "https://analyticsindiamag.com/guide-to-hyperparameters-tuning-using-gridsearchcv-and-randomizedsearchcv/\n",
        "https://www.analyticsvidhya.com/blog/2021/06/tune-hyperparameters-with-gridsearchcv/\n",
        "https://www.analyticsvidhya.com/blog/2021/03/introduction-to-random-forest-and-its-hyper-parameters/\n",
        "https://www.analyticsvidhya.com/blog/2020/03/beginners-guide-random-forest-hyperparameter-tuning/\n",
        "https://scikit-learn.org/stable/auto_examples/ensemble/plot_forest_iris.html\n"
      ],
      "metadata": {
        "id": "GdwVz0S0ttk8"
      }
    },
    {
      "cell_type": "code",
      "source": [
        "import pandas as pd\n",
        "\n",
        "from sklearn.ensemble import RandomForestClassifier\n",
        "\n",
        "from sklearn.model_selection import train_test_split\n",
        "\n",
        "from sklearn.model_selection import GridSearchCV\n",
        "\n",
        "from sklearn import metrics\n",
        "\n",
        "import warnings\n",
        "\n",
        "warnings.filterwarnings('ignore')"
      ],
      "metadata": {
        "id": "ALv-kInytxyh"
      },
      "execution_count": null,
      "outputs": []
    },
    {
      "cell_type": "code",
      "source": [
        "from sklearn.model_selection import train_test_split\n",
        "Xt_train, Xt_test, Yt_train, Yt_test = train_test_split(df, sxl[\"Target\"],test_size=0.2, random_state=42)"
      ],
      "metadata": {
        "id": "iVzCz2fMvMpU"
      },
      "execution_count": null,
      "outputs": []
    },
    {
      "cell_type": "code",
      "source": [
        "forest_params = [{'max_depth': list(range(10, 15)), \n",
        "                  'max_features': ['auto', 'log2'], #'max_features': list(range(0,14))\n",
        "                  'bootstrap': [True],\n",
        "                  'n_estimators': [5, 6, 7, 8, 9, 10, 11, 12, 13, 15],\n",
        "                  }]\n",
        "\n",
        "rfc = RandomForestClassifier()\n",
        "\n",
        "clf = GridSearchCV(rfc, forest_params, cv = 10, scoring='accuracy')\n",
        "\n",
        "clf.fit(Xt_train, Yt_train)"
      ],
      "metadata": {
        "id": "KycXwDCCtx1Z",
        "colab": {
          "base_uri": "https://localhost:8080/"
        },
        "outputId": "be4555ea-e64a-4b48-e5fc-b56b9a929e1d"
      },
      "execution_count": null,
      "outputs": [
        {
          "output_type": "execute_result",
          "data": {
            "text/plain": [
              "GridSearchCV(cv=10, estimator=RandomForestClassifier(),\n",
              "             param_grid=[{'bootstrap': [True],\n",
              "                          'max_depth': [10, 11, 12, 13, 14],\n",
              "                          'max_features': ['auto', 'log2'],\n",
              "                          'n_estimators': [5, 6, 7, 8, 9, 10, 11, 12, 13, 15]}],\n",
              "             scoring='accuracy')"
            ]
          },
          "metadata": {},
          "execution_count": 17
        }
      ]
    },
    {
      "cell_type": "code",
      "source": [
        "print(clf.best_params_)\n",
        "print(clf.best_score_)"
      ],
      "metadata": {
        "id": "zr_xkud6tx6R",
        "colab": {
          "base_uri": "https://localhost:8080/"
        },
        "outputId": "f9f79016-9cb7-4179-f305-296255276600"
      },
      "execution_count": null,
      "outputs": [
        {
          "output_type": "stream",
          "name": "stdout",
          "text": [
            "{'bootstrap': True, 'max_depth': 14, 'max_features': 'auto', 'n_estimators': 10}\n",
            "0.9720677061385026\n"
          ]
        }
      ]
    },
    {
      "cell_type": "code",
      "source": [
        "#Load model\n",
        "from sklearn.ensemble import RandomForestClassifier\n",
        "\n",
        "rfc = RandomForestClassifier(bootstrap= True, max_depth= 14,max_features= 'auto', n_estimators= 10,random_state=0)\n",
        "\n",
        "# fit the predictor and target\n",
        "fit=rfc.fit(Xt_train, Yt_train)\n",
        "\n",
        "# predict\n",
        "rf_predict = rfc.predict(Xt_test)# check performance\n",
        "#/usr/local/lib/python3.9/dist-packages/sklearn/ensemble/_forest.py:424: FutureWarning: `max_features='auto'` has been deprecated in 1.1 and will be removed in 1.3. To keep the past behaviour, explicitly set `max_features='sqrt'` or remove this parameter as it is also the default value for RandomForestClassifiers and ExtraTreesClassifiers.\n"
      ],
      "metadata": {
        "colab": {
          "base_uri": "https://localhost:8080/"
        },
        "id": "ckKQyDIYPecE",
        "outputId": "9a0db5af-1ff1-49b8-88bb-aae2ad368e90"
      },
      "execution_count": null,
      "outputs": [
        {
          "output_type": "stream",
          "name": "stderr",
          "text": [
            "/usr/local/lib/python3.9/dist-packages/sklearn/ensemble/_forest.py:424: FutureWarning: `max_features='auto'` has been deprecated in 1.1 and will be removed in 1.3. To keep the past behaviour, explicitly set `max_features='sqrt'` or remove this parameter as it is also the default value for RandomForestClassifiers and ExtraTreesClassifiers.\n",
            "  warn(\n"
          ]
        }
      ]
    },
    {
      "cell_type": "code",
      "source": [
        "from sklearn.metrics import recall_score, precision_recall_curve,precision_score, confusion_matrix, accuracy_score, f1_score\n",
        "# accuracy: (tp + tn) / (p + n)\n",
        "accuracy = accuracy_score(Yt_test,rf_predict)\n",
        "print('Accuracy: %f' % accuracy)\n",
        "recall= recall_score(Yt_test,rf_predict)\n",
        "print(\"Recall %f\" % recall)\n",
        "precision= precision_score(Yt_test,rf_predict)\n",
        "print(\"precision %f\" % precision)\n",
        "# f1: 2 tp / (2 tp + fp + fn)\n",
        "f1 = f1_score(Yt_test,rf_predict)\n",
        "print('F1 score: %f' % f1)\n",
        "cm= confusion_matrix(Yt_test,rf_predict)\n",
        "from sklearn.metrics import recall_score, precision_recall_curve,precision_score, confusion_matrix, accuracy_score, f1_score, roc_auc_score\n",
        "print('ROCAUC score:',roc_auc_score(Yt_test, rf_predict))\n",
        "print('Accuracy score:',accuracy_score(Yt_test, rf_predict))\n",
        "print('F1 score:',f1_score(Yt_test, rf_predict))\n",
        "from sklearn.metrics import recall_score, precision_recall_curve,precision_score, confusion_matrix, accuracy_score, f1_score, roc_auc_score, cohen_kappa_score\n",
        "# kappa\n",
        "kappa = cohen_kappa_score(Yt_test, rf_predict)\n",
        "print('Cohens kappa: %f' % kappa)\n",
        "# ROC AUC\n",
        "auc = roc_auc_score(Yt_test, rf_predict)\n",
        "print('ROC AUC: %f' % auc)\n",
        "# confusion matrix\n",
        "matrix = confusion_matrix(Yt_test, rf_predict)\n",
        "print(matrix)\n",
        "\n",
        "from sklearn.model_selection import cross_val_score\n",
        "scores = cross_val_score(rfc,Xt_train, Yt_train, cv=10)\n",
        "print(\"%0.2f accuracy with a standard deviation of %0.2f\" % (scores.mean(), scores.std()))\n",
        "print(scores.mean())\n",
        "print(scores.std())"
      ],
      "metadata": {
        "colab": {
          "base_uri": "https://localhost:8080/"
        },
        "id": "NyfgiLD_PtS2",
        "outputId": "518162d5-081e-4a57-fe4e-c44279821736"
      },
      "execution_count": null,
      "outputs": [
        {
          "output_type": "stream",
          "name": "stdout",
          "text": [
            "Accuracy: 0.969176\n",
            "Recall 0.706806\n",
            "precision 0.964286\n",
            "F1 score: 0.815710\n",
            "ROCAUC score: 0.8520049310704289\n",
            "Accuracy score: 0.9691763516927742\n",
            "F1 score: 0.8157099697885197\n",
            "Cohens kappa: 0.799326\n",
            "ROC AUC: 0.852005\n",
            "[[1783    5]\n",
            " [  56  135]]\n"
          ]
        },
        {
          "output_type": "stream",
          "name": "stderr",
          "text": [
            "/usr/local/lib/python3.9/dist-packages/sklearn/ensemble/_forest.py:424: FutureWarning: `max_features='auto'` has been deprecated in 1.1 and will be removed in 1.3. To keep the past behaviour, explicitly set `max_features='sqrt'` or remove this parameter as it is also the default value for RandomForestClassifiers and ExtraTreesClassifiers.\n",
            "  warn(\n",
            "/usr/local/lib/python3.9/dist-packages/sklearn/ensemble/_forest.py:424: FutureWarning: `max_features='auto'` has been deprecated in 1.1 and will be removed in 1.3. To keep the past behaviour, explicitly set `max_features='sqrt'` or remove this parameter as it is also the default value for RandomForestClassifiers and ExtraTreesClassifiers.\n",
            "  warn(\n",
            "/usr/local/lib/python3.9/dist-packages/sklearn/ensemble/_forest.py:424: FutureWarning: `max_features='auto'` has been deprecated in 1.1 and will be removed in 1.3. To keep the past behaviour, explicitly set `max_features='sqrt'` or remove this parameter as it is also the default value for RandomForestClassifiers and ExtraTreesClassifiers.\n",
            "  warn(\n",
            "/usr/local/lib/python3.9/dist-packages/sklearn/ensemble/_forest.py:424: FutureWarning: `max_features='auto'` has been deprecated in 1.1 and will be removed in 1.3. To keep the past behaviour, explicitly set `max_features='sqrt'` or remove this parameter as it is also the default value for RandomForestClassifiers and ExtraTreesClassifiers.\n",
            "  warn(\n",
            "/usr/local/lib/python3.9/dist-packages/sklearn/ensemble/_forest.py:424: FutureWarning: `max_features='auto'` has been deprecated in 1.1 and will be removed in 1.3. To keep the past behaviour, explicitly set `max_features='sqrt'` or remove this parameter as it is also the default value for RandomForestClassifiers and ExtraTreesClassifiers.\n",
            "  warn(\n",
            "/usr/local/lib/python3.9/dist-packages/sklearn/ensemble/_forest.py:424: FutureWarning: `max_features='auto'` has been deprecated in 1.1 and will be removed in 1.3. To keep the past behaviour, explicitly set `max_features='sqrt'` or remove this parameter as it is also the default value for RandomForestClassifiers and ExtraTreesClassifiers.\n",
            "  warn(\n",
            "/usr/local/lib/python3.9/dist-packages/sklearn/ensemble/_forest.py:424: FutureWarning: `max_features='auto'` has been deprecated in 1.1 and will be removed in 1.3. To keep the past behaviour, explicitly set `max_features='sqrt'` or remove this parameter as it is also the default value for RandomForestClassifiers and ExtraTreesClassifiers.\n",
            "  warn(\n",
            "/usr/local/lib/python3.9/dist-packages/sklearn/ensemble/_forest.py:424: FutureWarning: `max_features='auto'` has been deprecated in 1.1 and will be removed in 1.3. To keep the past behaviour, explicitly set `max_features='sqrt'` or remove this parameter as it is also the default value for RandomForestClassifiers and ExtraTreesClassifiers.\n",
            "  warn(\n"
          ]
        },
        {
          "output_type": "stream",
          "name": "stdout",
          "text": [
            "0.97 accuracy with a standard deviation of 0.00\n",
            "0.9691611117496073\n",
            "0.0031541942416384167\n"
          ]
        },
        {
          "output_type": "stream",
          "name": "stderr",
          "text": [
            "/usr/local/lib/python3.9/dist-packages/sklearn/ensemble/_forest.py:424: FutureWarning: `max_features='auto'` has been deprecated in 1.1 and will be removed in 1.3. To keep the past behaviour, explicitly set `max_features='sqrt'` or remove this parameter as it is also the default value for RandomForestClassifiers and ExtraTreesClassifiers.\n",
            "  warn(\n",
            "/usr/local/lib/python3.9/dist-packages/sklearn/ensemble/_forest.py:424: FutureWarning: `max_features='auto'` has been deprecated in 1.1 and will be removed in 1.3. To keep the past behaviour, explicitly set `max_features='sqrt'` or remove this parameter as it is also the default value for RandomForestClassifiers and ExtraTreesClassifiers.\n",
            "  warn(\n"
          ]
        }
      ]
    },
    {
      "cell_type": "code",
      "source": [
        "# Save Model Using joblib\n",
        "import pandas\n",
        "from sklearn import model_selection\n",
        "import joblib\n",
        "\n",
        "%cd /content/\n",
        "# save the model to disk\n",
        "filename = 'sexualsRF_HPTFinal_UMACCS_model.pkl'\n",
        "joblib.dump(rfc, filename)\n",
        " \n",
        "# some time later...\n",
        " \n",
        "# load the model from disk\n",
        "loaded_model = joblib.load(filename)\n",
        "result = loaded_model.score(Xt_test, Yt_test)\n",
        "print(result)"
      ],
      "metadata": {
        "colab": {
          "base_uri": "https://localhost:8080/"
        },
        "id": "DDGQQ6f6QTCn",
        "outputId": "308b4dd0-a85b-49d4-a482-63aedd88341d"
      },
      "execution_count": null,
      "outputs": [
        {
          "output_type": "stream",
          "name": "stdout",
          "text": [
            "/content\n",
            "0.9691763516927742\n"
          ]
        }
      ]
    },
    {
      "cell_type": "code",
      "source": [
        "!cp 'sexualsRF_HPTFinal_UMACCS_model.pkl' /content/drive/MyDrive/PhD/RF_MACCS"
      ],
      "metadata": {
        "id": "yr4n7LUwQfju"
      },
      "execution_count": null,
      "outputs": []
    },
    {
      "cell_type": "code",
      "source": [
        "# predict\n",
        "clf_predict = clf.predict(Xt_test)# check performance"
      ],
      "metadata": {
        "id": "KL_YFZoMpfev"
      },
      "execution_count": null,
      "outputs": []
    },
    {
      "cell_type": "code",
      "source": [
        "from sklearn.model_selection import cross_val_score\n",
        "scores = cross_val_score(clf,Xt_train, Yt_train, cv=10)"
      ],
      "metadata": {
        "id": "amHeUR8wpsCp"
      },
      "execution_count": null,
      "outputs": []
    },
    {
      "cell_type": "code",
      "source": [
        "print(\"%0.2f accuracy with a standard deviation of %0.2f\" % (scores.mean(), scores.std()))"
      ],
      "metadata": {
        "colab": {
          "base_uri": "https://localhost:8080/"
        },
        "outputId": "014b1b05-66a0-47bf-b8f9-493f25132be3",
        "id": "EjClbd_vpsCq"
      },
      "execution_count": null,
      "outputs": [
        {
          "output_type": "stream",
          "name": "stdout",
          "text": [
            "0.97 accuracy with a standard deviation of 0.00\n"
          ]
        }
      ]
    },
    {
      "cell_type": "code",
      "source": [
        "print(scores.mean())\n",
        "print(scores.std())"
      ],
      "metadata": {
        "colab": {
          "base_uri": "https://localhost:8080/"
        },
        "id": "MLFNKm_stqbg",
        "outputId": "429d85b9-5374-402f-9823-57dc4cb720a9"
      },
      "execution_count": null,
      "outputs": [
        {
          "output_type": "stream",
          "name": "stdout",
          "text": [
            "0.970172170504029\n",
            "0.002473447724899322\n"
          ]
        }
      ]
    },
    {
      "cell_type": "code",
      "source": [
        "from sklearn.metrics import recall_score, precision_recall_curve,precision_score, confusion_matrix, accuracy_score, f1_score\n",
        "# accuracy: (tp + tn) / (p + n)\n",
        "accuracy = accuracy_score(Yt_test,clf_predict)\n",
        "print('Accuracy: %f' % accuracy)\n",
        "recall= recall_score(Yt_test,clf_predict)\n",
        "print(\"Recall %f\" % recall)\n",
        "precision= precision_score(Yt_test,clf_predict)\n",
        "print(\"precision %f\" % precision)\n",
        "# f1: 2 tp / (2 tp + fp + fn)\n",
        "f1 = f1_score(Yt_test,clf_predict)\n",
        "print('F1 score: %f' % f1)\n",
        "cm= confusion_matrix(Yt_test,clf_predict)\n",
        "cm"
      ],
      "metadata": {
        "id": "6mF24-NnvZDX",
        "colab": {
          "base_uri": "https://localhost:8080/"
        },
        "outputId": "7050fece-93aa-46bf-a1ad-d509b5eb873f"
      },
      "execution_count": null,
      "outputs": [
        {
          "output_type": "stream",
          "name": "stdout",
          "text": [
            "Accuracy: 0.966145\n",
            "Recall 0.680628\n",
            "precision 0.955882\n",
            "F1 score: 0.795107\n"
          ]
        },
        {
          "output_type": "execute_result",
          "data": {
            "text/plain": [
              "array([[1782,    6],\n",
              "       [  61,  130]])"
            ]
          },
          "metadata": {},
          "execution_count": 22
        }
      ]
    },
    {
      "cell_type": "code",
      "source": [
        "from sklearn.metrics import recall_score, precision_recall_curve,precision_score, confusion_matrix, accuracy_score, f1_score, roc_auc_score\n",
        "print('ROCAUC score:',roc_auc_score(Yt_test, clf_predict))\n",
        "print('Accuracy score:',accuracy_score(Yt_test, clf_predict))\n",
        "print('F1 score:',f1_score(Yt_test, clf_predict))"
      ],
      "metadata": {
        "colab": {
          "base_uri": "https://localhost:8080/"
        },
        "outputId": "4edee922-ca98-40cb-80a0-2f41f198ef06",
        "id": "KWQNPP7rpsCr"
      },
      "execution_count": null,
      "outputs": [
        {
          "output_type": "stream",
          "name": "stdout",
          "text": [
            "ROCAUC score: 0.8386362837766612\n",
            "Accuracy score: 0.966144517433047\n",
            "F1 score: 0.7951070336391438\n"
          ]
        }
      ]
    },
    {
      "cell_type": "code",
      "source": [
        "from sklearn.metrics import recall_score, precision_recall_curve,precision_score, confusion_matrix, accuracy_score, f1_score, roc_auc_score, cohen_kappa_score\n",
        "# kappa\n",
        "kappa = cohen_kappa_score(Yt_test, clf_predict)\n",
        "print('Cohens kappa: %f' % kappa)\n",
        "# ROC AUC\n",
        "auc = roc_auc_score(Yt_test, clf_predict)\n",
        "print('ROC AUC: %f' % auc)\n",
        "# confusion matrix\n",
        "matrix = confusion_matrix(Yt_test, clf_predict)\n",
        "print(matrix)"
      ],
      "metadata": {
        "colab": {
          "base_uri": "https://localhost:8080/"
        },
        "outputId": "72b0da92-98ea-409a-e228-76bd92c1ff6c",
        "id": "zmdcBBldpsCs"
      },
      "execution_count": null,
      "outputs": [
        {
          "output_type": "stream",
          "name": "stdout",
          "text": [
            "Cohens kappa: 0.777222\n",
            "ROC AUC: 0.838636\n",
            "[[1782    6]\n",
            " [  61  130]]\n"
          ]
        }
      ]
    },
    {
      "cell_type": "code",
      "source": [
        "print(f\"Test Set: {len(Xt_test)}\")\n",
        "print(Yt_test.value_counts())\n",
        "print(matrix)"
      ],
      "metadata": {
        "colab": {
          "base_uri": "https://localhost:8080/"
        },
        "outputId": "1577321e-65f3-4ebe-e471-a3252853648a",
        "id": "1UAqXp0cpsCs"
      },
      "execution_count": null,
      "outputs": [
        {
          "output_type": "stream",
          "name": "stdout",
          "text": [
            "Test Set: 1979\n",
            "0    1788\n",
            "1     191\n",
            "Name: Target, dtype: int64\n",
            "[[1782    6]\n",
            " [  61  130]]\n"
          ]
        }
      ]
    },
    {
      "cell_type": "code",
      "source": [
        "# Save Model Using joblib\n",
        "import pandas\n",
        "from sklearn import model_selection\n",
        "from sklearn.linear_model import LogisticRegression\n",
        "import joblib\n",
        "\n",
        "%cd /content/\n",
        "# save the model to disk\n",
        "filename = 'sexualsRandomForestFinalizedhpt_UMACCS_model.sav'\n",
        "joblib.dump(clf, filename)\n",
        " \n",
        "# some time later...\n",
        " \n",
        "# load the model from disk\n",
        "loaded_model = joblib.load(filename)\n",
        "result = loaded_model.score(Xt_test, Yt_test)\n",
        "print(result)"
      ],
      "metadata": {
        "colab": {
          "base_uri": "https://localhost:8080/"
        },
        "id": "ezjpVwUWuXNl",
        "outputId": "70405650-87fe-44ae-e335-d9119468e838"
      },
      "execution_count": null,
      "outputs": [
        {
          "output_type": "stream",
          "name": "stdout",
          "text": [
            "/content\n",
            "0.966144517433047\n"
          ]
        }
      ]
    },
    {
      "cell_type": "code",
      "source": [
        "!cp sexualsRandomForestFinalizedhpt_UMACCS_model.sav /content/drive/MyDrive/PhD/RF_MACCS"
      ],
      "metadata": {
        "id": "daTlqUW8uXNn"
      },
      "execution_count": null,
      "outputs": []
    },
    {
      "cell_type": "code",
      "source": [
        "###Import model\n",
        "#Optional: move to the desired location:\n",
        "%cd /content/drive/MyDrive/PhD/RF_MACCS\n",
        "!ls '/content/drive/MyDrive/PhD/RF_MACCS'"
      ],
      "metadata": {
        "colab": {
          "base_uri": "https://localhost:8080/"
        },
        "outputId": "52a5bec4-c3fe-47f6-9c7e-c026994b3991",
        "id": "otaVXhpjuXNn"
      },
      "execution_count": null,
      "outputs": [
        {
          "output_type": "stream",
          "name": "stdout",
          "text": [
            "/content/drive/MyDrive/PhD/RF_MACCS\n",
            "sexualsRandomForestFinalizedhpt_UMACCS_model.sav\n",
            "sexualsRandomForest_UMACCS_model.sav\n"
          ]
        }
      ]
    },
    {
      "cell_type": "code",
      "source": [
        "import pandas\n",
        "from sklearn import model_selection\n",
        "from sklearn.linear_model import LogisticRegression\n",
        "import joblib\n",
        "\n",
        "# load the model from disk\n",
        "loaded_model = joblib.load('/content/drive/MyDrive/PhD/RF_MACCS/sexualsRandomForestFinalizedhpt_UMACCS_model.sav')\n",
        "result = loaded_model.score(Xt_test, Yt_test)\n",
        "print(result)"
      ],
      "metadata": {
        "colab": {
          "base_uri": "https://localhost:8080/"
        },
        "outputId": "55252851-0e59-488a-9511-d90fa09b94e3",
        "id": "qVmI6pCJuXNo"
      },
      "execution_count": null,
      "outputs": [
        {
          "output_type": "stream",
          "name": "stdout",
          "text": [
            "0.966144517433047\n"
          ]
        }
      ]
    },
    {
      "cell_type": "markdown",
      "source": [
        "# Feature Importance extraction\n",
        "\n",
        "---\n",
        "Feature importances are provided by the fitted attribute feature_importances_ and they are computed as the mean and standard deviation of accumulation of the impurity decrease within each tree.\n",
        "\n",
        "\n",
        "https://scikit-learn.org/stable/auto_examples/ensemble/plot_forest_importances.html\n",
        "\n",
        "---\n",
        "\n"
      ],
      "metadata": {
        "id": "_m3Av2Q7sUdJ"
      }
    },
    {
      "cell_type": "code",
      "source": [
        "#Load model\n",
        "\n",
        "from sklearn.ensemble import RandomForestClassifier\n",
        "load_model = RandomForestClassifier(bootstrap= True, max_depth= 14,max_features= 'auto', n_estimators= 10,random_state=0)\n",
        "load_model.fit(Xt_train, Yt_train)"
      ],
      "metadata": {
        "id": "QXKFegAJsaqc",
        "colab": {
          "base_uri": "https://localhost:8080/"
        },
        "outputId": "26a7d1ed-4f51-44c9-833e-099d1f29f45a"
      },
      "execution_count": null,
      "outputs": [
        {
          "output_type": "execute_result",
          "data": {
            "text/plain": [
              "RandomForestClassifier(max_depth=14, n_estimators=10, random_state=0)"
            ]
          },
          "metadata": {},
          "execution_count": 21
        }
      ]
    },
    {
      "cell_type": "code",
      "source": [
        "# Save Model Using joblib\n",
        "import pandas\n",
        "from sklearn import model_selection\n",
        "from sklearn.linear_model import LogisticRegression\n",
        "import joblib\n",
        "\n",
        "%cd /content/\n",
        "# save the model to disk\n",
        "filename = 'sexualsRandomForestFinalizedhpt2_UMACCS_model.sav'\n",
        "joblib.dump(load_model, filename)\n",
        " \n",
        "# some time later...\n",
        " \n",
        "# load the model from disk\n",
        "loaded_model = joblib.load(filename)\n",
        "result = loaded_model.score(Xt_test, Yt_test)\n",
        "print(result)"
      ],
      "metadata": {
        "colab": {
          "base_uri": "https://localhost:8080/"
        },
        "outputId": "4c03aee7-c59f-4596-b817-e43180794309",
        "id": "nPjCGv4nBaSm"
      },
      "execution_count": null,
      "outputs": [
        {
          "output_type": "stream",
          "name": "stdout",
          "text": [
            "/content\n",
            "0.9691763516927742\n"
          ]
        }
      ]
    },
    {
      "cell_type": "code",
      "source": [
        "!cp sexualsRandomForestFinalizedhpt2_UMACCS_model.sav /content/drive/MyDrive/PhD/RF_MACCS"
      ],
      "metadata": {
        "id": "yQ2fmtZwBaSo"
      },
      "execution_count": null,
      "outputs": []
    },
    {
      "cell_type": "code",
      "source": [
        "###Import model\n",
        "#Optional: move to the desired location:\n",
        "%cd /content/drive/MyDrive/PhD/RF_MACCS\n",
        "!ls '/content/drive/MyDrive/PhD/RF_MACCS'"
      ],
      "metadata": {
        "colab": {
          "base_uri": "https://localhost:8080/"
        },
        "outputId": "64eac4d9-f3ea-4261-b09a-0f004d171f5a",
        "id": "WkBkQ1Y-BaSq"
      },
      "execution_count": null,
      "outputs": [
        {
          "output_type": "stream",
          "name": "stdout",
          "text": [
            "/content/drive/MyDrive/PhD/RF_MACCS\n",
            "sexualsRandomForestFinalizedhpt2_UMACCS_model.sav\n",
            "sexualsRandomForestFinalizedhpt_UMACCS_model.sav\n",
            "sexualsRandomForest_UMACCS_model.sav\n"
          ]
        }
      ]
    },
    {
      "cell_type": "code",
      "source": [
        "import pandas\n",
        "from sklearn import model_selection\n",
        "from sklearn.linear_model import LogisticRegression\n",
        "import joblib\n",
        "\n",
        "# load the model from disk\n",
        "loaded_model = joblib.load('/content/drive/MyDrive/PhD/RF_MACCS/sexualsRandomForestFinalizedhpt2_UMACCS_model.sav')\n",
        "result = loaded_model.score(Xt_test, Yt_test)\n",
        "print(result)"
      ],
      "metadata": {
        "colab": {
          "base_uri": "https://localhost:8080/"
        },
        "outputId": "71b47a79-8221-4bf4-fa69-7f0610c59e3f",
        "id": "mSN-rhT7BaSr"
      },
      "execution_count": null,
      "outputs": [
        {
          "output_type": "stream",
          "name": "stdout",
          "text": [
            "0.9691763516927742\n"
          ]
        }
      ]
    },
    {
      "cell_type": "code",
      "source": [
        "#Replace numbers with chemical info"
      ],
      "metadata": {
        "id": "TuaXBSC2satn"
      },
      "execution_count": null,
      "outputs": []
    },
    {
      "cell_type": "code",
      "source": [
        "#Feature importance\n",
        "feature_names = [f\"feature {i}\" for i in range(Xt_train.shape[1])]"
      ],
      "metadata": {
        "id": "wfXVLfvbsa79"
      },
      "execution_count": null,
      "outputs": []
    },
    {
      "cell_type": "code",
      "source": [
        "feature_names"
      ],
      "metadata": {
        "id": "qFex70pUsbKI",
        "colab": {
          "base_uri": "https://localhost:8080/"
        },
        "outputId": "b73d9e34-dbde-4f9f-828f-a76ba948c055"
      },
      "execution_count": null,
      "outputs": [
        {
          "output_type": "execute_result",
          "data": {
            "text/plain": [
              "['feature 0',\n",
              " 'feature 1',\n",
              " 'feature 2',\n",
              " 'feature 3',\n",
              " 'feature 4',\n",
              " 'feature 5',\n",
              " 'feature 6',\n",
              " 'feature 7',\n",
              " 'feature 8',\n",
              " 'feature 9',\n",
              " 'feature 10',\n",
              " 'feature 11',\n",
              " 'feature 12',\n",
              " 'feature 13',\n",
              " 'feature 14',\n",
              " 'feature 15',\n",
              " 'feature 16',\n",
              " 'feature 17',\n",
              " 'feature 18',\n",
              " 'feature 19',\n",
              " 'feature 20',\n",
              " 'feature 21',\n",
              " 'feature 22',\n",
              " 'feature 23',\n",
              " 'feature 24',\n",
              " 'feature 25',\n",
              " 'feature 26',\n",
              " 'feature 27',\n",
              " 'feature 28',\n",
              " 'feature 29',\n",
              " 'feature 30',\n",
              " 'feature 31',\n",
              " 'feature 32',\n",
              " 'feature 33',\n",
              " 'feature 34',\n",
              " 'feature 35',\n",
              " 'feature 36',\n",
              " 'feature 37',\n",
              " 'feature 38',\n",
              " 'feature 39',\n",
              " 'feature 40',\n",
              " 'feature 41',\n",
              " 'feature 42',\n",
              " 'feature 43',\n",
              " 'feature 44',\n",
              " 'feature 45',\n",
              " 'feature 46',\n",
              " 'feature 47',\n",
              " 'feature 48',\n",
              " 'feature 49',\n",
              " 'feature 50',\n",
              " 'feature 51',\n",
              " 'feature 52',\n",
              " 'feature 53',\n",
              " 'feature 54',\n",
              " 'feature 55',\n",
              " 'feature 56',\n",
              " 'feature 57',\n",
              " 'feature 58',\n",
              " 'feature 59',\n",
              " 'feature 60',\n",
              " 'feature 61',\n",
              " 'feature 62',\n",
              " 'feature 63',\n",
              " 'feature 64',\n",
              " 'feature 65',\n",
              " 'feature 66',\n",
              " 'feature 67',\n",
              " 'feature 68',\n",
              " 'feature 69',\n",
              " 'feature 70',\n",
              " 'feature 71',\n",
              " 'feature 72',\n",
              " 'feature 73',\n",
              " 'feature 74',\n",
              " 'feature 75',\n",
              " 'feature 76',\n",
              " 'feature 77',\n",
              " 'feature 78',\n",
              " 'feature 79',\n",
              " 'feature 80',\n",
              " 'feature 81',\n",
              " 'feature 82',\n",
              " 'feature 83',\n",
              " 'feature 84',\n",
              " 'feature 85',\n",
              " 'feature 86',\n",
              " 'feature 87',\n",
              " 'feature 88',\n",
              " 'feature 89',\n",
              " 'feature 90',\n",
              " 'feature 91',\n",
              " 'feature 92',\n",
              " 'feature 93',\n",
              " 'feature 94',\n",
              " 'feature 95',\n",
              " 'feature 96',\n",
              " 'feature 97',\n",
              " 'feature 98',\n",
              " 'feature 99',\n",
              " 'feature 100',\n",
              " 'feature 101',\n",
              " 'feature 102',\n",
              " 'feature 103',\n",
              " 'feature 104',\n",
              " 'feature 105',\n",
              " 'feature 106',\n",
              " 'feature 107',\n",
              " 'feature 108',\n",
              " 'feature 109',\n",
              " 'feature 110',\n",
              " 'feature 111',\n",
              " 'feature 112',\n",
              " 'feature 113',\n",
              " 'feature 114',\n",
              " 'feature 115',\n",
              " 'feature 116',\n",
              " 'feature 117',\n",
              " 'feature 118',\n",
              " 'feature 119',\n",
              " 'feature 120',\n",
              " 'feature 121',\n",
              " 'feature 122',\n",
              " 'feature 123',\n",
              " 'feature 124',\n",
              " 'feature 125',\n",
              " 'feature 126',\n",
              " 'feature 127',\n",
              " 'feature 128',\n",
              " 'feature 129',\n",
              " 'feature 130',\n",
              " 'feature 131',\n",
              " 'feature 132',\n",
              " 'feature 133',\n",
              " 'feature 134',\n",
              " 'feature 135',\n",
              " 'feature 136',\n",
              " 'feature 137',\n",
              " 'feature 138',\n",
              " 'feature 139',\n",
              " 'feature 140',\n",
              " 'feature 141',\n",
              " 'feature 142',\n",
              " 'feature 143',\n",
              " 'feature 144',\n",
              " 'feature 145',\n",
              " 'feature 146',\n",
              " 'feature 147',\n",
              " 'feature 148',\n",
              " 'feature 149',\n",
              " 'feature 150',\n",
              " 'feature 151',\n",
              " 'feature 152',\n",
              " 'feature 153',\n",
              " 'feature 154',\n",
              " 'feature 155',\n",
              " 'feature 156',\n",
              " 'feature 157',\n",
              " 'feature 158',\n",
              " 'feature 159',\n",
              " 'feature 160',\n",
              " 'feature 161',\n",
              " 'feature 162',\n",
              " 'feature 163',\n",
              " 'feature 164',\n",
              " 'feature 165',\n",
              " 'feature 166']"
            ]
          },
          "metadata": {},
          "execution_count": 23
        }
      ]
    },
    {
      "cell_type": "code",
      "source": [
        "import time\n",
        "import numpy as np\n",
        "\n",
        "start_time = time.time()\n",
        "importances = load_model.feature_importances_\n",
        "std = np.std([tree.feature_importances_ for tree in load_model.estimators_], axis=0)\n",
        "elapsed_time = time.time() - start_time\n",
        "\n",
        "print(f\"Elapsed time to compute the importances: {elapsed_time:.3f} seconds\")"
      ],
      "metadata": {
        "colab": {
          "base_uri": "https://localhost:8080/"
        },
        "id": "cFSv7eygvmo5",
        "outputId": "acb9eeb1-2b16-4a1a-8572-d593f7e019ef"
      },
      "execution_count": null,
      "outputs": [
        {
          "output_type": "stream",
          "name": "stdout",
          "text": [
            "Elapsed time to compute the importances: 0.017 seconds\n"
          ]
        }
      ]
    },
    {
      "cell_type": "code",
      "source": [
        "import matplotlib.pyplot as plt\n",
        "plt.rcParams[\"figure.figsize\"] = (20,10)"
      ],
      "metadata": {
        "id": "pWJDzjwGxIP_"
      },
      "execution_count": null,
      "outputs": []
    },
    {
      "cell_type": "code",
      "source": [
        "import pandas as pd\n",
        "\n",
        "model_importances = pd.Series(importances, index=feature_names)\n",
        "\n",
        "fig, ax = plt.subplots()\n",
        "model_importances.plot.bar(yerr=std, ax=ax)\n",
        "ax.set_title(\"Feature importances using MDI\")\n",
        "ax.set_ylabel(\"Mean decrease in impurity\")\n",
        "fig.tight_layout()"
      ],
      "metadata": {
        "colab": {
          "base_uri": "https://localhost:8080/",
          "height": 728
        },
        "id": "x7ImBUnLwiNl",
        "outputId": "70e9916a-0f3a-4645-e0c1-a632492547ac"
      },
      "execution_count": null,
      "outputs": [
        {
          "output_type": "display_data",
          "data": {
            "text/plain": [
              "<Figure size 1440x720 with 1 Axes>"
            ],
            "image/png": "[encoded data removed]"
          },
          "metadata": {
            "needs_background": "light"
          }
        }
      ]
    },
    {
      "cell_type": "markdown",
      "source": [
        "Permutation feature importance overcomes limitations of the impurity-based feature importance: they do not have a bias toward high-cardinality features and can be computed on a left-out test set."
      ],
      "metadata": {
        "id": "TJCwxRNcyUDR"
      }
    },
    {
      "cell_type": "code",
      "source": [
        "from sklearn.inspection import permutation_importance\n",
        "\n",
        "start_time = time.time()\n",
        "result = permutation_importance(\n",
        "    load_model, Xt_test, Yt_test, n_repeats=10, random_state=42, n_jobs=2\n",
        ")\n",
        "elapsed_time = time.time() - start_time\n",
        "print(f\"Elapsed time to compute the importances: {elapsed_time:.3f} seconds\")\n",
        "\n",
        "model_importances = pd.Series(result.importances_mean, index=feature_names)"
      ],
      "metadata": {
        "colab": {
          "base_uri": "https://localhost:8080/"
        },
        "id": "hfzNsJ27yVLZ",
        "outputId": "4267d2f5-a713-4091-a8c0-570f4d13488b"
      },
      "execution_count": null,
      "outputs": [
        {
          "output_type": "stream",
          "name": "stdout",
          "text": [
            "Elapsed time to compute the importances: 18.307 seconds\n"
          ]
        }
      ]
    },
    {
      "cell_type": "code",
      "source": [
        "import matplotlib.pyplot as plt\n",
        "plt.rcParams[\"figure.figsize\"] = (20,10)"
      ],
      "metadata": {
        "id": "-VRAPYFnyseR"
      },
      "execution_count": null,
      "outputs": []
    },
    {
      "cell_type": "code",
      "source": [
        "fig, ax = plt.subplots()\n",
        "model_importances.plot.bar(yerr=result.importances_std, ax=ax)\n",
        "ax.set_title(\"Feature importances using permutation on full model\")\n",
        "ax.set_ylabel(\"Mean accuracy decrease\")\n",
        "fig.tight_layout()\n",
        "plt.show()"
      ],
      "metadata": {
        "colab": {
          "base_uri": "https://localhost:8080/",
          "height": 728
        },
        "id": "_a17nct-yVO_",
        "outputId": "cbbb2f62-008a-4f1d-855a-4c52787002e5"
      },
      "execution_count": null,
      "outputs": [
        {
          "output_type": "display_data",
          "data": {
            "text/plain": [
              "<Figure size 1440x720 with 1 Axes>"
            ],
            "image/png": "[encoded data removed]"
          },
          "metadata": {
            "needs_background": "light"
          }
        }
      ]
    },
    {
      "cell_type": "code",
      "source": [
        "importances= pd.DataFrame(model_importances)\n",
        "importances2= importances.set_axis(['Permutation'], axis=1, inplace=False)\n",
        "importances2"
      ],
      "metadata": {
        "colab": {
          "base_uri": "https://localhost:8080/",
          "height": 423
        },
        "id": "DPbetweVzm-F",
        "outputId": "c089b8be-88a3-4b8f-ea04-066ee9295e93"
      },
      "execution_count": null,
      "outputs": [
        {
          "output_type": "execute_result",
          "data": {
            "text/plain": [
              "             Permutation\n",
              "feature 0       0.000000\n",
              "feature 1       0.000000\n",
              "feature 2       0.000000\n",
              "feature 3       0.000000\n",
              "feature 4       0.000000\n",
              "...                  ...\n",
              "feature 162     0.000000\n",
              "feature 163     0.000101\n",
              "feature 164     0.000051\n",
              "feature 165     0.000000\n",
              "feature 166     0.010258\n",
              "\n",
              "[167 rows x 1 columns]"
            ],
            "text/html": [
              "\n",
              "  <div id=\"df-8f6f756e-eda7-4e87-9f92-9f69dbcb7f2c\">\n",
              "    <div class=\"colab-df-container\">\n",
              "      <div>\n",
              "<style scoped>\n",
              "    .dataframe tbody tr th:only-of-type {\n",
              "        vertical-align: middle;\n",
              "    }\n",
              "\n",
              "    .dataframe tbody tr th {\n",
              "        vertical-align: top;\n",
              "    }\n",
              "\n",
              "    .dataframe thead th {\n",
              "        text-align: right;\n",
              "    }\n",
              "</style>\n",
              "<table border=\"1\" class=\"dataframe\">\n",
              "  <thead>\n",
              "    <tr style=\"text-align: right;\">\n",
              "      <th></th>\n",
              "      <th>Permutation</th>\n",
              "    </tr>\n",
              "  </thead>\n",
              "  <tbody>\n",
              "    <tr>\n",
              "      <th>feature 0</th>\n",
              "      <td>0.000000</td>\n",
              "    </tr>\n",
              "    <tr>\n",
              "      <th>feature 1</th>\n",
              "      <td>0.000000</td>\n",
              "    </tr>\n",
              "    <tr>\n",
              "      <th>feature 2</th>\n",
              "      <td>0.000000</td>\n",
              "    </tr>\n",
              "    <tr>\n",
              "      <th>feature 3</th>\n",
              "      <td>0.000000</td>\n",
              "    </tr>\n",
              "    <tr>\n",
              "      <th>feature 4</th>\n",
              "      <td>0.000000</td>\n",
              "    </tr>\n",
              "    <tr>\n",
              "      <th>...</th>\n",
              "      <td>...</td>\n",
              "    </tr>\n",
              "    <tr>\n",
              "      <th>feature 162</th>\n",
              "      <td>0.000000</td>\n",
              "    </tr>\n",
              "    <tr>\n",
              "      <th>feature 163</th>\n",
              "      <td>0.000101</td>\n",
              "    </tr>\n",
              "    <tr>\n",
              "      <th>feature 164</th>\n",
              "      <td>0.000051</td>\n",
              "    </tr>\n",
              "    <tr>\n",
              "      <th>feature 165</th>\n",
              "      <td>0.000000</td>\n",
              "    </tr>\n",
              "    <tr>\n",
              "      <th>feature 166</th>\n",
              "      <td>0.010258</td>\n",
              "    </tr>\n",
              "  </tbody>\n",
              "</table>\n",
              "<p>167 rows × 1 columns</p>\n",
              "</div>\n",
              "      <button class=\"colab-df-convert\" onclick=\"convertToInteractive('df-8f6f756e-eda7-4e87-9f92-9f69dbcb7f2c')\"\n",
              "              title=\"Convert this dataframe to an interactive table.\"\n",
              "              style=\"display:none;\">\n",
              "        \n",
              "  <svg xmlns=\"http://www.w3.org/2000/svg\" height=\"24px\"viewBox=\"0 0 24 24\"\n",
              "       width=\"24px\">\n",
              "    <path d=\"M0 0h24v24H0V0z\" fill=\"none\"/>\n",
              "    <path d=\"M18.56 5.44l.94 2.06.94-2.06 2.06-.94-2.06-.94-.94-2.06-.94 2.06-2.06.94zm-11 1L8.5 8.5l.94-2.06 2.06-.94-2.06-.94L8.5 2.5l-.94 2.06-2.06.94zm10 10l.94 2.06.94-2.06 2.06-.94-2.06-.94-.94-2.06-.94 2.06-2.06.94z\"/><path d=\"M17.41 7.96l-1.37-1.37c-.4-.4-.92-.59-1.43-.59-.52 0-1.04.2-1.43.59L10.3 9.45l-7.72 7.72c-.78.78-.78 2.05 0 2.83L4 21.41c.39.39.9.59 1.41.59.51 0 1.02-.2 1.41-.59l7.78-7.78 2.81-2.81c.8-.78.8-2.07 0-2.86zM5.41 20L4 18.59l7.72-7.72 1.47 1.35L5.41 20z\"/>\n",
              "  </svg>\n",
              "      </button>\n",
              "      \n",
              "  <style>\n",
              "    .colab-df-container {\n",
              "      display:flex;\n",
              "      flex-wrap:wrap;\n",
              "      gap: 12px;\n",
              "    }\n",
              "\n",
              "    .colab-df-convert {\n",
              "      background-color: #E8F0FE;\n",
              "      border: none;\n",
              "      border-radius: 50%;\n",
              "      cursor: pointer;\n",
              "      display: none;\n",
              "      fill: #1967D2;\n",
              "      height: 32px;\n",
              "      padding: 0 0 0 0;\n",
              "      width: 32px;\n",
              "    }\n",
              "\n",
              "    .colab-df-convert:hover {\n",
              "      background-color: #E2EBFA;\n",
              "      box-shadow: 0px 1px 2px rgba(60, 64, 67, 0.3), 0px 1px 3px 1px rgba(60, 64, 67, 0.15);\n",
              "      fill: #174EA6;\n",
              "    }\n",
              "\n",
              "    [theme=dark] .colab-df-convert {\n",
              "      background-color: #3B4455;\n",
              "      fill: #D2E3FC;\n",
              "    }\n",
              "\n",
              "    [theme=dark] .colab-df-convert:hover {\n",
              "      background-color: #434B5C;\n",
              "      box-shadow: 0px 1px 3px 1px rgba(0, 0, 0, 0.15);\n",
              "      filter: drop-shadow(0px 1px 2px rgba(0, 0, 0, 0.3));\n",
              "      fill: #FFFFFF;\n",
              "    }\n",
              "  </style>\n",
              "\n",
              "      <script>\n",
              "        const buttonEl =\n",
              "          document.querySelector('#df-8f6f756e-eda7-4e87-9f92-9f69dbcb7f2c button.colab-df-convert');\n",
              "        buttonEl.style.display =\n",
              "          google.colab.kernel.accessAllowed ? 'block' : 'none';\n",
              "\n",
              "        async function convertToInteractive(key) {\n",
              "          const element = document.querySelector('#df-8f6f756e-eda7-4e87-9f92-9f69dbcb7f2c');\n",
              "          const dataTable =\n",
              "            await google.colab.kernel.invokeFunction('convertToInteractive',\n",
              "                                                     [key], {});\n",
              "          if (!dataTable) return;\n",
              "\n",
              "          const docLinkHtml = 'Like what you see? Visit the ' +\n",
              "            '<a target=\"_blank\" href=https://colab.research.google.com/notebooks/data_table.ipynb>data table notebook</a>'\n",
              "            + ' to learn more about interactive tables.';\n",
              "          element.innerHTML = '';\n",
              "          dataTable['output_type'] = 'display_data';\n",
              "          await google.colab.output.renderOutput(dataTable, element);\n",
              "          const docLink = document.createElement('div');\n",
              "          docLink.innerHTML = docLinkHtml;\n",
              "          element.appendChild(docLink);\n",
              "        }\n",
              "      </script>\n",
              "    </div>\n",
              "  </div>\n",
              "  "
            ]
          },
          "metadata": {},
          "execution_count": 34
        }
      ]
    },
    {
      "cell_type": "code",
      "source": [
        "importances2.sort_values(\"Permutation\").head(10)"
      ],
      "metadata": {
        "colab": {
          "base_uri": "https://localhost:8080/",
          "height": 363
        },
        "id": "8OiWFsqhzPzI",
        "outputId": "fde404bc-c296-4878-b885-49b34150e1a3"
      },
      "execution_count": null,
      "outputs": [
        {
          "output_type": "execute_result",
          "data": {
            "text/plain": [
              "             Permutation\n",
              "feature 89     -0.001061\n",
              "feature 82     -0.000707\n",
              "feature 75     -0.000657\n",
              "feature 90     -0.000606\n",
              "feature 65     -0.000556\n",
              "feature 87     -0.000505\n",
              "feature 46     -0.000455\n",
              "feature 129    -0.000354\n",
              "feature 112    -0.000354\n",
              "feature 53     -0.000354"
            ],
            "text/html": [
              "\n",
              "  <div id=\"df-82320a01-4762-4ce7-9e8c-77297bcb10ec\">\n",
              "    <div class=\"colab-df-container\">\n",
              "      <div>\n",
              "<style scoped>\n",
              "    .dataframe tbody tr th:only-of-type {\n",
              "        vertical-align: middle;\n",
              "    }\n",
              "\n",
              "    .dataframe tbody tr th {\n",
              "        vertical-align: top;\n",
              "    }\n",
              "\n",
              "    .dataframe thead th {\n",
              "        text-align: right;\n",
              "    }\n",
              "</style>\n",
              "<table border=\"1\" class=\"dataframe\">\n",
              "  <thead>\n",
              "    <tr style=\"text-align: right;\">\n",
              "      <th></th>\n",
              "      <th>Permutation</th>\n",
              "    </tr>\n",
              "  </thead>\n",
              "  <tbody>\n",
              "    <tr>\n",
              "      <th>feature 89</th>\n",
              "      <td>-0.001061</td>\n",
              "    </tr>\n",
              "    <tr>\n",
              "      <th>feature 82</th>\n",
              "      <td>-0.000707</td>\n",
              "    </tr>\n",
              "    <tr>\n",
              "      <th>feature 75</th>\n",
              "      <td>-0.000657</td>\n",
              "    </tr>\n",
              "    <tr>\n",
              "      <th>feature 90</th>\n",
              "      <td>-0.000606</td>\n",
              "    </tr>\n",
              "    <tr>\n",
              "      <th>feature 65</th>\n",
              "      <td>-0.000556</td>\n",
              "    </tr>\n",
              "    <tr>\n",
              "      <th>feature 87</th>\n",
              "      <td>-0.000505</td>\n",
              "    </tr>\n",
              "    <tr>\n",
              "      <th>feature 46</th>\n",
              "      <td>-0.000455</td>\n",
              "    </tr>\n",
              "    <tr>\n",
              "      <th>feature 129</th>\n",
              "      <td>-0.000354</td>\n",
              "    </tr>\n",
              "    <tr>\n",
              "      <th>feature 112</th>\n",
              "      <td>-0.000354</td>\n",
              "    </tr>\n",
              "    <tr>\n",
              "      <th>feature 53</th>\n",
              "      <td>-0.000354</td>\n",
              "    </tr>\n",
              "  </tbody>\n",
              "</table>\n",
              "</div>\n",
              "      <button class=\"colab-df-convert\" onclick=\"convertToInteractive('df-82320a01-4762-4ce7-9e8c-77297bcb10ec')\"\n",
              "              title=\"Convert this dataframe to an interactive table.\"\n",
              "              style=\"display:none;\">\n",
              "        \n",
              "  <svg xmlns=\"http://www.w3.org/2000/svg\" height=\"24px\"viewBox=\"0 0 24 24\"\n",
              "       width=\"24px\">\n",
              "    <path d=\"M0 0h24v24H0V0z\" fill=\"none\"/>\n",
              "    <path d=\"M18.56 5.44l.94 2.06.94-2.06 2.06-.94-2.06-.94-.94-2.06-.94 2.06-2.06.94zm-11 1L8.5 8.5l.94-2.06 2.06-.94-2.06-.94L8.5 2.5l-.94 2.06-2.06.94zm10 10l.94 2.06.94-2.06 2.06-.94-2.06-.94-.94-2.06-.94 2.06-2.06.94z\"/><path d=\"M17.41 7.96l-1.37-1.37c-.4-.4-.92-.59-1.43-.59-.52 0-1.04.2-1.43.59L10.3 9.45l-7.72 7.72c-.78.78-.78 2.05 0 2.83L4 21.41c.39.39.9.59 1.41.59.51 0 1.02-.2 1.41-.59l7.78-7.78 2.81-2.81c.8-.78.8-2.07 0-2.86zM5.41 20L4 18.59l7.72-7.72 1.47 1.35L5.41 20z\"/>\n",
              "  </svg>\n",
              "      </button>\n",
              "      \n",
              "  <style>\n",
              "    .colab-df-container {\n",
              "      display:flex;\n",
              "      flex-wrap:wrap;\n",
              "      gap: 12px;\n",
              "    }\n",
              "\n",
              "    .colab-df-convert {\n",
              "      background-color: #E8F0FE;\n",
              "      border: none;\n",
              "      border-radius: 50%;\n",
              "      cursor: pointer;\n",
              "      display: none;\n",
              "      fill: #1967D2;\n",
              "      height: 32px;\n",
              "      padding: 0 0 0 0;\n",
              "      width: 32px;\n",
              "    }\n",
              "\n",
              "    .colab-df-convert:hover {\n",
              "      background-color: #E2EBFA;\n",
              "      box-shadow: 0px 1px 2px rgba(60, 64, 67, 0.3), 0px 1px 3px 1px rgba(60, 64, 67, 0.15);\n",
              "      fill: #174EA6;\n",
              "    }\n",
              "\n",
              "    [theme=dark] .colab-df-convert {\n",
              "      background-color: #3B4455;\n",
              "      fill: #D2E3FC;\n",
              "    }\n",
              "\n",
              "    [theme=dark] .colab-df-convert:hover {\n",
              "      background-color: #434B5C;\n",
              "      box-shadow: 0px 1px 3px 1px rgba(0, 0, 0, 0.15);\n",
              "      filter: drop-shadow(0px 1px 2px rgba(0, 0, 0, 0.3));\n",
              "      fill: #FFFFFF;\n",
              "    }\n",
              "  </style>\n",
              "\n",
              "      <script>\n",
              "        const buttonEl =\n",
              "          document.querySelector('#df-82320a01-4762-4ce7-9e8c-77297bcb10ec button.colab-df-convert');\n",
              "        buttonEl.style.display =\n",
              "          google.colab.kernel.accessAllowed ? 'block' : 'none';\n",
              "\n",
              "        async function convertToInteractive(key) {\n",
              "          const element = document.querySelector('#df-82320a01-4762-4ce7-9e8c-77297bcb10ec');\n",
              "          const dataTable =\n",
              "            await google.colab.kernel.invokeFunction('convertToInteractive',\n",
              "                                                     [key], {});\n",
              "          if (!dataTable) return;\n",
              "\n",
              "          const docLinkHtml = 'Like what you see? Visit the ' +\n",
              "            '<a target=\"_blank\" href=https://colab.research.google.com/notebooks/data_table.ipynb>data table notebook</a>'\n",
              "            + ' to learn more about interactive tables.';\n",
              "          element.innerHTML = '';\n",
              "          dataTable['output_type'] = 'display_data';\n",
              "          await google.colab.output.renderOutput(dataTable, element);\n",
              "          const docLink = document.createElement('div');\n",
              "          docLink.innerHTML = docLinkHtml;\n",
              "          element.appendChild(docLink);\n",
              "        }\n",
              "      </script>\n",
              "    </div>\n",
              "  </div>\n",
              "  "
            ]
          },
          "metadata": {},
          "execution_count": 35
        }
      ]
    },
    {
      "cell_type": "code",
      "source": [
        "importances2.nlargest(50, 'Permutation')"
      ],
      "metadata": {
        "colab": {
          "base_uri": "https://localhost:8080/",
          "height": 1000
        },
        "id": "YtUMIlc908-S",
        "outputId": "fb97d89c-dc04-49ae-c70f-064ebe91b54e"
      },
      "execution_count": null,
      "outputs": [
        {
          "output_type": "execute_result",
          "data": {
            "text/plain": [
              "             Permutation\n",
              "feature 166     0.010258\n",
              "feature 131     0.006215\n",
              "feature 103     0.005457\n",
              "feature 110     0.004245\n",
              "feature 117     0.003537\n",
              "feature 101     0.003386\n",
              "feature 148     0.003335\n",
              "feature 96      0.003032\n",
              "feature 111     0.002830\n",
              "feature 100     0.002678\n",
              "feature 139     0.002577\n",
              "feature 145     0.002527\n",
              "feature 95      0.002223\n",
              "feature 153     0.001920\n",
              "feature 94      0.001769\n",
              "feature 119     0.001718\n",
              "feature 155     0.001718\n",
              "feature 106     0.001415\n",
              "feature 113     0.001364\n",
              "feature 132     0.001314\n",
              "feature 133     0.001314\n",
              "feature 136     0.001314\n",
              "feature 92      0.001213\n",
              "feature 147     0.001213\n",
              "feature 91      0.001213\n",
              "feature 124     0.001213\n",
              "feature 83      0.001162\n",
              "feature 120     0.001162\n",
              "feature 77      0.000960\n",
              "feature 126     0.000910\n",
              "feature 128     0.000910\n",
              "feature 137     0.000910\n",
              "feature 142     0.000910\n",
              "feature 62      0.000910\n",
              "feature 107     0.000859\n",
              "feature 72      0.000808\n",
              "feature 104     0.000808\n",
              "feature 74      0.000707\n",
              "feature 93      0.000707\n",
              "feature 160     0.000707\n",
              "feature 85      0.000657\n",
              "feature 125     0.000657\n",
              "feature 159     0.000606\n",
              "feature 143     0.000606\n",
              "feature 151     0.000606\n",
              "feature 144     0.000556\n",
              "feature 122     0.000556\n",
              "feature 116     0.000505\n",
              "feature 41      0.000505\n",
              "feature 99      0.000505"
            ],
            "text/html": [
              "\n",
              "  <div id=\"df-63d36c01-9d5f-4203-a23a-f2d01069b403\">\n",
              "    <div class=\"colab-df-container\">\n",
              "      <div>\n",
              "<style scoped>\n",
              "    .dataframe tbody tr th:only-of-type {\n",
              "        vertical-align: middle;\n",
              "    }\n",
              "\n",
              "    .dataframe tbody tr th {\n",
              "        vertical-align: top;\n",
              "    }\n",
              "\n",
              "    .dataframe thead th {\n",
              "        text-align: right;\n",
              "    }\n",
              "</style>\n",
              "<table border=\"1\" class=\"dataframe\">\n",
              "  <thead>\n",
              "    <tr style=\"text-align: right;\">\n",
              "      <th></th>\n",
              "      <th>Permutation</th>\n",
              "    </tr>\n",
              "  </thead>\n",
              "  <tbody>\n",
              "    <tr>\n",
              "      <th>feature 166</th>\n",
              "      <td>0.010258</td>\n",
              "    </tr>\n",
              "    <tr>\n",
              "      <th>feature 131</th>\n",
              "      <td>0.006215</td>\n",
              "    </tr>\n",
              "    <tr>\n",
              "      <th>feature 103</th>\n",
              "      <td>0.005457</td>\n",
              "    </tr>\n",
              "    <tr>\n",
              "      <th>feature 110</th>\n",
              "      <td>0.004245</td>\n",
              "    </tr>\n",
              "    <tr>\n",
              "      <th>feature 117</th>\n",
              "      <td>0.003537</td>\n",
              "    </tr>\n",
              "    <tr>\n",
              "      <th>feature 101</th>\n",
              "      <td>0.003386</td>\n",
              "    </tr>\n",
              "    <tr>\n",
              "      <th>feature 148</th>\n",
              "      <td>0.003335</td>\n",
              "    </tr>\n",
              "    <tr>\n",
              "      <th>feature 96</th>\n",
              "      <td>0.003032</td>\n",
              "    </tr>\n",
              "    <tr>\n",
              "      <th>feature 111</th>\n",
              "      <td>0.002830</td>\n",
              "    </tr>\n",
              "    <tr>\n",
              "      <th>feature 100</th>\n",
              "      <td>0.002678</td>\n",
              "    </tr>\n",
              "    <tr>\n",
              "      <th>feature 139</th>\n",
              "      <td>0.002577</td>\n",
              "    </tr>\n",
              "    <tr>\n",
              "      <th>feature 145</th>\n",
              "      <td>0.002527</td>\n",
              "    </tr>\n",
              "    <tr>\n",
              "      <th>feature 95</th>\n",
              "      <td>0.002223</td>\n",
              "    </tr>\n",
              "    <tr>\n",
              "      <th>feature 153</th>\n",
              "      <td>0.001920</td>\n",
              "    </tr>\n",
              "    <tr>\n",
              "      <th>feature 94</th>\n",
              "      <td>0.001769</td>\n",
              "    </tr>\n",
              "    <tr>\n",
              "      <th>feature 119</th>\n",
              "      <td>0.001718</td>\n",
              "    </tr>\n",
              "    <tr>\n",
              "      <th>feature 155</th>\n",
              "      <td>0.001718</td>\n",
              "    </tr>\n",
              "    <tr>\n",
              "      <th>feature 106</th>\n",
              "      <td>0.001415</td>\n",
              "    </tr>\n",
              "    <tr>\n",
              "      <th>feature 113</th>\n",
              "      <td>0.001364</td>\n",
              "    </tr>\n",
              "    <tr>\n",
              "      <th>feature 132</th>\n",
              "      <td>0.001314</td>\n",
              "    </tr>\n",
              "    <tr>\n",
              "      <th>feature 133</th>\n",
              "      <td>0.001314</td>\n",
              "    </tr>\n",
              "    <tr>\n",
              "      <th>feature 136</th>\n",
              "      <td>0.001314</td>\n",
              "    </tr>\n",
              "    <tr>\n",
              "      <th>feature 92</th>\n",
              "      <td>0.001213</td>\n",
              "    </tr>\n",
              "    <tr>\n",
              "      <th>feature 147</th>\n",
              "      <td>0.001213</td>\n",
              "    </tr>\n",
              "    <tr>\n",
              "      <th>feature 91</th>\n",
              "      <td>0.001213</td>\n",
              "    </tr>\n",
              "    <tr>\n",
              "      <th>feature 124</th>\n",
              "      <td>0.001213</td>\n",
              "    </tr>\n",
              "    <tr>\n",
              "      <th>feature 83</th>\n",
              "      <td>0.001162</td>\n",
              "    </tr>\n",
              "    <tr>\n",
              "      <th>feature 120</th>\n",
              "      <td>0.001162</td>\n",
              "    </tr>\n",
              "    <tr>\n",
              "      <th>feature 77</th>\n",
              "      <td>0.000960</td>\n",
              "    </tr>\n",
              "    <tr>\n",
              "      <th>feature 126</th>\n",
              "      <td>0.000910</td>\n",
              "    </tr>\n",
              "    <tr>\n",
              "      <th>feature 128</th>\n",
              "      <td>0.000910</td>\n",
              "    </tr>\n",
              "    <tr>\n",
              "      <th>feature 137</th>\n",
              "      <td>0.000910</td>\n",
              "    </tr>\n",
              "    <tr>\n",
              "      <th>feature 142</th>\n",
              "      <td>0.000910</td>\n",
              "    </tr>\n",
              "    <tr>\n",
              "      <th>feature 62</th>\n",
              "      <td>0.000910</td>\n",
              "    </tr>\n",
              "    <tr>\n",
              "      <th>feature 107</th>\n",
              "      <td>0.000859</td>\n",
              "    </tr>\n",
              "    <tr>\n",
              "      <th>feature 72</th>\n",
              "      <td>0.000808</td>\n",
              "    </tr>\n",
              "    <tr>\n",
              "      <th>feature 104</th>\n",
              "      <td>0.000808</td>\n",
              "    </tr>\n",
              "    <tr>\n",
              "      <th>feature 74</th>\n",
              "      <td>0.000707</td>\n",
              "    </tr>\n",
              "    <tr>\n",
              "      <th>feature 93</th>\n",
              "      <td>0.000707</td>\n",
              "    </tr>\n",
              "    <tr>\n",
              "      <th>feature 160</th>\n",
              "      <td>0.000707</td>\n",
              "    </tr>\n",
              "    <tr>\n",
              "      <th>feature 85</th>\n",
              "      <td>0.000657</td>\n",
              "    </tr>\n",
              "    <tr>\n",
              "      <th>feature 125</th>\n",
              "      <td>0.000657</td>\n",
              "    </tr>\n",
              "    <tr>\n",
              "      <th>feature 159</th>\n",
              "      <td>0.000606</td>\n",
              "    </tr>\n",
              "    <tr>\n",
              "      <th>feature 143</th>\n",
              "      <td>0.000606</td>\n",
              "    </tr>\n",
              "    <tr>\n",
              "      <th>feature 151</th>\n",
              "      <td>0.000606</td>\n",
              "    </tr>\n",
              "    <tr>\n",
              "      <th>feature 144</th>\n",
              "      <td>0.000556</td>\n",
              "    </tr>\n",
              "    <tr>\n",
              "      <th>feature 122</th>\n",
              "      <td>0.000556</td>\n",
              "    </tr>\n",
              "    <tr>\n",
              "      <th>feature 116</th>\n",
              "      <td>0.000505</td>\n",
              "    </tr>\n",
              "    <tr>\n",
              "      <th>feature 41</th>\n",
              "      <td>0.000505</td>\n",
              "    </tr>\n",
              "    <tr>\n",
              "      <th>feature 99</th>\n",
              "      <td>0.000505</td>\n",
              "    </tr>\n",
              "  </tbody>\n",
              "</table>\n",
              "</div>\n",
              "      <button class=\"colab-df-convert\" onclick=\"convertToInteractive('df-63d36c01-9d5f-4203-a23a-f2d01069b403')\"\n",
              "              title=\"Convert this dataframe to an interactive table.\"\n",
              "              style=\"display:none;\">\n",
              "        \n",
              "  <svg xmlns=\"http://www.w3.org/2000/svg\" height=\"24px\"viewBox=\"0 0 24 24\"\n",
              "       width=\"24px\">\n",
              "    <path d=\"M0 0h24v24H0V0z\" fill=\"none\"/>\n",
              "    <path d=\"M18.56 5.44l.94 2.06.94-2.06 2.06-.94-2.06-.94-.94-2.06-.94 2.06-2.06.94zm-11 1L8.5 8.5l.94-2.06 2.06-.94-2.06-.94L8.5 2.5l-.94 2.06-2.06.94zm10 10l.94 2.06.94-2.06 2.06-.94-2.06-.94-.94-2.06-.94 2.06-2.06.94z\"/><path d=\"M17.41 7.96l-1.37-1.37c-.4-.4-.92-.59-1.43-.59-.52 0-1.04.2-1.43.59L10.3 9.45l-7.72 7.72c-.78.78-.78 2.05 0 2.83L4 21.41c.39.39.9.59 1.41.59.51 0 1.02-.2 1.41-.59l7.78-7.78 2.81-2.81c.8-.78.8-2.07 0-2.86zM5.41 20L4 18.59l7.72-7.72 1.47 1.35L5.41 20z\"/>\n",
              "  </svg>\n",
              "      </button>\n",
              "      \n",
              "  <style>\n",
              "    .colab-df-container {\n",
              "      display:flex;\n",
              "      flex-wrap:wrap;\n",
              "      gap: 12px;\n",
              "    }\n",
              "\n",
              "    .colab-df-convert {\n",
              "      background-color: #E8F0FE;\n",
              "      border: none;\n",
              "      border-radius: 50%;\n",
              "      cursor: pointer;\n",
              "      display: none;\n",
              "      fill: #1967D2;\n",
              "      height: 32px;\n",
              "      padding: 0 0 0 0;\n",
              "      width: 32px;\n",
              "    }\n",
              "\n",
              "    .colab-df-convert:hover {\n",
              "      background-color: #E2EBFA;\n",
              "      box-shadow: 0px 1px 2px rgba(60, 64, 67, 0.3), 0px 1px 3px 1px rgba(60, 64, 67, 0.15);\n",
              "      fill: #174EA6;\n",
              "    }\n",
              "\n",
              "    [theme=dark] .colab-df-convert {\n",
              "      background-color: #3B4455;\n",
              "      fill: #D2E3FC;\n",
              "    }\n",
              "\n",
              "    [theme=dark] .colab-df-convert:hover {\n",
              "      background-color: #434B5C;\n",
              "      box-shadow: 0px 1px 3px 1px rgba(0, 0, 0, 0.15);\n",
              "      filter: drop-shadow(0px 1px 2px rgba(0, 0, 0, 0.3));\n",
              "      fill: #FFFFFF;\n",
              "    }\n",
              "  </style>\n",
              "\n",
              "      <script>\n",
              "        const buttonEl =\n",
              "          document.querySelector('#df-63d36c01-9d5f-4203-a23a-f2d01069b403 button.colab-df-convert');\n",
              "        buttonEl.style.display =\n",
              "          google.colab.kernel.accessAllowed ? 'block' : 'none';\n",
              "\n",
              "        async function convertToInteractive(key) {\n",
              "          const element = document.querySelector('#df-63d36c01-9d5f-4203-a23a-f2d01069b403');\n",
              "          const dataTable =\n",
              "            await google.colab.kernel.invokeFunction('convertToInteractive',\n",
              "                                                     [key], {});\n",
              "          if (!dataTable) return;\n",
              "\n",
              "          const docLinkHtml = 'Like what you see? Visit the ' +\n",
              "            '<a target=\"_blank\" href=https://colab.research.google.com/notebooks/data_table.ipynb>data table notebook</a>'\n",
              "            + ' to learn more about interactive tables.';\n",
              "          element.innerHTML = '';\n",
              "          dataTable['output_type'] = 'display_data';\n",
              "          await google.colab.output.renderOutput(dataTable, element);\n",
              "          const docLink = document.createElement('div');\n",
              "          docLink.innerHTML = docLinkHtml;\n",
              "          element.appendChild(docLink);\n",
              "        }\n",
              "      </script>\n",
              "    </div>\n",
              "  </div>\n",
              "  "
            ]
          },
          "metadata": {},
          "execution_count": 37
        }
      ]
    },
    {
      "cell_type": "code",
      "source": [
        "##\n",
        "from google.colab import files\n",
        "f_imp= importances2.nlargest(166, 'Permutation')\n",
        "f_imp.to_csv('sxl_UnderMACCS_RF_HPT_FeatureImp.csv', encoding = 'utf-8-sig') \n",
        "files.download('sxl_UnderMACCS_RF_HPT_FeatureImp.csv')"
      ],
      "metadata": {
        "colab": {
          "base_uri": "https://localhost:8080/",
          "height": 16
        },
        "id": "pHZQE1pP3uEI",
        "outputId": "8bbd602c-0659-425e-941a-7b074e466590"
      },
      "execution_count": null,
      "outputs": [
        {
          "output_type": "display_data",
          "data": {
            "text/plain": [
              "<IPython.core.display.Javascript object>"
            ],
            "application/javascript": [
              "\n",
              "    async function download(id, filename, size) {\n",
              "      if (!google.colab.kernel.accessAllowed) {\n",
              "        return;\n",
              "      }\n",
              "      const div = document.createElement('div');\n",
              "      const label = document.createElement('label');\n",
              "      label.textContent = `Downloading \"${filename}\": `;\n",
              "      div.appendChild(label);\n",
              "      const progress = document.createElement('progress');\n",
              "      progress.max = size;\n",
              "      div.appendChild(progress);\n",
              "      document.body.appendChild(div);\n",
              "\n",
              "      const buffers = [];\n",
              "      let downloaded = 0;\n",
              "\n",
              "      const channel = await google.colab.kernel.comms.open(id);\n",
              "      // Send a message to notify the kernel that we're ready.\n",
              "      channel.send({})\n",
              "\n",
              "      for await (const message of channel.messages) {\n",
              "        // Send a message to notify the kernel that we're ready.\n",
              "        channel.send({})\n",
              "        if (message.buffers) {\n",
              "          for (const buffer of message.buffers) {\n",
              "            buffers.push(buffer);\n",
              "            downloaded += buffer.byteLength;\n",
              "            progress.value = downloaded;\n",
              "          }\n",
              "        }\n",
              "      }\n",
              "      const blob = new Blob(buffers, {type: 'application/binary'});\n",
              "      const a = document.createElement('a');\n",
              "      a.href = window.URL.createObjectURL(blob);\n",
              "      a.download = filename;\n",
              "      div.appendChild(a);\n",
              "      a.click();\n",
              "      div.remove();\n",
              "    }\n",
              "  "
            ]
          },
          "metadata": {}
        },
        {
          "output_type": "display_data",
          "data": {
            "text/plain": [
              "<IPython.core.display.Javascript object>"
            ],
            "application/javascript": [
              "download(\"download_a7070036-a683-4044-a496-793d49527124\", \"sxl_UnderMACCS_RF_HPT_FeatureImp.csv\", 4517)"
            ]
          },
          "metadata": {}
        }
      ]
    },
    {
      "cell_type": "code",
      "source": [
        "!cp 'sxl_UnderMACCS_RF_HPT_FeatureImp.csv' /content/drive/MyDrive/PhD/RF_MACCS"
      ],
      "metadata": {
        "id": "GUJ4LMk44X-x",
        "colab": {
          "base_uri": "https://localhost:8080/"
        },
        "outputId": "88738c53-1e71-424c-b791-3b745057f950"
      },
      "execution_count": null,
      "outputs": [
        {
          "output_type": "stream",
          "name": "stdout",
          "text": [
            "cp: 'sxl_UnderMACCS_RF_HPT_FeatureImp.csv' and '/content/drive/MyDrive/PhD/RF_MACCS/sxl_UnderMACCS_RF_HPT_FeatureImp.csv' are the same file\n"
          ]
        }
      ]
    }
  ]
}