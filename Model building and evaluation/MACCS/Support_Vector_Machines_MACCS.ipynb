{
  "nbformat": 4,
  "nbformat_minor": 0,
  "metadata": {
    "colab": {
      "provenance": []
    },
    "kernelspec": {
      "name": "python3",
      "display_name": "Python 3"
    },
    "language_info": {
      "name": "python"
    }
  },
  "cells": [
    {
      "cell_type": "code",
      "execution_count": null,
      "metadata": {
        "id": "HWBAxLECTWYM"
      },
      "outputs": [],
      "source": []
    },
    {
      "cell_type": "code",
      "execution_count": null,
      "metadata": {
        "colab": {
          "base_uri": "https://localhost:8080/"
        },
        "id": "S5dz-2pZYlnw",
        "outputId": "06e386d0-8948-4a83-f7fb-ee13d54cdb89"
      },
      "outputs": [
        {
          "output_type": "stream",
          "name": "stdout",
          "text": [
            "Mounted at /content/drive\n"
          ]
        }
      ],
      "source": [
        "# LOAD the data\n",
        "from google.colab import drive\n",
        "\n",
        "drive.mount('/content/drive')\n"
      ]
    },
    {
      "cell_type": "code",
      "execution_count": null,
      "metadata": {
        "colab": {
          "base_uri": "https://localhost:8080/"
        },
        "id": "f7Hf4GsMY4b_",
        "outputId": "bda0b9db-0ece-4608-91bc-d380d7049a9c"
      },
      "outputs": [
        {
          "output_type": "stream",
          "name": "stdout",
          "text": [
            "Looking in indexes: https://pypi.org/simple, https://us-python.pkg.dev/colab-wheels/public/simple/\n",
            "Requirement already satisfied: rdkit-pypi in /usr/local/lib/python3.9/dist-packages (2022.9.5)\n",
            "Requirement already satisfied: Pillow in /usr/local/lib/python3.9/dist-packages (from rdkit-pypi) (8.4.0)\n",
            "Requirement already satisfied: numpy in /usr/local/lib/python3.9/dist-packages (from rdkit-pypi) (1.22.4)\n",
            "\n",
            "real\t0m3.071s\n",
            "user\t0m2.732s\n",
            "sys\t0m0.305s\n"
          ]
        }
      ],
      "source": [
        "\n",
        "!time pip install rdkit-pypi"
      ]
    },
    {
      "cell_type": "code",
      "execution_count": null,
      "metadata": {
        "id": "czGg-Fy5Y5Nv"
      },
      "outputs": [],
      "source": [
        "import matplotlib.pyplot as plt\n",
        "import numpy as np\n",
        "import pandas as pd\n",
        "# import seaborn as sn\n",
        "# import scipy as sp\n",
        "\n",
        "import random\n",
        "import tensorflow\n",
        "from tensorflow import keras\n",
        "from tensorflow.keras.models import Sequential\n",
        "from tensorflow.keras.layers import Activation, Dense, BatchNormalization, Conv2D, Dropout, Flatten\n",
        "from tensorflow.keras.optimizers import Adam\n",
        "from tensorflow.keras.metrics import categorical_crossentropy\n",
        "from tensorflow.keras.wrappers.scikit_learn import KerasClassifier, KerasRegressor\n",
        "from sklearn.model_selection import GridSearchCV\n",
        "from sklearn.model_selection import cross_val_score\n",
        "from sklearn.preprocessing import LabelEncoder\n",
        "from sklearn.model_selection import StratifiedKFold\n",
        "\n",
        "from rdkit import Chem # A core definition\n",
        "from rdkit.Chem.Draw import MolsToGridImage # For displaying multiple molecules\n",
        "from rdkit.Chem.AllChem import * # conformer generation and adding H \n",
        "from rdkit.Chem.rdMolDescriptors import * # To calculate descriptors\n",
        "from rdkit.Chem.Draw import IPythonConsole # This displays the molecule in-line\n",
        "from rdkit.Chem import PandasTools # for pandas dataframe with rdkit\n",
        "from rdkit.DataStructs.cDataStructs import ConvertToNumpyArray\n",
        "import pandas.io.formats.style"
      ]
    },
    {
      "cell_type": "code",
      "execution_count": null,
      "metadata": {
        "colab": {
          "base_uri": "https://localhost:8080/",
          "height": 1000
        },
        "id": "2CftPmPDY82J",
        "outputId": "2d540550-0008-444e-f9ab-5e7deb1ee5ad"
      },
      "outputs": [
        {
          "output_type": "stream",
          "name": "stdout",
          "text": [
            "/content/drive/MyDrive/PhD/PTS_datasets\n",
            " ABSActiveInactiveFeatCorrelationOnABSActives.csv\n",
            " ABSActiveInactiveFeatCorrelationOnABSInactives.csv\n",
            " absdualGBMFinalizedhpt5005_UMFP_model_prediction_on_pbox.csv\n",
            " absdualLRFinalizedhpt5005_UMFP_model_prediction_on_pbox.csv\n",
            " absdualRFFinalizedhpt5005_UMFP_model_prediction_on_pbox.csv\n",
            " absdualsvmFinalizedhpt5005_UMFP_model_prediction_on_pbox.csv\n",
            " asexualsFeaturesZtestprop.csv\n",
            " asexualsFeaturesZtestpropInact.csv\n",
            " asexualsFeaturesZtestproportionsActvsInactv.csv\n",
            " asexualsFeaturesZtestpropTopABSfeat.csv\n",
            " asexualsFeaturesZtestpropTopDualfeat.csv\n",
            " asexualsFeaturesZtestpropTopfeat.csv\n",
            " asexualsGBMhpt_UMFP_model5atom500bitFinal.pkl\n",
            " asexualsLogisticRegressionFinalHPT_UMFP_model5005.pkl\n",
            " asexualsSVCFinalHPT_UMFP_model5005.pkl\n",
            " axldeepinsighOverUnderXttestMFP.npy\n",
            " axldeepinsighOverUnderXttrainMFP.npy\n",
            " axldeepinsighOverUnderYttestMFP.npy\n",
            " axldeepinsighOverUnderYttrainMFP.npy\n",
            " axl_UnderMFP_GBM_HPT5005_FeatureImp.csv\n",
            " axl_UnderMFP_LR_HPT_FeatureImp.csv\n",
            " axl_UnderMFP_RF_HPT5005_FeatureImp2.csv\n",
            " CTCVAE_300bit5radiusMFP.pkl\n",
            " CTCVAE_300bit5raduisMFP_500samples.csv\n",
            " CTGAN_300bit5radiusMFP.pkl\n",
            " CTGAN_300bit5raduisMFP_500samples.csv\n",
            " data\n",
            " DualactiveFeaturesZtestprop.csv\n",
            " DualActiveInactiveFeatCorrelationOnDualActives.csv\n",
            " DualActiveInactiveFeatCorrelationOnDualInactives.csv\n",
            " finalized_model.sav\n",
            " GanSexualsU_MACCs.pkl\n",
            " image_at_epoch_0000.png\n",
            " M_asexuals_lib_hits_nd_clst_nhts.csv\n",
            " Miniconda3-py37_4.12.0-Linux-x86_64.sh\n",
            " M_sexual_LibrariesC_hits_nd_2ndclst_nhits.csv\n",
            "'Sexual_libraries_hits and nonhits_composition.csv'\n",
            " sexualsFeaturesZtestpropInact.csv\n",
            " SexualsFeaturesZtestpropTopABSfeat.csv\n",
            " SexualsFeaturesZtestpropTopDualfeat.csv\n",
            " sexualsGBMFinalHPT_UMFP_model5005.pkl\n",
            " sexualsLRFinalHPT_UMFP_model5005.pkl\n",
            " sexualsRFFinalHPT_UMFP_model5005.pkl\n",
            " sexualsSVCFinalHPT_UMFP_model5005.pkl\n",
            " sxl_UnderMACCS_LR_HPT_FeatureImp.csv\n",
            " sxl_UnderMFP_GBM_HPT5005_FeatureImp.csv\n",
            " sxl_UnderMFP_LR_HPT5005_FeatureImp.csv\n",
            " sxl_UnderMFP_RF_HPT5005_FeatureImp2.csv\n",
            " sxl_UnderMFP_RF_HPT_FeatureImp2.csv\n",
            " sxl_UnderX_MFP.csv\n",
            " sxl_UnderX_MFP.csv.npy\n",
            " sxl_UnderX_MFP.npy\n",
            " TCGANSexualsU_MACCs.pkl\n",
            "No     8975\n",
            "Yes     916\n",
            "Name: S_Hit, dtype: int64\n"
          ]
        },
        {
          "output_type": "execute_result",
          "data": {
            "text/plain": [
              "                                              Smiles S_Hit\n",
              "0     NC(=O)c1cccc2nc([C@H]3CCN(Cc4ccccn4)C3)[nH]c12   Yes\n",
              "1              Fc1ccc2[nH]c(C3CCCN3Cc3c[nH]cn3)nc2c1   Yes\n",
              "2                      COc1c(C)cnc(CN(C)C2CCCCC2)c1C   Yes\n",
              "3              Cc1cccc(CN2CCCC2c2cccc(Nc3nccs3)n2)c1   Yes\n",
              "4                 CCSCCNc1nc(-c2ccccn2)nc2c1c(C)nn2C   Yes\n",
              "...                                              ...   ...\n",
              "9886        Cc1nc(C)n(C2CCCN(C(=O)c3ncoc3C(C)C)C2)n1    No\n",
              "9887            COCCN1CCN(Cc2c(C)noc2C)Cc2ccc(C)nc21    No\n",
              "9888             CCc1ncnc2c1CCN(Cc1ccc3c(c1)OCO3)CC2    No\n",
              "9889            CCC1CN(CC(=O)NCCN2CCCCCC2)c2ccccc2S1    No\n",
              "9890              Cc1cnn(CC2CCCN2Cc2nc3ccccc3nc2C)c1    No\n",
              "\n",
              "[9891 rows x 2 columns]"
            ],
            "text/html": [
              "\n",
              "  <div id=\"df-bfb427c3-a0ff-4a20-85e2-5a2a5eec5909\">\n",
              "    <div class=\"colab-df-container\">\n",
              "      <div>\n",
              "<style scoped>\n",
              "    .dataframe tbody tr th:only-of-type {\n",
              "        vertical-align: middle;\n",
              "    }\n",
              "\n",
              "    .dataframe tbody tr th {\n",
              "        vertical-align: top;\n",
              "    }\n",
              "\n",
              "    .dataframe thead th {\n",
              "        text-align: right;\n",
              "    }\n",
              "</style>\n",
              "<table border=\"1\" class=\"dataframe\">\n",
              "  <thead>\n",
              "    <tr style=\"text-align: right;\">\n",
              "      <th></th>\n",
              "      <th>Smiles</th>\n",
              "      <th>S_Hit</th>\n",
              "    </tr>\n",
              "  </thead>\n",
              "  <tbody>\n",
              "    <tr>\n",
              "      <th>0</th>\n",
              "      <td>NC(=O)c1cccc2nc([C@H]3CCN(Cc4ccccn4)C3)[nH]c12</td>\n",
              "      <td>Yes</td>\n",
              "    </tr>\n",
              "    <tr>\n",
              "      <th>1</th>\n",
              "      <td>Fc1ccc2[nH]c(C3CCCN3Cc3c[nH]cn3)nc2c1</td>\n",
              "      <td>Yes</td>\n",
              "    </tr>\n",
              "    <tr>\n",
              "      <th>2</th>\n",
              "      <td>COc1c(C)cnc(CN(C)C2CCCCC2)c1C</td>\n",
              "      <td>Yes</td>\n",
              "    </tr>\n",
              "    <tr>\n",
              "      <th>3</th>\n",
              "      <td>Cc1cccc(CN2CCCC2c2cccc(Nc3nccs3)n2)c1</td>\n",
              "      <td>Yes</td>\n",
              "    </tr>\n",
              "    <tr>\n",
              "      <th>4</th>\n",
              "      <td>CCSCCNc1nc(-c2ccccn2)nc2c1c(C)nn2C</td>\n",
              "      <td>Yes</td>\n",
              "    </tr>\n",
              "    <tr>\n",
              "      <th>...</th>\n",
              "      <td>...</td>\n",
              "      <td>...</td>\n",
              "    </tr>\n",
              "    <tr>\n",
              "      <th>9886</th>\n",
              "      <td>Cc1nc(C)n(C2CCCN(C(=O)c3ncoc3C(C)C)C2)n1</td>\n",
              "      <td>No</td>\n",
              "    </tr>\n",
              "    <tr>\n",
              "      <th>9887</th>\n",
              "      <td>COCCN1CCN(Cc2c(C)noc2C)Cc2ccc(C)nc21</td>\n",
              "      <td>No</td>\n",
              "    </tr>\n",
              "    <tr>\n",
              "      <th>9888</th>\n",
              "      <td>CCc1ncnc2c1CCN(Cc1ccc3c(c1)OCO3)CC2</td>\n",
              "      <td>No</td>\n",
              "    </tr>\n",
              "    <tr>\n",
              "      <th>9889</th>\n",
              "      <td>CCC1CN(CC(=O)NCCN2CCCCCC2)c2ccccc2S1</td>\n",
              "      <td>No</td>\n",
              "    </tr>\n",
              "    <tr>\n",
              "      <th>9890</th>\n",
              "      <td>Cc1cnn(CC2CCCN2Cc2nc3ccccc3nc2C)c1</td>\n",
              "      <td>No</td>\n",
              "    </tr>\n",
              "  </tbody>\n",
              "</table>\n",
              "<p>9891 rows × 2 columns</p>\n",
              "</div>\n",
              "      <button class=\"colab-df-convert\" onclick=\"convertToInteractive('df-bfb427c3-a0ff-4a20-85e2-5a2a5eec5909')\"\n",
              "              title=\"Convert this dataframe to an interactive table.\"\n",
              "              style=\"display:none;\">\n",
              "        \n",
              "  <svg xmlns=\"http://www.w3.org/2000/svg\" height=\"24px\"viewBox=\"0 0 24 24\"\n",
              "       width=\"24px\">\n",
              "    <path d=\"M0 0h24v24H0V0z\" fill=\"none\"/>\n",
              "    <path d=\"M18.56 5.44l.94 2.06.94-2.06 2.06-.94-2.06-.94-.94-2.06-.94 2.06-2.06.94zm-11 1L8.5 8.5l.94-2.06 2.06-.94-2.06-.94L8.5 2.5l-.94 2.06-2.06.94zm10 10l.94 2.06.94-2.06 2.06-.94-2.06-.94-.94-2.06-.94 2.06-2.06.94z\"/><path d=\"M17.41 7.96l-1.37-1.37c-.4-.4-.92-.59-1.43-.59-.52 0-1.04.2-1.43.59L10.3 9.45l-7.72 7.72c-.78.78-.78 2.05 0 2.83L4 21.41c.39.39.9.59 1.41.59.51 0 1.02-.2 1.41-.59l7.78-7.78 2.81-2.81c.8-.78.8-2.07 0-2.86zM5.41 20L4 18.59l7.72-7.72 1.47 1.35L5.41 20z\"/>\n",
              "  </svg>\n",
              "      </button>\n",
              "      \n",
              "  <style>\n",
              "    .colab-df-container {\n",
              "      display:flex;\n",
              "      flex-wrap:wrap;\n",
              "      gap: 12px;\n",
              "    }\n",
              "\n",
              "    .colab-df-convert {\n",
              "      background-color: #E8F0FE;\n",
              "      border: none;\n",
              "      border-radius: 50%;\n",
              "      cursor: pointer;\n",
              "      display: none;\n",
              "      fill: #1967D2;\n",
              "      height: 32px;\n",
              "      padding: 0 0 0 0;\n",
              "      width: 32px;\n",
              "    }\n",
              "\n",
              "    .colab-df-convert:hover {\n",
              "      background-color: #E2EBFA;\n",
              "      box-shadow: 0px 1px 2px rgba(60, 64, 67, 0.3), 0px 1px 3px 1px rgba(60, 64, 67, 0.15);\n",
              "      fill: #174EA6;\n",
              "    }\n",
              "\n",
              "    [theme=dark] .colab-df-convert {\n",
              "      background-color: #3B4455;\n",
              "      fill: #D2E3FC;\n",
              "    }\n",
              "\n",
              "    [theme=dark] .colab-df-convert:hover {\n",
              "      background-color: #434B5C;\n",
              "      box-shadow: 0px 1px 3px 1px rgba(0, 0, 0, 0.15);\n",
              "      filter: drop-shadow(0px 1px 2px rgba(0, 0, 0, 0.3));\n",
              "      fill: #FFFFFF;\n",
              "    }\n",
              "  </style>\n",
              "\n",
              "      <script>\n",
              "        const buttonEl =\n",
              "          document.querySelector('#df-bfb427c3-a0ff-4a20-85e2-5a2a5eec5909 button.colab-df-convert');\n",
              "        buttonEl.style.display =\n",
              "          google.colab.kernel.accessAllowed ? 'block' : 'none';\n",
              "\n",
              "        async function convertToInteractive(key) {\n",
              "          const element = document.querySelector('#df-bfb427c3-a0ff-4a20-85e2-5a2a5eec5909');\n",
              "          const dataTable =\n",
              "            await google.colab.kernel.invokeFunction('convertToInteractive',\n",
              "                                                     [key], {});\n",
              "          if (!dataTable) return;\n",
              "\n",
              "          const docLinkHtml = 'Like what you see? Visit the ' +\n",
              "            '<a target=\"_blank\" href=https://colab.research.google.com/notebooks/data_table.ipynb>data table notebook</a>'\n",
              "            + ' to learn more about interactive tables.';\n",
              "          element.innerHTML = '';\n",
              "          dataTable['output_type'] = 'display_data';\n",
              "          await google.colab.output.renderOutput(dataTable, element);\n",
              "          const docLink = document.createElement('div');\n",
              "          docLink.innerHTML = docLinkHtml;\n",
              "          element.appendChild(docLink);\n",
              "        }\n",
              "      </script>\n",
              "    </div>\n",
              "  </div>\n",
              "  "
            ]
          },
          "metadata": {},
          "execution_count": 4
        }
      ],
      "source": [
        "############################################Sexual data\n",
        "#Optional: move to the desired location:\n",
        "%cd /content/drive/MyDrive/PhD/PTS_datasets/\n",
        "!ls '/content/drive/MyDrive/PhD/PTS_datasets/'\n",
        "import pandas as pd\n",
        "sxl= pd.read_csv(\"M_sexual_LibrariesC_hits_nd_2ndclst_nhits.csv\")\n",
        "sxl['S_Hit'] = sxl['S_Hit'].replace(np.nan, \"No\")\n",
        "sxl = sxl.iloc[: , 1:]\n",
        "print(sxl['S_Hit'].value_counts())\n",
        "sxl"
      ]
    },
    {
      "cell_type": "markdown",
      "metadata": {
        "id": "2QaSmxw8ZxdZ"
      },
      "source": [
        "# MACCSKeysFingerprint"
      ]
    },
    {
      "cell_type": "code",
      "execution_count": null,
      "metadata": {
        "colab": {
          "base_uri": "https://localhost:8080/",
          "height": 537
        },
        "id": "Ob9Gky_4ZfDt",
        "outputId": "c4be5fe8-b728-4f97-d29b-466b88da28f2"
      },
      "outputs": [
        {
          "output_type": "stream",
          "name": "stdout",
          "text": [
            "Looking in indexes: https://pypi.org/simple, https://us-python.pkg.dev/colab-wheels/public/simple/\n",
            "Collecting deepchem\n",
            "  Downloading deepchem-2.7.1-py3-none-any.whl (693 kB)\n",
            "\u001b[2K     \u001b[90m━━━━━━━━━━━━━━━━━━━━━━━━━━━━━━━━━━━━━━\u001b[0m \u001b[32m693.2/693.2 KB\u001b[0m \u001b[31m17.1 MB/s\u001b[0m eta \u001b[36m0:00:00\u001b[0m\n",
            "\u001b[?25hRequirement already satisfied: numpy>=1.21 in /usr/local/lib/python3.9/dist-packages (from deepchem) (1.22.4)\n",
            "Requirement already satisfied: joblib in /usr/local/lib/python3.9/dist-packages (from deepchem) (1.1.1)\n",
            "Requirement already satisfied: pandas in /usr/local/lib/python3.9/dist-packages (from deepchem) (1.4.4)\n",
            "Collecting scipy<1.9\n",
            "  Downloading scipy-1.8.1-cp39-cp39-manylinux_2_17_x86_64.manylinux2014_x86_64.whl (42.2 MB)\n",
            "\u001b[2K     \u001b[90m━━━━━━━━━━━━━━━━━━━━━━━━━━━━━━━━━━━━━━━━\u001b[0m \u001b[32m42.2/42.2 MB\u001b[0m \u001b[31m18.3 MB/s\u001b[0m eta \u001b[36m0:00:00\u001b[0m\n",
            "\u001b[?25hCollecting rdkit\n",
            "  Downloading rdkit-2022.9.5-cp39-cp39-manylinux_2_17_x86_64.manylinux2014_x86_64.whl (29.4 MB)\n",
            "\u001b[2K     \u001b[90m━━━━━━━━━━━━━━━━━━━━━━━━━━━━━━━━━━━━━━━━\u001b[0m \u001b[32m29.4/29.4 MB\u001b[0m \u001b[31m65.7 MB/s\u001b[0m eta \u001b[36m0:00:00\u001b[0m\n",
            "\u001b[?25hRequirement already satisfied: scikit-learn in /usr/local/lib/python3.9/dist-packages (from deepchem) (1.2.2)\n",
            "Requirement already satisfied: pytz>=2020.1 in /usr/local/lib/python3.9/dist-packages (from pandas->deepchem) (2022.7.1)\n",
            "Requirement already satisfied: python-dateutil>=2.8.1 in /usr/local/lib/python3.9/dist-packages (from pandas->deepchem) (2.8.2)\n",
            "Requirement already satisfied: Pillow in /usr/local/lib/python3.9/dist-packages (from rdkit->deepchem) (8.4.0)\n",
            "Requirement already satisfied: threadpoolctl>=2.0.0 in /usr/local/lib/python3.9/dist-packages (from scikit-learn->deepchem) (3.1.0)\n",
            "Requirement already satisfied: six>=1.5 in /usr/local/lib/python3.9/dist-packages (from python-dateutil>=2.8.1->pandas->deepchem) (1.15.0)\n",
            "Installing collected packages: scipy, rdkit, deepchem\n",
            "  Attempting uninstall: scipy\n",
            "    Found existing installation: scipy 1.10.1\n",
            "    Uninstalling scipy-1.10.1:\n",
            "      Successfully uninstalled scipy-1.10.1\n",
            "Successfully installed deepchem-2.7.1 rdkit-2022.9.5 scipy-1.8.1\n"
          ]
        },
        {
          "output_type": "display_data",
          "data": {
            "application/vnd.colab-display-data+json": {
              "pip_warning": {
                "packages": [
                  "rdkit",
                  "scipy"
                ]
              }
            }
          },
          "metadata": {}
        }
      ],
      "source": [
        "!pip install deepchem"
      ]
    },
    {
      "cell_type": "code",
      "execution_count": null,
      "metadata": {
        "id": "sYQZg9gkZeF1",
        "colab": {
          "base_uri": "https://localhost:8080/"
        },
        "outputId": "36b698d0-e293-41eb-fd00-64cee353f83c"
      },
      "outputs": [
        {
          "output_type": "stream",
          "name": "stderr",
          "text": [
            "WARNING:deepchem.models.torch_models:Skipped loading modules with pytorch-geometric dependency, missing a dependency. No module named 'torch_geometric'\n",
            "WARNING:deepchem.models:Skipped loading modules with pytorch-geometric dependency, missing a dependency. cannot import name 'DMPNN' from 'deepchem.models.torch_models' (/usr/local/lib/python3.9/dist-packages/deepchem/models/torch_models/__init__.py)\n",
            "WARNING:deepchem.models:Skipped loading modules with pytorch-lightning dependency, missing a dependency. No module named 'pytorch_lightning'\n",
            "WARNING:deepchem.models:Skipped loading some Jax models, missing a dependency. No module named 'haiku'\n"
          ]
        }
      ],
      "source": [
        "import deepchem as dc\n",
        "from deepchem.feat import MACCSKeysFingerprint"
      ]
    },
    {
      "cell_type": "code",
      "execution_count": null,
      "metadata": {
        "colab": {
          "base_uri": "https://localhost:8080/"
        },
        "id": "3jAkY8TcbA2v",
        "outputId": "6029a64b-155f-4475-9f1a-3eb9624513ad"
      },
      "outputs": [
        {
          "output_type": "execute_result",
          "data": {
            "text/plain": [
              "0    8975\n",
              "1     916\n",
              "Name: Target, dtype: int64"
            ]
          },
          "metadata": {},
          "execution_count": 7
        }
      ],
      "source": [
        "sxl[\"Target\"] = np.where(sxl[\"S_Hit\"]== \"Yes\", 1,0)\n",
        "sxl[\"Target\"].value_counts()"
      ]
    },
    {
      "cell_type": "code",
      "execution_count": null,
      "metadata": {
        "colab": {
          "base_uri": "https://localhost:8080/"
        },
        "id": "hTSHuZYYaTmj",
        "outputId": "7bdf009a-75e0-44d3-9906-10b8c2ecca2e"
      },
      "outputs": [
        {
          "output_type": "execute_result",
          "data": {
            "text/plain": [
              "0       NC(=O)c1cccc2nc([C@H]3CCN(Cc4ccccn4)C3)[nH]c12\n",
              "1                Fc1ccc2[nH]c(C3CCCN3Cc3c[nH]cn3)nc2c1\n",
              "2                        COc1c(C)cnc(CN(C)C2CCCCC2)c1C\n",
              "3                Cc1cccc(CN2CCCC2c2cccc(Nc3nccs3)n2)c1\n",
              "4                   CCSCCNc1nc(-c2ccccn2)nc2c1c(C)nn2C\n",
              "                             ...                      \n",
              "9886          Cc1nc(C)n(C2CCCN(C(=O)c3ncoc3C(C)C)C2)n1\n",
              "9887              COCCN1CCN(Cc2c(C)noc2C)Cc2ccc(C)nc21\n",
              "9888               CCc1ncnc2c1CCN(Cc1ccc3c(c1)OCO3)CC2\n",
              "9889              CCC1CN(CC(=O)NCCN2CCCCCC2)c2ccccc2S1\n",
              "9890                Cc1cnn(CC2CCCN2Cc2nc3ccccc3nc2C)c1\n",
              "Name: Smiles, Length: 9891, dtype: object"
            ]
          },
          "metadata": {},
          "execution_count": 8
        }
      ],
      "source": [
        "dchm= sxl[\"Smiles\"]\n",
        "dchm"
      ]
    },
    {
      "cell_type": "code",
      "execution_count": null,
      "metadata": {
        "colab": {
          "base_uri": "https://localhost:8080/"
        },
        "id": "U9oQ6FwCZojx",
        "outputId": "7530c2cf-9fe8-432e-a006-637bc1ad0a02"
      },
      "outputs": [
        {
          "output_type": "execute_result",
          "data": {
            "text/plain": [
              "array([[0, 0, 0, ..., 1, 1, 0],\n",
              "       [0, 0, 0, ..., 0, 1, 0],\n",
              "       [0, 0, 0, ..., 1, 1, 0],\n",
              "       ...,\n",
              "       [0, 0, 0, ..., 1, 1, 0],\n",
              "       [0, 0, 0, ..., 1, 1, 0],\n",
              "       [0, 0, 0, ..., 0, 1, 0]])"
            ]
          },
          "metadata": {},
          "execution_count": 9
        }
      ],
      "source": [
        "mols = [Chem.MolFromSmiles(x) for x in dchm]\n",
        "featurizer = MACCSKeysFingerprint()\n",
        "maccs = featurizer.featurize(mols)\n",
        "maccs"
      ]
    },
    {
      "cell_type": "code",
      "execution_count": null,
      "metadata": {
        "colab": {
          "base_uri": "https://localhost:8080/",
          "height": 423
        },
        "id": "FLYmRUV4X_h6",
        "outputId": "2cf747da-2056-4ede-c887-6a21ebb38e8e"
      },
      "outputs": [
        {
          "output_type": "execute_result",
          "data": {
            "text/plain": [
              "      0    1    2    3    4    5    6    7    8    9    ...  157  158  159  \\\n",
              "0       0    0    0    0    0    0    0    0    0    0  ...    0    1    0   \n",
              "1       0    0    0    0    0    0    0    0    0    0  ...    0    1    0   \n",
              "2       0    0    0    0    0    0    0    0    0    0  ...    1    1    0   \n",
              "3       0    0    0    0    0    0    0    0    0    0  ...    0    1    0   \n",
              "4       0    0    0    0    0    0    0    0    0    0  ...    0    1    0   \n",
              "...   ...  ...  ...  ...  ...  ...  ...  ...  ...  ...  ...  ...  ...  ...   \n",
              "9886    0    0    0    0    0    0    0    0    0    0  ...    0    1    1   \n",
              "9887    0    0    0    0    0    0    0    0    0    0  ...    1    1    1   \n",
              "9888    0    0    0    0    0    0    0    0    0    0  ...    1    1    1   \n",
              "9889    0    0    0    0    0    0    0    0    0    0  ...    0    1    0   \n",
              "9890    0    0    0    0    0    0    0    0    0    0  ...    0    1    0   \n",
              "\n",
              "      160  161  162  163  164  165  166  \n",
              "0       0    1    1    1    1    1    0  \n",
              "1       0    1    1    1    0    1    0  \n",
              "2       1    1    1    1    1    1    0  \n",
              "3       1    1    1    1    0    1    0  \n",
              "4       1    1    1    1    0    1    0  \n",
              "...   ...  ...  ...  ...  ...  ...  ...  \n",
              "9886    1    1    1    1    1    1    0  \n",
              "9887    1    1    1    1    1    1    0  \n",
              "9888    1    1    1    1    1    1    0  \n",
              "9889    1    1    1    1    1    1    0  \n",
              "9890    1    1    1    1    0    1    0  \n",
              "\n",
              "[9891 rows x 167 columns]"
            ],
            "text/html": [
              "\n",
              "  <div id=\"df-18a58878-df28-46aa-801a-910e1f57704b\">\n",
              "    <div class=\"colab-df-container\">\n",
              "      <div>\n",
              "<style scoped>\n",
              "    .dataframe tbody tr th:only-of-type {\n",
              "        vertical-align: middle;\n",
              "    }\n",
              "\n",
              "    .dataframe tbody tr th {\n",
              "        vertical-align: top;\n",
              "    }\n",
              "\n",
              "    .dataframe thead th {\n",
              "        text-align: right;\n",
              "    }\n",
              "</style>\n",
              "<table border=\"1\" class=\"dataframe\">\n",
              "  <thead>\n",
              "    <tr style=\"text-align: right;\">\n",
              "      <th></th>\n",
              "      <th>0</th>\n",
              "      <th>1</th>\n",
              "      <th>2</th>\n",
              "      <th>3</th>\n",
              "      <th>4</th>\n",
              "      <th>5</th>\n",
              "      <th>6</th>\n",
              "      <th>7</th>\n",
              "      <th>8</th>\n",
              "      <th>9</th>\n",
              "      <th>...</th>\n",
              "      <th>157</th>\n",
              "      <th>158</th>\n",
              "      <th>159</th>\n",
              "      <th>160</th>\n",
              "      <th>161</th>\n",
              "      <th>162</th>\n",
              "      <th>163</th>\n",
              "      <th>164</th>\n",
              "      <th>165</th>\n",
              "      <th>166</th>\n",
              "    </tr>\n",
              "  </thead>\n",
              "  <tbody>\n",
              "    <tr>\n",
              "      <th>0</th>\n",
              "      <td>0</td>\n",
              "      <td>0</td>\n",
              "      <td>0</td>\n",
              "      <td>0</td>\n",
              "      <td>0</td>\n",
              "      <td>0</td>\n",
              "      <td>0</td>\n",
              "      <td>0</td>\n",
              "      <td>0</td>\n",
              "      <td>0</td>\n",
              "      <td>...</td>\n",
              "      <td>0</td>\n",
              "      <td>1</td>\n",
              "      <td>0</td>\n",
              "      <td>0</td>\n",
              "      <td>1</td>\n",
              "      <td>1</td>\n",
              "      <td>1</td>\n",
              "      <td>1</td>\n",
              "      <td>1</td>\n",
              "      <td>0</td>\n",
              "    </tr>\n",
              "    <tr>\n",
              "      <th>1</th>\n",
              "      <td>0</td>\n",
              "      <td>0</td>\n",
              "      <td>0</td>\n",
              "      <td>0</td>\n",
              "      <td>0</td>\n",
              "      <td>0</td>\n",
              "      <td>0</td>\n",
              "      <td>0</td>\n",
              "      <td>0</td>\n",
              "      <td>0</td>\n",
              "      <td>...</td>\n",
              "      <td>0</td>\n",
              "      <td>1</td>\n",
              "      <td>0</td>\n",
              "      <td>0</td>\n",
              "      <td>1</td>\n",
              "      <td>1</td>\n",
              "      <td>1</td>\n",
              "      <td>0</td>\n",
              "      <td>1</td>\n",
              "      <td>0</td>\n",
              "    </tr>\n",
              "    <tr>\n",
              "      <th>2</th>\n",
              "      <td>0</td>\n",
              "      <td>0</td>\n",
              "      <td>0</td>\n",
              "      <td>0</td>\n",
              "      <td>0</td>\n",
              "      <td>0</td>\n",
              "      <td>0</td>\n",
              "      <td>0</td>\n",
              "      <td>0</td>\n",
              "      <td>0</td>\n",
              "      <td>...</td>\n",
              "      <td>1</td>\n",
              "      <td>1</td>\n",
              "      <td>0</td>\n",
              "      <td>1</td>\n",
              "      <td>1</td>\n",
              "      <td>1</td>\n",
              "      <td>1</td>\n",
              "      <td>1</td>\n",
              "      <td>1</td>\n",
              "      <td>0</td>\n",
              "    </tr>\n",
              "    <tr>\n",
              "      <th>3</th>\n",
              "      <td>0</td>\n",
              "      <td>0</td>\n",
              "      <td>0</td>\n",
              "      <td>0</td>\n",
              "      <td>0</td>\n",
              "      <td>0</td>\n",
              "      <td>0</td>\n",
              "      <td>0</td>\n",
              "      <td>0</td>\n",
              "      <td>0</td>\n",
              "      <td>...</td>\n",
              "      <td>0</td>\n",
              "      <td>1</td>\n",
              "      <td>0</td>\n",
              "      <td>1</td>\n",
              "      <td>1</td>\n",
              "      <td>1</td>\n",
              "      <td>1</td>\n",
              "      <td>0</td>\n",
              "      <td>1</td>\n",
              "      <td>0</td>\n",
              "    </tr>\n",
              "    <tr>\n",
              "      <th>4</th>\n",
              "      <td>0</td>\n",
              "      <td>0</td>\n",
              "      <td>0</td>\n",
              "      <td>0</td>\n",
              "      <td>0</td>\n",
              "      <td>0</td>\n",
              "      <td>0</td>\n",
              "      <td>0</td>\n",
              "      <td>0</td>\n",
              "      <td>0</td>\n",
              "      <td>...</td>\n",
              "      <td>0</td>\n",
              "      <td>1</td>\n",
              "      <td>0</td>\n",
              "      <td>1</td>\n",
              "      <td>1</td>\n",
              "      <td>1</td>\n",
              "      <td>1</td>\n",
              "      <td>0</td>\n",
              "      <td>1</td>\n",
              "      <td>0</td>\n",
              "    </tr>\n",
              "    <tr>\n",
              "      <th>...</th>\n",
              "      <td>...</td>\n",
              "      <td>...</td>\n",
              "      <td>...</td>\n",
              "      <td>...</td>\n",
              "      <td>...</td>\n",
              "      <td>...</td>\n",
              "      <td>...</td>\n",
              "      <td>...</td>\n",
              "      <td>...</td>\n",
              "      <td>...</td>\n",
              "      <td>...</td>\n",
              "      <td>...</td>\n",
              "      <td>...</td>\n",
              "      <td>...</td>\n",
              "      <td>...</td>\n",
              "      <td>...</td>\n",
              "      <td>...</td>\n",
              "      <td>...</td>\n",
              "      <td>...</td>\n",
              "      <td>...</td>\n",
              "      <td>...</td>\n",
              "    </tr>\n",
              "    <tr>\n",
              "      <th>9886</th>\n",
              "      <td>0</td>\n",
              "      <td>0</td>\n",
              "      <td>0</td>\n",
              "      <td>0</td>\n",
              "      <td>0</td>\n",
              "      <td>0</td>\n",
              "      <td>0</td>\n",
              "      <td>0</td>\n",
              "      <td>0</td>\n",
              "      <td>0</td>\n",
              "      <td>...</td>\n",
              "      <td>0</td>\n",
              "      <td>1</td>\n",
              "      <td>1</td>\n",
              "      <td>1</td>\n",
              "      <td>1</td>\n",
              "      <td>1</td>\n",
              "      <td>1</td>\n",
              "      <td>1</td>\n",
              "      <td>1</td>\n",
              "      <td>0</td>\n",
              "    </tr>\n",
              "    <tr>\n",
              "      <th>9887</th>\n",
              "      <td>0</td>\n",
              "      <td>0</td>\n",
              "      <td>0</td>\n",
              "      <td>0</td>\n",
              "      <td>0</td>\n",
              "      <td>0</td>\n",
              "      <td>0</td>\n",
              "      <td>0</td>\n",
              "      <td>0</td>\n",
              "      <td>0</td>\n",
              "      <td>...</td>\n",
              "      <td>1</td>\n",
              "      <td>1</td>\n",
              "      <td>1</td>\n",
              "      <td>1</td>\n",
              "      <td>1</td>\n",
              "      <td>1</td>\n",
              "      <td>1</td>\n",
              "      <td>1</td>\n",
              "      <td>1</td>\n",
              "      <td>0</td>\n",
              "    </tr>\n",
              "    <tr>\n",
              "      <th>9888</th>\n",
              "      <td>0</td>\n",
              "      <td>0</td>\n",
              "      <td>0</td>\n",
              "      <td>0</td>\n",
              "      <td>0</td>\n",
              "      <td>0</td>\n",
              "      <td>0</td>\n",
              "      <td>0</td>\n",
              "      <td>0</td>\n",
              "      <td>0</td>\n",
              "      <td>...</td>\n",
              "      <td>1</td>\n",
              "      <td>1</td>\n",
              "      <td>1</td>\n",
              "      <td>1</td>\n",
              "      <td>1</td>\n",
              "      <td>1</td>\n",
              "      <td>1</td>\n",
              "      <td>1</td>\n",
              "      <td>1</td>\n",
              "      <td>0</td>\n",
              "    </tr>\n",
              "    <tr>\n",
              "      <th>9889</th>\n",
              "      <td>0</td>\n",
              "      <td>0</td>\n",
              "      <td>0</td>\n",
              "      <td>0</td>\n",
              "      <td>0</td>\n",
              "      <td>0</td>\n",
              "      <td>0</td>\n",
              "      <td>0</td>\n",
              "      <td>0</td>\n",
              "      <td>0</td>\n",
              "      <td>...</td>\n",
              "      <td>0</td>\n",
              "      <td>1</td>\n",
              "      <td>0</td>\n",
              "      <td>1</td>\n",
              "      <td>1</td>\n",
              "      <td>1</td>\n",
              "      <td>1</td>\n",
              "      <td>1</td>\n",
              "      <td>1</td>\n",
              "      <td>0</td>\n",
              "    </tr>\n",
              "    <tr>\n",
              "      <th>9890</th>\n",
              "      <td>0</td>\n",
              "      <td>0</td>\n",
              "      <td>0</td>\n",
              "      <td>0</td>\n",
              "      <td>0</td>\n",
              "      <td>0</td>\n",
              "      <td>0</td>\n",
              "      <td>0</td>\n",
              "      <td>0</td>\n",
              "      <td>0</td>\n",
              "      <td>...</td>\n",
              "      <td>0</td>\n",
              "      <td>1</td>\n",
              "      <td>0</td>\n",
              "      <td>1</td>\n",
              "      <td>1</td>\n",
              "      <td>1</td>\n",
              "      <td>1</td>\n",
              "      <td>0</td>\n",
              "      <td>1</td>\n",
              "      <td>0</td>\n",
              "    </tr>\n",
              "  </tbody>\n",
              "</table>\n",
              "<p>9891 rows × 167 columns</p>\n",
              "</div>\n",
              "      <button class=\"colab-df-convert\" onclick=\"convertToInteractive('df-18a58878-df28-46aa-801a-910e1f57704b')\"\n",
              "              title=\"Convert this dataframe to an interactive table.\"\n",
              "              style=\"display:none;\">\n",
              "        \n",
              "  <svg xmlns=\"http://www.w3.org/2000/svg\" height=\"24px\"viewBox=\"0 0 24 24\"\n",
              "       width=\"24px\">\n",
              "    <path d=\"M0 0h24v24H0V0z\" fill=\"none\"/>\n",
              "    <path d=\"M18.56 5.44l.94 2.06.94-2.06 2.06-.94-2.06-.94-.94-2.06-.94 2.06-2.06.94zm-11 1L8.5 8.5l.94-2.06 2.06-.94-2.06-.94L8.5 2.5l-.94 2.06-2.06.94zm10 10l.94 2.06.94-2.06 2.06-.94-2.06-.94-.94-2.06-.94 2.06-2.06.94z\"/><path d=\"M17.41 7.96l-1.37-1.37c-.4-.4-.92-.59-1.43-.59-.52 0-1.04.2-1.43.59L10.3 9.45l-7.72 7.72c-.78.78-.78 2.05 0 2.83L4 21.41c.39.39.9.59 1.41.59.51 0 1.02-.2 1.41-.59l7.78-7.78 2.81-2.81c.8-.78.8-2.07 0-2.86zM5.41 20L4 18.59l7.72-7.72 1.47 1.35L5.41 20z\"/>\n",
              "  </svg>\n",
              "      </button>\n",
              "      \n",
              "  <style>\n",
              "    .colab-df-container {\n",
              "      display:flex;\n",
              "      flex-wrap:wrap;\n",
              "      gap: 12px;\n",
              "    }\n",
              "\n",
              "    .colab-df-convert {\n",
              "      background-color: #E8F0FE;\n",
              "      border: none;\n",
              "      border-radius: 50%;\n",
              "      cursor: pointer;\n",
              "      display: none;\n",
              "      fill: #1967D2;\n",
              "      height: 32px;\n",
              "      padding: 0 0 0 0;\n",
              "      width: 32px;\n",
              "    }\n",
              "\n",
              "    .colab-df-convert:hover {\n",
              "      background-color: #E2EBFA;\n",
              "      box-shadow: 0px 1px 2px rgba(60, 64, 67, 0.3), 0px 1px 3px 1px rgba(60, 64, 67, 0.15);\n",
              "      fill: #174EA6;\n",
              "    }\n",
              "\n",
              "    [theme=dark] .colab-df-convert {\n",
              "      background-color: #3B4455;\n",
              "      fill: #D2E3FC;\n",
              "    }\n",
              "\n",
              "    [theme=dark] .colab-df-convert:hover {\n",
              "      background-color: #434B5C;\n",
              "      box-shadow: 0px 1px 3px 1px rgba(0, 0, 0, 0.15);\n",
              "      filter: drop-shadow(0px 1px 2px rgba(0, 0, 0, 0.3));\n",
              "      fill: #FFFFFF;\n",
              "    }\n",
              "  </style>\n",
              "\n",
              "      <script>\n",
              "        const buttonEl =\n",
              "          document.querySelector('#df-18a58878-df28-46aa-801a-910e1f57704b button.colab-df-convert');\n",
              "        buttonEl.style.display =\n",
              "          google.colab.kernel.accessAllowed ? 'block' : 'none';\n",
              "\n",
              "        async function convertToInteractive(key) {\n",
              "          const element = document.querySelector('#df-18a58878-df28-46aa-801a-910e1f57704b');\n",
              "          const dataTable =\n",
              "            await google.colab.kernel.invokeFunction('convertToInteractive',\n",
              "                                                     [key], {});\n",
              "          if (!dataTable) return;\n",
              "\n",
              "          const docLinkHtml = 'Like what you see? Visit the ' +\n",
              "            '<a target=\"_blank\" href=https://colab.research.google.com/notebooks/data_table.ipynb>data table notebook</a>'\n",
              "            + ' to learn more about interactive tables.';\n",
              "          element.innerHTML = '';\n",
              "          dataTable['output_type'] = 'display_data';\n",
              "          await google.colab.output.renderOutput(dataTable, element);\n",
              "          const docLink = document.createElement('div');\n",
              "          docLink.innerHTML = docLinkHtml;\n",
              "          element.appendChild(docLink);\n",
              "        }\n",
              "      </script>\n",
              "    </div>\n",
              "  </div>\n",
              "  "
            ]
          },
          "metadata": {},
          "execution_count": 12
        }
      ],
      "source": [
        "df=[]\n",
        "df = pd.DataFrame(maccs)\n",
        "#df[\"Target\"]= sxl[\"Target\"]\n",
        "df"
      ]
    },
    {
      "cell_type": "code",
      "execution_count": null,
      "metadata": {
        "id": "SjWOHDVKcc9z"
      },
      "outputs": [],
      "source": [
        "from sklearn.model_selection import train_test_split\n",
        "Xt_train, Xt_test, Yt_train, Yt_test = train_test_split(df, sxl[\"Target\"],test_size=0.2, random_state=42)"
      ]
    },
    {
      "cell_type": "code",
      "execution_count": null,
      "metadata": {
        "id": "nYysoO4qEVy1"
      },
      "outputs": [],
      "source": [
        "######################################################################Penalized_SVM (https://www.analyticsvidhya.com/blog/2020/07/10-techniques-to-deal-with-class-imbalance-in-machine-learning/)\n",
        "\n",
        "# load library\n",
        "from sklearn.svm import SVC\n",
        "\n",
        "# we can add class_weight='balanced' to add panalize mistake\n",
        "svc_model = SVC(class_weight='balanced', probability=True)\n",
        "\n",
        "svc_model.fit(Xt_train, Yt_train)\n",
        "\n",
        "svc_predict = svc_model.predict(Xt_test)# check performance\n"
      ]
    },
    {
      "cell_type": "code",
      "execution_count": null,
      "metadata": {
        "colab": {
          "base_uri": "https://localhost:8080/"
        },
        "id": "pPjr1fwVhp_o",
        "outputId": "207abb78-8e49-409f-cabf-051af92555d3"
      },
      "outputs": [
        {
          "name": "stdout",
          "output_type": "stream",
          "text": [
            "/content\n",
            "0.953511874684184\n"
          ]
        }
      ],
      "source": [
        "# Save Model Using joblib\n",
        "import pandas\n",
        "from sklearn import model_selection\n",
        "from sklearn.linear_model import LogisticRegression\n",
        "import joblib\n",
        "\n",
        "%cd /content/\n",
        "# save the model to disk\n",
        "filename = 'sexualsPenalizedSVM_UMACCS_model.sav'\n",
        "joblib.dump(svc_model, filename)\n",
        " \n",
        "# some time later...\n",
        " \n",
        "# load the model from disk\n",
        "loaded_model = joblib.load(filename)\n",
        "result = loaded_model.score(Xt_test, Yt_test)\n",
        "print(result)"
      ]
    },
    {
      "cell_type": "code",
      "execution_count": null,
      "metadata": {
        "id": "0_qWl0HRlSQG"
      },
      "outputs": [],
      "source": [
        "!cp sexualsPenalizedSVM_UMACCS_model.sav /content/drive/MyDrive/PhD/PenalizedSVM_MACCS"
      ]
    },
    {
      "cell_type": "code",
      "execution_count": null,
      "metadata": {
        "colab": {
          "base_uri": "https://localhost:8080/"
        },
        "id": "zmszjkYhl_TA",
        "outputId": "d5a349f0-70e4-41de-b987-0595c96471c6"
      },
      "outputs": [
        {
          "name": "stdout",
          "output_type": "stream",
          "text": [
            "/content/drive/MyDrive/PhD/PenalizedSVM_MACCS\n",
            "sexualsPenalizedSVM_UMACCS_model.sav\n"
          ]
        }
      ],
      "source": [
        "###Import model\n",
        "#Optional: move to the desired location:\n",
        "%cd /content/drive/MyDrive/PhD/PenalizedSVM_MACCS\n",
        "!ls '/content/drive/MyDrive/PhD/PenalizedSVM_MACCS'"
      ]
    },
    {
      "cell_type": "code",
      "execution_count": null,
      "metadata": {
        "colab": {
          "base_uri": "https://localhost:8080/"
        },
        "id": "dk7ClzqxmMdx",
        "outputId": "efcfc6f5-0924-404e-dbe8-f4db4d7a7f7f"
      },
      "outputs": [
        {
          "name": "stdout",
          "output_type": "stream",
          "text": [
            "0.953511874684184\n"
          ]
        }
      ],
      "source": [
        "import pandas\n",
        "from sklearn import model_selection\n",
        "from sklearn.linear_model import LogisticRegression\n",
        "import joblib\n",
        "\n",
        "# load the model from disk\n",
        "loaded_model = joblib.load('/content/drive/MyDrive/PhD/PenalizedSVM_MACCS/sexualsPenalizedSVM_UMACCS_model.sav')\n",
        "result = loaded_model.score(Xt_test, Yt_test)\n",
        "print(result)"
      ]
    },
    {
      "cell_type": "code",
      "execution_count": null,
      "metadata": {
        "colab": {
          "base_uri": "https://localhost:8080/"
        },
        "id": "ijuRqMBme2jv",
        "outputId": "97e79937-4689-4f7e-9049-a921117e7ec7"
      },
      "outputs": [
        {
          "name": "stdout",
          "output_type": "stream",
          "text": [
            "Accuracy: 0.953512\n",
            "Recall 0.869110\n",
            "precision 0.712446\n",
            "F1 score: 0.783019\n"
          ]
        },
        {
          "data": {
            "text/plain": [
              "array([[1721,   67],\n",
              "       [  25,  166]])"
            ]
          },
          "execution_count": 46,
          "metadata": {},
          "output_type": "execute_result"
        }
      ],
      "source": [
        "from sklearn.metrics import recall_score, precision_recall_curve,precision_score, confusion_matrix, accuracy_score, f1_score\n",
        "# accuracy: (tp + tn) / (p + n)\n",
        "accuracy = accuracy_score(Yt_test,svc_predict)\n",
        "print('Accuracy: %f' % accuracy)\n",
        "recall= recall_score(Yt_test,svc_predict)\n",
        "print(\"Recall %f\" % recall)\n",
        "precision= precision_score(Yt_test,svc_predict)\n",
        "print(\"precision %f\" % precision)\n",
        "# f1: 2 tp / (2 tp + fp + fn)\n",
        "f1 = f1_score(Yt_test,svc_predict)\n",
        "print('F1 score: %f' % f1)\n",
        "cm= confusion_matrix(Yt_test,svc_predict)\n",
        "cm"
      ]
    },
    {
      "cell_type": "code",
      "execution_count": null,
      "metadata": {
        "colab": {
          "base_uri": "https://localhost:8080/"
        },
        "id": "XERQMnOXev1t",
        "outputId": "699cab67-5d68-4eb0-bf74-b51ab49cd76a"
      },
      "outputs": [
        {
          "name": "stdout",
          "output_type": "stream",
          "text": [
            "ROCAUC score: 0.9158189559248978\n",
            "Accuracy score: 0.953511874684184\n",
            "F1 score: 0.7830188679245284\n"
          ]
        }
      ],
      "source": [
        "from sklearn.metrics import recall_score, precision_recall_curve,precision_score, confusion_matrix, accuracy_score, f1_score, roc_auc_score\n",
        "print('ROCAUC score:',roc_auc_score(Yt_test, svc_predict))\n",
        "print('Accuracy score:',accuracy_score(Yt_test, svc_predict))\n",
        "print('F1 score:',f1_score(Yt_test, svc_predict))"
      ]
    },
    {
      "cell_type": "code",
      "execution_count": null,
      "metadata": {
        "colab": {
          "base_uri": "https://localhost:8080/"
        },
        "id": "eQTH1FTOfpJY",
        "outputId": "98feb5d6-9da5-4acd-c7c7-dd54923fe614"
      },
      "outputs": [
        {
          "name": "stdout",
          "output_type": "stream",
          "text": [
            "Cohens kappa: 0.757272\n",
            "ROC AUC: 0.915819\n",
            "[[1721   67]\n",
            " [  25  166]]\n"
          ]
        }
      ],
      "source": [
        "from sklearn.metrics import recall_score, precision_recall_curve,precision_score, confusion_matrix, accuracy_score, f1_score, roc_auc_score, cohen_kappa_score\n",
        "# kappa\n",
        "kappa = cohen_kappa_score(Yt_test, svc_predict)\n",
        "print('Cohens kappa: %f' % kappa)\n",
        "# ROC AUC\n",
        "auc = roc_auc_score(Yt_test, svc_predict)\n",
        "print('ROC AUC: %f' % auc)\n",
        "# confusion matrix\n",
        "matrix = confusion_matrix(Yt_test, svc_predict)\n",
        "print(matrix)"
      ]
    },
    {
      "cell_type": "code",
      "execution_count": null,
      "metadata": {
        "colab": {
          "base_uri": "https://localhost:8080/"
        },
        "id": "0i-cqyKqjNKO",
        "outputId": "188ef630-76a8-48c7-9f15-4627b176e1c2"
      },
      "outputs": [
        {
          "name": "stdout",
          "output_type": "stream",
          "text": [
            "Test Set: 1979\n",
            "0    1788\n",
            "1     191\n",
            "Name: Target, dtype: int64\n",
            "[[1721   67]\n",
            " [  25  166]]\n"
          ]
        }
      ],
      "source": [
        "print(f\"Test Set: {len(Xt_test)}\")\n",
        "print(Yt_test.value_counts())\n",
        "print(matrix)"
      ]
    },
    {
      "cell_type": "code",
      "execution_count": null,
      "metadata": {
        "id": "kmMnq_zQsshd"
      },
      "outputs": [],
      "source": [
        "##################################################Cross validation kfold=10\n",
        "\n",
        "# load library\n",
        "from sklearn.svm import SVC\n",
        "\n",
        "# we can add class_weight='balanced' to add panalize mistake\n",
        "svc_model = SVC(class_weight='balanced', probability=True)\n",
        "\n",
        "fit= svc_model.fit(Xt_train, Yt_train)\n",
        "\n",
        "svc_predict = svc_model.predict(Xt_test)# check performance\n",
        "\n",
        "from sklearn.model_selection import cross_val_score\n",
        "scores = cross_val_score(svc_model,Xt_train, Yt_train, cv=10)"
      ]
    },
    {
      "cell_type": "code",
      "execution_count": null,
      "metadata": {
        "colab": {
          "base_uri": "https://localhost:8080/"
        },
        "id": "oB9KSqmXt1FW",
        "outputId": "745c31a3-6a3f-4275-b53b-00982c76cc9e"
      },
      "outputs": [
        {
          "name": "stdout",
          "output_type": "stream",
          "text": [
            "0.96 accuracy with a standard deviation of 0.01\n"
          ]
        }
      ],
      "source": [
        "print(\"%0.2f accuracy with a standard deviation of %0.2f\" % (scores.mean(), scores.std()))"
      ]
    },
    {
      "cell_type": "code",
      "execution_count": null,
      "metadata": {
        "colab": {
          "base_uri": "https://localhost:8080/"
        },
        "id": "nACTwGoPtS6P",
        "outputId": "815b92b9-d2f7-4d67-9139-2c80998f1096"
      },
      "outputs": [
        {
          "name": "stdout",
          "output_type": "stream",
          "text": [
            "Accuracy: 0.953512\n",
            "Recall 0.869110\n",
            "precision 0.712446\n",
            "F1 score: 0.783019\n"
          ]
        },
        {
          "data": {
            "text/plain": [
              "array([[1721,   67],\n",
              "       [  25,  166]])"
            ]
          },
          "execution_count": 16,
          "metadata": {},
          "output_type": "execute_result"
        }
      ],
      "source": [
        "from sklearn.metrics import recall_score, precision_recall_curve,precision_score, confusion_matrix, accuracy_score, f1_score\n",
        "# accuracy: (tp + tn) / (p + n)\n",
        "accuracy = accuracy_score(Yt_test,svc_predict)\n",
        "print('Accuracy: %f' % accuracy)\n",
        "recall= recall_score(Yt_test,svc_predict)\n",
        "print(\"Recall %f\" % recall)\n",
        "precision= precision_score(Yt_test,svc_predict)\n",
        "print(\"precision %f\" % precision)\n",
        "# f1: 2 tp / (2 tp + fp + fn)\n",
        "f1 = f1_score(Yt_test,svc_predict)\n",
        "print('F1 score: %f' % f1)\n",
        "cm= confusion_matrix(Yt_test,svc_predict)\n",
        "cm"
      ]
    },
    {
      "cell_type": "code",
      "execution_count": null,
      "metadata": {
        "colab": {
          "base_uri": "https://localhost:8080/"
        },
        "id": "dwSSnFwftTMH",
        "outputId": "6a3620b0-7775-4303-d981-0ea672cf06c1"
      },
      "outputs": [
        {
          "name": "stdout",
          "output_type": "stream",
          "text": [
            "ROCAUC score: 0.9158189559248978\n",
            "Accuracy score: 0.953511874684184\n",
            "F1 score: 0.7830188679245284\n"
          ]
        }
      ],
      "source": [
        "from sklearn.metrics import recall_score, precision_recall_curve,precision_score, confusion_matrix, accuracy_score, f1_score, roc_auc_score\n",
        "print('ROCAUC score:',roc_auc_score(Yt_test, svc_predict))\n",
        "print('Accuracy score:',accuracy_score(Yt_test, svc_predict))\n",
        "print('F1 score:',f1_score(Yt_test, svc_predict))"
      ]
    },
    {
      "cell_type": "code",
      "execution_count": null,
      "metadata": {
        "colab": {
          "base_uri": "https://localhost:8080/"
        },
        "id": "YMCvaoQBtTZd",
        "outputId": "0bbc94a6-07b0-4d2d-dcf3-c0b9e2d0c3cf"
      },
      "outputs": [
        {
          "name": "stdout",
          "output_type": "stream",
          "text": [
            "Cohens kappa: 0.757272\n",
            "ROC AUC: 0.915819\n",
            "[[1721   67]\n",
            " [  25  166]]\n"
          ]
        }
      ],
      "source": [
        "from sklearn.metrics import recall_score, precision_recall_curve,precision_score, confusion_matrix, accuracy_score, f1_score, roc_auc_score, cohen_kappa_score\n",
        "# kappa\n",
        "kappa = cohen_kappa_score(Yt_test, svc_predict)\n",
        "print('Cohens kappa: %f' % kappa)\n",
        "# ROC AUC\n",
        "auc = roc_auc_score(Yt_test, svc_predict)\n",
        "print('ROC AUC: %f' % auc)\n",
        "# confusion matrix\n",
        "matrix = confusion_matrix(Yt_test, svc_predict)\n",
        "print(matrix)"
      ]
    },
    {
      "cell_type": "code",
      "execution_count": null,
      "metadata": {
        "colab": {
          "base_uri": "https://localhost:8080/"
        },
        "id": "hQ2AdbxftThf",
        "outputId": "2cc5bb11-8787-4f5b-ef4d-1c8151fa0783"
      },
      "outputs": [
        {
          "name": "stdout",
          "output_type": "stream",
          "text": [
            "Test Set: 1979\n",
            "0    1788\n",
            "1     191\n",
            "Name: Target, dtype: int64\n",
            "[[1721   67]\n",
            " [  25  166]]\n"
          ]
        }
      ],
      "source": [
        "print(f\"Test Set: {len(Xt_test)}\")\n",
        "print(Yt_test.value_counts())\n",
        "print(matrix)"
      ]
    },
    {
      "cell_type": "markdown",
      "metadata": {
        "id": "EJyy8o4qjr-M"
      },
      "source": [
        "# Hyperparameter tuning\n",
        "\n",
        "\n",
        "---\n",
        "\n",
        "\n",
        "\n",
        "---\n",
        "\n"
      ]
    },
    {
      "cell_type": "code",
      "execution_count": null,
      "metadata": {
        "id": "6Q3AJoWujywB"
      },
      "outputs": [],
      "source": [
        "## hyper-parameters (like what C or gamma values to use)\n",
        "# load library\n",
        "from sklearn.svm import SVC\n",
        "\n",
        "# we can add class_weight='balanced' to add panalize mistake\n",
        "svc_model = SVC(class_weight='balanced', probability=True)"
      ]
    },
    {
      "cell_type": "code",
      "execution_count": null,
      "metadata": {
        "id": "EN9X-Kj4mTmD"
      },
      "outputs": [],
      "source": [
        "kernels = ['Polynomial', 'RBF', 'Sigmoid','Linear']#A function which returns the corresponding SVC model\n",
        "def getClassifier(ktype):\n",
        "    if ktype == 0:\n",
        "        # Polynomial kernal\n",
        "        return SVC(kernel='poly', degree=8, gamma=\"auto\",class_weight='balanced', probability=True)\n",
        "    elif ktype == 1:\n",
        "        # Radial Basis Function kernal\n",
        "        return SVC(kernel='rbf', gamma=\"auto\", class_weight='balanced', probability=True)\n",
        "    elif ktype == 2:\n",
        "        # Sigmoid kernal\n",
        "        return SVC(kernel='sigmoid', gamma=\"auto\", class_weight='balanced', probability=True)\n",
        "    elif ktype == 3:\n",
        "        # Linear kernal\n",
        "        return SVC(kernel='linear', gamma=\"auto\", class_weight='balanced', probability=True)"
      ]
    },
    {
      "cell_type": "code",
      "execution_count": null,
      "metadata": {
        "colab": {
          "base_uri": "https://localhost:8080/"
        },
        "id": "tPLMkWwMlktk",
        "outputId": "97aa19da-bee7-434c-832a-1351699afac3"
      },
      "outputs": [
        {
          "name": "stdout",
          "output_type": "stream",
          "text": [
            "Evaluation: Polynomial kernel\n",
            "              precision    recall  f1-score   support\n",
            "\n",
            "           0       0.00      0.00      0.00      1788\n",
            "           1       0.10      1.00      0.18       191\n",
            "\n",
            "    accuracy                           0.10      1979\n",
            "   macro avg       0.05      0.50      0.09      1979\n",
            "weighted avg       0.01      0.10      0.02      1979\n",
            "\n"
          ]
        },
        {
          "name": "stderr",
          "output_type": "stream",
          "text": [
            "/usr/local/lib/python3.7/dist-packages/sklearn/metrics/_classification.py:1318: UndefinedMetricWarning: Precision and F-score are ill-defined and being set to 0.0 in labels with no predicted samples. Use `zero_division` parameter to control this behavior.\n",
            "  _warn_prf(average, modifier, msg_start, len(result))\n",
            "/usr/local/lib/python3.7/dist-packages/sklearn/metrics/_classification.py:1318: UndefinedMetricWarning: Precision and F-score are ill-defined and being set to 0.0 in labels with no predicted samples. Use `zero_division` parameter to control this behavior.\n",
            "  _warn_prf(average, modifier, msg_start, len(result))\n",
            "/usr/local/lib/python3.7/dist-packages/sklearn/metrics/_classification.py:1318: UndefinedMetricWarning: Precision and F-score are ill-defined and being set to 0.0 in labels with no predicted samples. Use `zero_division` parameter to control this behavior.\n",
            "  _warn_prf(average, modifier, msg_start, len(result))\n"
          ]
        },
        {
          "name": "stdout",
          "output_type": "stream",
          "text": [
            "Evaluation: RBF kernel\n",
            "              precision    recall  f1-score   support\n",
            "\n",
            "           0       0.99      0.93      0.96      1788\n",
            "           1       0.56      0.88      0.68       191\n",
            "\n",
            "    accuracy                           0.92      1979\n",
            "   macro avg       0.77      0.90      0.82      1979\n",
            "weighted avg       0.95      0.92      0.93      1979\n",
            "\n",
            "Evaluation: Sigmoid kernel\n",
            "              precision    recall  f1-score   support\n",
            "\n",
            "           0       0.98      0.90      0.94      1788\n",
            "           1       0.48      0.87      0.62       191\n",
            "\n",
            "    accuracy                           0.90      1979\n",
            "   macro avg       0.73      0.89      0.78      1979\n",
            "weighted avg       0.94      0.90      0.91      1979\n",
            "\n",
            "Evaluation: Linear kernel\n",
            "              precision    recall  f1-score   support\n",
            "\n",
            "           0       0.98      0.92      0.95      1788\n",
            "           1       0.54      0.86      0.67       191\n",
            "\n",
            "    accuracy                           0.92      1979\n",
            "   macro avg       0.76      0.89      0.81      1979\n",
            "weighted avg       0.94      0.92      0.93      1979\n",
            "\n"
          ]
        }
      ],
      "source": [
        "## https://www.vebuso.com/2020/03/svm-hyperparameter-tuning-using-gridsearchcv/\n",
        "import pandas as pd  \n",
        "import numpy as np  \n",
        "from sklearn.svm import SVC  \n",
        "from sklearn.metrics import classification_report, confusion_matrix  \n",
        "from sklearn.metrics import recall_score, precision_recall_curve,precision_score, confusion_matrix, accuracy_score, f1_score, roc_auc_score\n",
        "import matplotlib.pyplot as plt\n",
        "%matplotlib inline\n",
        "\n",
        "for i in range(4):\n",
        "    # Separate data into test and training sets\n",
        "    X_train, X_test, y_train, y_test = train_test_split(df, sxl[\"Target\"],test_size=0.2, random_state=42)# Train a SVC model using different kernal\n",
        "    svclassifier = getClassifier(i) \n",
        "    svclassifier.fit(X_train, y_train)# Make prediction\n",
        "    y_pred = svclassifier.predict(X_test)# Evaluate our model\n",
        "    print(\"Evaluation:\", kernels[i], \"kernel\")\n",
        "    print(classification_report(y_test,y_pred))"
      ]
    },
    {
      "cell_type": "code",
      "execution_count": null,
      "metadata": {
        "colab": {
          "base_uri": "https://localhost:8080/"
        },
        "id": "8PO8j9rnoBhP",
        "outputId": "c3c99d07-4fc0-4b13-fb39-d55c42170b96"
      },
      "outputs": [
        {
          "name": "stdout",
          "output_type": "stream",
          "text": [
            "Fitting 10 folds for each of 25 candidates, totalling 250 fits\n",
            "[CV 1/10] END .......C=0.1, gamma=1, kernel=rbf;, score=0.894 total time=  54.0s\n",
            "[CV 2/10] END .......C=0.1, gamma=1, kernel=rbf;, score=0.915 total time=  44.9s\n",
            "[CV 3/10] END .......C=0.1, gamma=1, kernel=rbf;, score=0.896 total time=  41.0s\n",
            "[CV 4/10] END .......C=0.1, gamma=1, kernel=rbf;, score=0.914 total time=  42.9s\n",
            "[CV 5/10] END .......C=0.1, gamma=1, kernel=rbf;, score=0.913 total time=  49.0s\n",
            "[CV 6/10] END .......C=0.1, gamma=1, kernel=rbf;, score=0.932 total time=  48.4s\n",
            "[CV 7/10] END .......C=0.1, gamma=1, kernel=rbf;, score=0.930 total time=  47.9s\n",
            "[CV 8/10] END .......C=0.1, gamma=1, kernel=rbf;, score=0.917 total time=  43.7s\n",
            "[CV 9/10] END .......C=0.1, gamma=1, kernel=rbf;, score=0.913 total time=  43.0s\n",
            "[CV 10/10] END ......C=0.1, gamma=1, kernel=rbf;, score=0.919 total time=  41.9s\n",
            "[CV 1/10] END .....C=0.1, gamma=0.1, kernel=rbf;, score=0.933 total time=  23.6s\n",
            "[CV 2/10] END .....C=0.1, gamma=0.1, kernel=rbf;, score=0.933 total time=  24.0s\n",
            "[CV 3/10] END .....C=0.1, gamma=0.1, kernel=rbf;, score=0.937 total time=  23.7s\n",
            "[CV 4/10] END .....C=0.1, gamma=0.1, kernel=rbf;, score=0.944 total time=  23.6s\n",
            "[CV 5/10] END .....C=0.1, gamma=0.1, kernel=rbf;, score=0.939 total time=  30.3s\n",
            "[CV 6/10] END .....C=0.1, gamma=0.1, kernel=rbf;, score=0.951 total time=  27.4s\n",
            "[CV 7/10] END .....C=0.1, gamma=0.1, kernel=rbf;, score=0.960 total time=  28.5s\n",
            "[CV 8/10] END .....C=0.1, gamma=0.1, kernel=rbf;, score=0.948 total time=  27.6s\n",
            "[CV 9/10] END .....C=0.1, gamma=0.1, kernel=rbf;, score=0.944 total time=  24.8s\n",
            "[CV 10/10] END ....C=0.1, gamma=0.1, kernel=rbf;, score=0.939 total time=  25.3s\n"
          ]
        }
      ],
      "source": [
        "from sklearn.model_selection import GridSearchCV\n",
        "from sklearn.model_selection import KFold\n",
        " \n",
        "# defining parameter range\n",
        "param_grid = {'C': [0.1, 1, 10, 100, 1000],\n",
        "              'gamma': [1, 0.1, 0.01, 0.001, 0.0001],\n",
        "              'kernel': ['rbf']}\n",
        " \n",
        "grid = GridSearchCV(SVC(class_weight='balanced', probability=True), param_grid,cv=KFold(n_splits=10), refit = True, verbose = 3)\n",
        " \n",
        "# fitting the model for grid search\n",
        "grid.fit(Xt_train, Yt_train)"
      ]
    },
    {
      "cell_type": "code",
      "execution_count": null,
      "metadata": {
        "colab": {
          "base_uri": "https://localhost:8080/"
        },
        "id": "02dljD7Zodjk",
        "outputId": "ee557b32-b06f-4c76-cb12-256d5616168f"
      },
      "outputs": [
        {
          "name": "stdout",
          "output_type": "stream",
          "text": [
            "              precision    recall  f1-score   support\n",
            "\n",
            "           0       0.98      0.99      0.98      1788\n",
            "           1       0.86      0.80      0.83       191\n",
            "\n",
            "    accuracy                           0.97      1979\n",
            "   macro avg       0.92      0.89      0.91      1979\n",
            "weighted avg       0.97      0.97      0.97      1979\n",
            "\n"
          ]
        }
      ],
      "source": [
        "\n",
        "grid_predictions = grid.predict(Xt_test)\n",
        " \n",
        "# print classification report\n",
        "print(classification_report(Yt_test, grid_predictions))"
      ]
    },
    {
      "cell_type": "code",
      "execution_count": null,
      "metadata": {
        "colab": {
          "base_uri": "https://localhost:8080/"
        },
        "id": "4DxrH9Z-BE54",
        "outputId": "faa6da54-dd0d-4a12-e8c5-8a233f2d33f0"
      },
      "outputs": [
        {
          "name": "stdout",
          "output_type": "stream",
          "text": [
            "{'C': 1000, 'gamma': 0.01, 'kernel': 'rbf'}\n"
          ]
        }
      ],
      "source": [
        "print(grid.best_params_)"
      ]
    },
    {
      "cell_type": "code",
      "execution_count": null,
      "metadata": {
        "colab": {
          "base_uri": "https://localhost:8080/"
        },
        "id": "G9tpi-zetert",
        "outputId": "58ce1c4e-887d-4172-8d01-957b99a9edb7"
      },
      "outputs": [
        {
          "data": {
            "text/plain": [
              "SVC(C=1000, class_weight='balanced', gamma=0.01, probability=True)"
            ]
          },
          "execution_count": 17,
          "metadata": {},
          "output_type": "execute_result"
        }
      ],
      "source": []
    },
    {
      "cell_type": "code",
      "execution_count": null,
      "metadata": {
        "id": "9e44AywTulIc"
      },
      "outputs": [],
      "source": [
        "######################################################################Penalized_SVM (https://www.analyticsvidhya.com/blog/2020/07/10-techniques-to-deal-with-class-imbalance-in-machine-learning/)\n",
        "\n",
        "# load library\n",
        "from sklearn.svm import SVC\n",
        "\n",
        "#svm_weights = (clf.coef_ ** 2).sum(axis=0) # coef_ is only available when using a linear kernel\n",
        "\n",
        "# we can add class_weight='balanced' to add panalize mistake\n",
        "svc_model = SVC(kernel='rbf', C= 1000, gamma= 0.01,\n",
        "                class_weight='balanced', probability=True)\n",
        "\n",
        "svc_model.fit(Xt_train, Yt_train)\n",
        "\n",
        "svc_predict = svc_model.predict(Xt_test)# check performance\n"
      ]
    },
    {
      "cell_type": "code",
      "execution_count": null,
      "metadata": {
        "colab": {
          "base_uri": "https://localhost:8080/"
        },
        "id": "tIsRKnMiulIt",
        "outputId": "385ad0ac-203e-49ab-b9c1-7afeb0200467"
      },
      "outputs": [
        {
          "output_type": "stream",
          "name": "stdout",
          "text": [
            "0.97 accuracy with a standard deviation of 0.01\n",
            "0.9744682922780268\n",
            "0.005178339137897622\n",
            "ROCAUC score: 0.900166321140354\n",
            "Accuracy score: 0.9717028802425467\n",
            "F1 score: 0.8469945355191256\n",
            "Cohens kappa: 0.831437\n",
            "ROC AUC: 0.900166\n",
            "[[1768   20]\n",
            " [  36  155]]\n",
            "Test Set: 1979\n",
            "0    1788\n",
            "1     191\n",
            "Name: Target, dtype: int64\n",
            "[[1768   20]\n",
            " [  36  155]]\n"
          ]
        }
      ],
      "source": [
        "##################################################Cross validation kfold=10\n",
        "\n",
        "svc_predict = svc_model.predict(Xt_test)# check performance\n",
        "\n",
        "from sklearn.model_selection import cross_val_score\n",
        "scores = cross_val_score(svc_model,Xt_train, Yt_train, cv=10)\n",
        "print(\"%0.2f accuracy with a standard deviation of %0.2f\" % (scores.mean(), scores.std()))\n",
        "print(scores.mean())\n",
        "print(scores.std())\n",
        "from sklearn.metrics import recall_score, precision_recall_curve,precision_score, confusion_matrix, accuracy_score, f1_score, roc_auc_score\n",
        "print('ROCAUC score:',roc_auc_score(Yt_test, svc_predict))\n",
        "print('Accuracy score:',accuracy_score(Yt_test, svc_predict))\n",
        "print('F1 score:',f1_score(Yt_test, svc_predict))\n",
        "\n",
        "from sklearn.metrics import recall_score, precision_recall_curve,precision_score, confusion_matrix, accuracy_score, f1_score, roc_auc_score, cohen_kappa_score\n",
        "# kappa\n",
        "kappa = cohen_kappa_score(Yt_test, svc_predict)\n",
        "print('Cohens kappa: %f' % kappa)\n",
        "# ROC AUC\n",
        "auc = roc_auc_score(Yt_test, svc_predict)\n",
        "print('ROC AUC: %f' % auc)\n",
        "# confusion matrix\n",
        "matrix = confusion_matrix(Yt_test, svc_predict)\n",
        "print(matrix)\n",
        "print(f\"Test Set: {len(Xt_test)}\")\n",
        "print(Yt_test.value_counts())\n",
        "print(matrix)"
      ]
    },
    {
      "cell_type": "code",
      "source": [
        "# Save Model Using joblib\n",
        "import pandas\n",
        "from sklearn import model_selection\n",
        "from sklearn.linear_model import LogisticRegression\n",
        "import joblib\n",
        "\n",
        "%cd /content/\n",
        "# save the model to disk\n",
        "filename = 'sexualsPenalizedSVM_HPTFinal_UMACCS_model.pkl'\n",
        "joblib.dump(svc_model, filename)\n",
        " \n",
        "# some time later...\n",
        " \n",
        "# load the model from disk\n",
        "loaded_model = joblib.load(filename)\n",
        "result = loaded_model.score(Xt_test, Yt_test)\n",
        "print(result)"
      ],
      "metadata": {
        "colab": {
          "base_uri": "https://localhost:8080/"
        },
        "id": "bTZXT_tWOtLr",
        "outputId": "0bda779d-b24e-4160-84a9-3e965357f20e"
      },
      "execution_count": null,
      "outputs": [
        {
          "output_type": "stream",
          "name": "stdout",
          "text": [
            "/content\n",
            "0.9717028802425467\n"
          ]
        }
      ]
    },
    {
      "cell_type": "code",
      "source": [
        "!cp 'sexualsPenalizedSVM_HPTFinal_UMACCS_model.pkl' /content/drive/MyDrive/PhD/PenalizedSVM_MACCS"
      ],
      "metadata": {
        "id": "oSSp1C0TO7Ar"
      },
      "execution_count": null,
      "outputs": []
    },
    {
      "cell_type": "code",
      "execution_count": null,
      "metadata": {
        "colab": {
          "base_uri": "https://localhost:8080/"
        },
        "id": "TVsC1qCFulIp",
        "outputId": "bc0eabc7-94c0-49e9-f5bb-c0e69ea53890"
      },
      "outputs": [
        {
          "output_type": "stream",
          "name": "stdout",
          "text": [
            "0.9717028802425467\n"
          ]
        }
      ],
      "source": [
        "import pandas\n",
        "from sklearn import model_selection\n",
        "from sklearn.linear_model import LogisticRegression\n",
        "import joblib\n",
        "\n",
        "# load the model from disk\n",
        "loaded_model = joblib.load('/content/drive/MyDrive/PhD/PenalizedSVM_MACCS/sexualsPenalizedSVM_HPTFinal_UMACCS_model.pkl')\n",
        "result = loaded_model.score(Xt_test, Yt_test)\n",
        "print(result)"
      ]
    },
    {
      "cell_type": "code",
      "execution_count": null,
      "metadata": {
        "colab": {
          "base_uri": "https://localhost:8080/"
        },
        "id": "dMcfhQwQulIm",
        "outputId": "14ba486b-41d0-4ab2-cba4-20f9c73dece6"
      },
      "outputs": [
        {
          "name": "stdout",
          "output_type": "stream",
          "text": [
            "/content\n",
            "0.9717028802425467\n"
          ]
        }
      ],
      "source": [
        "# Save Model Using joblib\n",
        "import pandas\n",
        "from sklearn import model_selection\n",
        "from sklearn.linear_model import LogisticRegression\n",
        "import joblib\n",
        "\n",
        "%cd /content/\n",
        "# save the model to disk\n",
        "filename = 'sexualsPenalizedSVM_HPTFinal_UMACCS_model.sav'\n",
        "joblib.dump(svc_model, filename)\n",
        " \n",
        "# some time later...\n",
        " \n",
        "# load the model from disk\n",
        "loaded_model = joblib.load(filename)\n",
        "result = loaded_model.score(Xt_test, Yt_test)\n",
        "print(result)"
      ]
    },
    {
      "cell_type": "code",
      "execution_count": null,
      "metadata": {
        "id": "s9hY1mETulIn"
      },
      "outputs": [],
      "source": [
        "!cp sexualsPenalizedSVM_HPTFinal_UMACCS_model.sav /content/drive/MyDrive/PhD/PenalizedSVM_MACCS"
      ]
    },
    {
      "cell_type": "code",
      "execution_count": null,
      "metadata": {
        "colab": {
          "base_uri": "https://localhost:8080/"
        },
        "id": "kfgvgpUeulIo",
        "outputId": "6170bc2a-0bb8-47dc-88cf-1316deb11867"
      },
      "outputs": [
        {
          "name": "stdout",
          "output_type": "stream",
          "text": [
            "/content/drive/MyDrive/PhD/PenalizedSVM_MACCS\n",
            "sexualsPenalizedSVM_HPTFinal_UMACCS_model.sav\n",
            "sexualsPenalizedSVM_UMACCS_model.sav\n"
          ]
        }
      ],
      "source": [
        "###Import model\n",
        "#Optional: move to the desired location:\n",
        "%cd /content/drive/MyDrive/PhD/PenalizedSVM_MACCS\n",
        "!ls '/content/drive/MyDrive/PhD/PenalizedSVM_MACCS'"
      ]
    },
    {
      "cell_type": "code",
      "source": [
        "from sklearn.metrics import recall_score, precision_recall_curve,precision_score, confusion_matrix, accuracy_score, f1_score\n",
        "# accuracy: (tp + tn) / (p + n)\n",
        "accuracy = accuracy_score(Yt_test,svc_predict)\n",
        "print('Accuracy: %f' % accuracy)\n",
        "recall= recall_score(Yt_test,svc_predict)\n",
        "print(\"Recall %f\" % recall)\n",
        "precision= precision_score(Yt_test,svc_predict)\n",
        "print(\"precision %f\" % precision)\n",
        "# f1: 2 tp / (2 tp + fp + fn)\n",
        "f1 = f1_score(Yt_test,svc_predict)\n",
        "print('F1 score: %f' % f1)\n",
        "cm= confusion_matrix(Yt_test,svc_predict)\n",
        "cm"
      ],
      "metadata": {
        "id": "--E-cMzOOMPW"
      },
      "execution_count": null,
      "outputs": []
    },
    {
      "cell_type": "code",
      "execution_count": null,
      "metadata": {
        "colab": {
          "base_uri": "https://localhost:8080/"
        },
        "id": "K4zPtEZqulIq",
        "outputId": "96c85b54-c1a8-4a00-b8c4-df9cae7019be"
      },
      "outputs": [
        {
          "name": "stdout",
          "output_type": "stream",
          "text": [
            "Accuracy: 0.971703\n",
            "Recall 0.811518\n",
            "precision 0.885714\n",
            "F1 score: 0.846995\n"
          ]
        },
        {
          "data": {
            "text/plain": [
              "array([[1768,   20],\n",
              "       [  36,  155]])"
            ]
          },
          "execution_count": 23,
          "metadata": {},
          "output_type": "execute_result"
        }
      ],
      "source": [
        "from sklearn.metrics import recall_score, precision_recall_curve,precision_score, confusion_matrix, accuracy_score, f1_score\n",
        "# accuracy: (tp + tn) / (p + n)\n",
        "accuracy = accuracy_score(Yt_test,svc_predict)\n",
        "print('Accuracy: %f' % accuracy)\n",
        "recall= recall_score(Yt_test,svc_predict)\n",
        "print(\"Recall %f\" % recall)\n",
        "precision= precision_score(Yt_test,svc_predict)\n",
        "print(\"precision %f\" % precision)\n",
        "# f1: 2 tp / (2 tp + fp + fn)\n",
        "f1 = f1_score(Yt_test,svc_predict)\n",
        "print('F1 score: %f' % f1)\n",
        "cm= confusion_matrix(Yt_test,svc_predict)\n",
        "cm"
      ]
    },
    {
      "cell_type": "code",
      "execution_count": null,
      "metadata": {
        "colab": {
          "base_uri": "https://localhost:8080/"
        },
        "id": "cY6wo_ggulIq",
        "outputId": "fdc9f492-fc14-4bfa-96e2-d30747db06d5"
      },
      "outputs": [
        {
          "name": "stdout",
          "output_type": "stream",
          "text": [
            "ROCAUC score: 0.900166321140354\n",
            "Accuracy score: 0.9717028802425467\n",
            "F1 score: 0.8469945355191256\n"
          ]
        }
      ],
      "source": [
        "from sklearn.metrics import recall_score, precision_recall_curve,precision_score, confusion_matrix, accuracy_score, f1_score, roc_auc_score\n",
        "print('ROCAUC score:',roc_auc_score(Yt_test, svc_predict))\n",
        "print('Accuracy score:',accuracy_score(Yt_test, svc_predict))\n",
        "print('F1 score:',f1_score(Yt_test, svc_predict))"
      ]
    },
    {
      "cell_type": "code",
      "execution_count": null,
      "metadata": {
        "colab": {
          "base_uri": "https://localhost:8080/"
        },
        "id": "23Wh3mKUulIr",
        "outputId": "e9677193-e925-45d8-8f85-f1a1f05bf733"
      },
      "outputs": [
        {
          "name": "stdout",
          "output_type": "stream",
          "text": [
            "Cohens kappa: 0.831437\n",
            "ROC AUC: 0.900166\n",
            "[[1768   20]\n",
            " [  36  155]]\n"
          ]
        }
      ],
      "source": [
        "from sklearn.metrics import recall_score, precision_recall_curve,precision_score, confusion_matrix, accuracy_score, f1_score, roc_auc_score, cohen_kappa_score\n",
        "# kappa\n",
        "kappa = cohen_kappa_score(Yt_test, svc_predict)\n",
        "print('Cohens kappa: %f' % kappa)\n",
        "# ROC AUC\n",
        "auc = roc_auc_score(Yt_test, svc_predict)\n",
        "print('ROC AUC: %f' % auc)\n",
        "# confusion matrix\n",
        "matrix = confusion_matrix(Yt_test, svc_predict)\n",
        "print(matrix)"
      ]
    },
    {
      "cell_type": "code",
      "execution_count": null,
      "metadata": {
        "colab": {
          "base_uri": "https://localhost:8080/"
        },
        "id": "ud8VJl6FulIs",
        "outputId": "96bdd6a0-f053-4d4b-f6e9-7db47b6140b5"
      },
      "outputs": [
        {
          "name": "stdout",
          "output_type": "stream",
          "text": [
            "Test Set: 1979\n",
            "0    1788\n",
            "1     191\n",
            "Name: Target, dtype: int64\n",
            "[[1768   20]\n",
            " [  36  155]]\n"
          ]
        }
      ],
      "source": [
        "print(f\"Test Set: {len(Xt_test)}\")\n",
        "print(Yt_test.value_counts())\n",
        "print(matrix)"
      ]
    },
    {
      "cell_type": "code",
      "execution_count": null,
      "metadata": {
        "colab": {
          "base_uri": "https://localhost:8080/"
        },
        "id": "059mNu9dulIu",
        "outputId": "6ad67cbd-71d3-4dab-fe5c-266f0f9e3418"
      },
      "outputs": [
        {
          "name": "stdout",
          "output_type": "stream",
          "text": [
            "0.9744682922780268\n",
            "0.005178339137897622\n"
          ]
        }
      ],
      "source": [
        "print(scores.mean())\n",
        "print(scores.std())"
      ]
    },
    {
      "cell_type": "markdown",
      "metadata": {
        "id": "gDlHFBy6Arv8"
      },
      "source": [
        "# Hyperparameter tuning\n",
        "\n",
        "\n",
        "---\n",
        "\n",
        "\n",
        "\n",
        "---\n",
        "\n"
      ]
    },
    {
      "cell_type": "code",
      "execution_count": null,
      "metadata": {
        "id": "mGxKahNRArv8"
      },
      "outputs": [],
      "source": [
        "## hyper-parameters (like what C or gamma values to use)\n",
        "# load library\n",
        "from sklearn.svm import SVC\n",
        "\n",
        "# we can add class_weight='balanced' to add panalize mistake\n",
        "svc_model = SVC( probability=True)"
      ]
    },
    {
      "cell_type": "code",
      "execution_count": null,
      "metadata": {
        "id": "_a9iQUcCArv9"
      },
      "outputs": [],
      "source": [
        "kernels = ['Polynomial', 'RBF', 'Sigmoid','Linear']#A function which returns the corresponding SVC model\n",
        "def getClassifier(ktype):\n",
        "    if ktype == 0:\n",
        "        # Polynomial kernal\n",
        "        return SVC(kernel='poly', degree=8, gamma=\"auto\", probability=True)\n",
        "    elif ktype == 1:\n",
        "        # Radial Basis Function kernal\n",
        "        return SVC(kernel='rbf', gamma=\"auto\", probability=True)\n",
        "    elif ktype == 2:\n",
        "        # Sigmoid kernal\n",
        "        return SVC(kernel='sigmoid', gamma=\"auto\", probability=True)\n",
        "    elif ktype == 3:\n",
        "        # Linear kernal\n",
        "        return SVC(kernel='linear', gamma=\"auto\", probability=True)"
      ]
    },
    {
      "cell_type": "code",
      "execution_count": null,
      "metadata": {
        "id": "BGG4Y6t6Arv-"
      },
      "outputs": [],
      "source": [
        "## https://www.vebuso.com/2020/03/svm-hyperparameter-tuning-using-gridsearchcv/\n",
        "import pandas as pd  \n",
        "import numpy as np  \n",
        "from sklearn.svm import SVC  \n",
        "from sklearn.metrics import classification_report, confusion_matrix  \n",
        "from sklearn.metrics import recall_score, precision_recall_curve,precision_score, confusion_matrix, accuracy_score, f1_score, roc_auc_score\n",
        "import matplotlib.pyplot as plt\n",
        "%matplotlib inline\n",
        "\n",
        "for i in range(4):\n",
        "    # Separate data into test and training sets\n",
        "    X_train, X_test, y_train, y_test = train_test_split(df, dpchm['hit'],test_size=0.2, random_state=42)# Train a SVC model using different kernal\n",
        "    svclassifier = getClassifier(i) \n",
        "    svclassifier.fit(X_train, y_train)# Make prediction\n",
        "    y_pred = svclassifier.predict(X_test)# Evaluate our model\n",
        "    print(\"Evaluation:\", kernels[i], \"kernel\")\n",
        "    print(classification_report(y_test,y_pred))"
      ]
    },
    {
      "cell_type": "code",
      "execution_count": null,
      "metadata": {
        "id": "_iw0hMeAArv_"
      },
      "outputs": [],
      "source": [
        "from sklearn.model_selection import GridSearchCV\n",
        "from sklearn.model_selection import KFold\n",
        " \n",
        "# defining parameter range\n",
        "param_grid = {'C': [0.1, 1, 10],\n",
        "              'gamma': [1, 0.1, 0.01],\n",
        "              'kernel': ['rbf']}\n",
        "\n",
        "# defining parameter range\n",
        "#param_grid = {'C': [0.1, 1, 10],\n",
        "#              'gamma': [ 0.1, 0.01],\n",
        "#              'kernel': ['rbf']}\n",
        " \n",
        "grid = GridSearchCV(SVC( probability=True), param_grid, refit = True, verbose = 3)\n",
        " \n",
        "# fitting the model for grid search\n",
        "grid.fit(Xt_train, Yt_train)"
      ]
    },
    {
      "cell_type": "code",
      "source": [
        "from sklearn.model_selection import GridSearchCV\n",
        "from sklearn.model_selection import KFold\n",
        " \n",
        "# defining parameter range\n",
        "#param_grid = {'C': [0.1, 1, 10],\n",
        "#              'gamma': [1, 0.1, 0.01],\n",
        "#              'kernel': ['rbf']}\n",
        "\n",
        "# defining parameter range\n",
        "param_grid = {'C': [0.1, 1, 10],\n",
        "              'gamma': [ 0.1, 0.01],\n",
        "              'kernel': ['rbf']}\n",
        " \n",
        "grid = GridSearchCV(SVC(class_weight='balanced', probability=True), param_grid, refit = True, verbose = 3)\n",
        " \n",
        "# fitting the model for grid search\n",
        "grid.fit(Xt_train, Yt_train)"
      ],
      "metadata": {
        "colab": {
          "base_uri": "https://localhost:8080/"
        },
        "id": "k0qTPrfroNVu",
        "outputId": "a367df76-5c48-41fd-e911-cd54b252ab91"
      },
      "execution_count": null,
      "outputs": [
        {
          "output_type": "stream",
          "name": "stdout",
          "text": [
            "Fitting 5 folds for each of 6 candidates, totalling 30 fits\n",
            "[CV 1/5] END ......C=0.1, gamma=0.1, kernel=rbf;, score=0.928 total time=26.4min\n",
            "[CV 2/5] END ......C=0.1, gamma=0.1, kernel=rbf;, score=0.929 total time=26.2min\n",
            "[CV 3/5] END ......C=0.1, gamma=0.1, kernel=rbf;, score=0.927 total time=26.9min\n",
            "[CV 4/5] END ......C=0.1, gamma=0.1, kernel=rbf;, score=0.930 total time=27.9min\n",
            "[CV 5/5] END ......C=0.1, gamma=0.1, kernel=rbf;, score=0.929 total time=28.3min\n",
            "[CV 1/5] END .....C=0.1, gamma=0.01, kernel=rbf;, score=0.903 total time=20.8min\n",
            "[CV 2/5] END .....C=0.1, gamma=0.01, kernel=rbf;, score=0.906 total time=17.4min\n",
            "[CV 3/5] END .....C=0.1, gamma=0.01, kernel=rbf;, score=0.904 total time=14.7min\n",
            "[CV 4/5] END .....C=0.1, gamma=0.01, kernel=rbf;, score=0.904 total time=15.1min\n",
            "[CV 5/5] END .....C=0.1, gamma=0.01, kernel=rbf;, score=0.906 total time=15.2min\n"
          ]
        }
      ]
    },
    {
      "cell_type": "code",
      "source": [
        "from sklearn.model_selection import GridSearchCV\n",
        "from sklearn.model_selection import KFold\n",
        " \n",
        "# defining parameter range\n",
        "#param_grid = {'C': [0.1, 1, 10],\n",
        "#              'gamma': [1, 0.1, 0.01],\n",
        "#              'kernel': ['rbf']}\n",
        "\n",
        "# defining parameter range\n",
        "param_grid = {'C': [ 1, 10],\n",
        "              'gamma': [ 0.1, 0.01],\n",
        "              'kernel': ['rbf']}\n",
        " \n",
        "grid = GridSearchCV(SVC(class_weight='balanced', probability=True), param_grid, cv=2, refit = True, verbose = 3)\n",
        " \n",
        "# fitting the model for grid search\n",
        "grid.fit(Xt_train, Yt_train)"
      ],
      "metadata": {
        "colab": {
          "base_uri": "https://localhost:8080/"
        },
        "id": "l1aIhlVGcI7Z",
        "outputId": "f06e7127-f764-43f8-e9a2-831844f6d4c5"
      },
      "execution_count": null,
      "outputs": [
        {
          "output_type": "stream",
          "name": "stdout",
          "text": [
            "Fitting 2 folds for each of 4 candidates, totalling 8 fits\n",
            "[CV 1/2] END ........C=1, gamma=0.1, kernel=rbf;, score=0.957 total time=11.4min\n",
            "[CV 2/2] END ........C=1, gamma=0.1, kernel=rbf;, score=0.956 total time=14.4min\n",
            "[CV 1/2] END .......C=1, gamma=0.01, kernel=rbf;, score=0.919 total time= 6.3min\n",
            "[CV 2/2] END .......C=1, gamma=0.01, kernel=rbf;, score=0.919 total time= 6.1min\n",
            "[CV 1/2] END .......C=10, gamma=0.1, kernel=rbf;, score=0.961 total time=20.8min\n",
            "[CV 2/2] END .......C=10, gamma=0.1, kernel=rbf;, score=0.958 total time=20.0min\n",
            "[CV 1/2] END ......C=10, gamma=0.01, kernel=rbf;, score=0.941 total time= 3.7min\n",
            "[CV 2/2] END ......C=10, gamma=0.01, kernel=rbf;, score=0.940 total time= 3.7min\n"
          ]
        }
      ]
    },
    {
      "cell_type": "code",
      "execution_count": null,
      "metadata": {
        "id": "0-ycGC-3ArwA"
      },
      "outputs": [],
      "source": [
        "\n",
        "grid_predictions = grid.predict(Xt_test)\n",
        " \n",
        "# print classification report\n",
        "print(classification_report(Yt_test, grid_predictions))"
      ]
    },
    {
      "cell_type": "code",
      "execution_count": null,
      "metadata": {
        "id": "mqtBQlQdArwB"
      },
      "outputs": [],
      "source": [
        "######################################################################Penalized_SVM (https://www.analyticsvidhya.com/blog/2020/07/10-techniques-to-deal-with-class-imbalance-in-machine-learning/)\n",
        "\n",
        "# load library\n",
        "from sklearn.svm import SVC\n",
        "\n",
        "#svm_weights = (clf.coef_ ** 2).sum(axis=0) # coef_ is only available when using a linear kernel\n",
        "\n",
        "# we can add class_weight='balanced' to add panalize mistake\n",
        "svc_model = SVC(kernel='rbf', C= 10, gamma= 0.1, probability=True)\n",
        "\n",
        "svc_model.fit(Xt_train, Yt_train)\n",
        "\n",
        "svc_predict = svc_model.predict(Xt_test)# check performance\n"
      ]
    },
    {
      "cell_type": "code",
      "execution_count": null,
      "metadata": {
        "colab": {
          "base_uri": "https://localhost:8080/"
        },
        "outputId": "d4dfb16f-22ac-4915-87bc-e74162c5d5d9",
        "id": "R3xNOTlhfTHK"
      },
      "outputs": [
        {
          "output_type": "stream",
          "name": "stdout",
          "text": [
            "ROCAUC score: 0.9762323560059292\n",
            "Accuracy score: 0.9760624895010919\n",
            "F1 score: 0.9760966199781934\n",
            "Cohens kappa: 0.952132\n",
            "ROC AUC: 0.976232\n",
            "[[5802   68]\n",
            " [ 217 5819]]\n",
            "Test Set: 11906\n",
            "1    6036\n",
            "0    5870\n",
            "Name: hit, dtype: int64\n",
            "[[5802   68]\n",
            " [ 217 5819]]\n"
          ]
        }
      ],
      "source": [
        "##################################################Cross validation kfold=10\n",
        "\n",
        "svc_predict = svc_model.predict(Xt_test)# check performance\n",
        "\n",
        "from sklearn.model_selection import cross_val_score\n",
        "#scores = cross_val_score(svc_model,Xt_train, Yt_train, cv=10)\n",
        "#print(\"%0.2f accuracy with a standard deviation of %0.2f\" % (scores.mean(), scores.std()))\n",
        "#print(scores.mean())\n",
        "#print(scores.std())\n",
        "from sklearn.metrics import recall_score, precision_recall_curve,precision_score, confusion_matrix, accuracy_score, f1_score, roc_auc_score\n",
        "print('ROCAUC score:',roc_auc_score(Yt_test, svc_predict))\n",
        "print('Accuracy score:',accuracy_score(Yt_test, svc_predict))\n",
        "print('F1 score:',f1_score(Yt_test, svc_predict))\n",
        "\n",
        "from sklearn.metrics import recall_score, precision_recall_curve,precision_score, confusion_matrix, accuracy_score, f1_score, roc_auc_score, cohen_kappa_score\n",
        "# kappa\n",
        "kappa = cohen_kappa_score(Yt_test, svc_predict)\n",
        "print('Cohens kappa: %f' % kappa)\n",
        "# ROC AUC\n",
        "auc = roc_auc_score(Yt_test, svc_predict)\n",
        "print('ROC AUC: %f' % auc)\n",
        "# confusion matrix\n",
        "matrix = confusion_matrix(Yt_test, svc_predict)\n",
        "print(matrix)\n",
        "print(f\"Test Set: {len(Xt_test)}\")\n",
        "print(Yt_test.value_counts())\n",
        "print(matrix)"
      ]
    },
    {
      "cell_type": "code",
      "source": [
        "# Save Model Using joblib\n",
        "import pandas\n",
        "from sklearn import model_selection\n",
        "from sklearn.linear_model import LogisticRegression\n",
        "import joblib\n",
        "\n",
        "%cd /content/\n",
        "# save the model to disk\n",
        "filename = 'asexualsPenalizedSVM_HPTFinal_UMACCS_model.pkl'\n",
        "joblib.dump(svc_model, filename)\n",
        " \n",
        "# some time later...\n",
        " \n",
        "# load the model from disk\n",
        "loaded_model = joblib.load(filename)\n",
        "result = loaded_model.score(Xt_test, Yt_test)\n",
        "print(result)"
      ],
      "metadata": {
        "colab": {
          "base_uri": "https://localhost:8080/"
        },
        "outputId": "d13239e0-d75d-4c5a-abfe-c4bd83dd7336",
        "id": "Sm2mxVWxfTHK"
      },
      "execution_count": null,
      "outputs": [
        {
          "output_type": "stream",
          "name": "stdout",
          "text": [
            "/content\n",
            "0.9760624895010919\n"
          ]
        }
      ]
    },
    {
      "cell_type": "code",
      "source": [
        "!cp 'asexualsPenalizedSVM_HPTFinal_UMACCS_model.pkl' /content/drive/MyDrive/PhD/PenalizedSVM_MACCS"
      ],
      "metadata": {
        "id": "ya3csqU3fTHK"
      },
      "execution_count": null,
      "outputs": []
    },
    {
      "cell_type": "code",
      "execution_count": null,
      "metadata": {
        "id": "xR3VzM87fTHL"
      },
      "outputs": [],
      "source": [
        "import pandas\n",
        "from sklearn import model_selection\n",
        "from sklearn.linear_model import LogisticRegression\n",
        "import joblib\n",
        "\n",
        "# load the model from disk\n",
        "loaded_model = joblib.load('/content/drive/MyDrive/PhD/PenalizedSVM_MACCS/asexualsPenalizedSVM_HPTFinal_UMACCS_model.pkl')\n",
        "result = loaded_model.score(Xt_test, Yt_test)\n",
        "print(result)"
      ]
    },
    {
      "cell_type": "code",
      "execution_count": null,
      "metadata": {
        "id": "WjtQMZVqArwB"
      },
      "outputs": [],
      "source": [
        "# load library\n",
        "from sklearn.svm import SVC\n",
        "# we can add class_weight='balanced' to add panalize mistake\n",
        "svc_model = SVC(kernel='rbf', C= 10, gamma= 0.1,\n",
        "                class_weight='balanced', probability=True)"
      ]
    },
    {
      "cell_type": "code",
      "execution_count": null,
      "metadata": {
        "id": "WTP8PBeXArwO",
        "colab": {
          "base_uri": "https://localhost:8080/"
        },
        "outputId": "a6d2a164-1248-46ba-89b5-3248d4d91beb"
      },
      "outputs": [
        {
          "output_type": "stream",
          "name": "stdout",
          "text": [
            "0.97 accuracy with a standard deviation of 0.00\n"
          ]
        }
      ],
      "source": [
        "##################################################Cross validation kfold=10\n",
        "import pandas\n",
        "from sklearn import model_selection\n",
        "from sklearn.linear_model import LogisticRegression\n",
        "import joblib\n",
        "\n",
        "# load the model from disk\n",
        "svc_model = joblib.load('/content/drive/MyDrive/PhD/PenalizedSVM_MACCS/asexualsPenalizedSVM_HPTFinal_UMACCS_model.sav')\n",
        "svc_predict = svc_model.predict(Xt_test)# check performance\n",
        "\n",
        "from sklearn.model_selection import cross_val_score\n",
        "scores = cross_val_score(svc_model,Xt_train, Yt_train, cv=10)\n",
        "print(\"%0.2f accuracy with a standard deviation of %0.2f\" % (scores.mean(), scores.std()))"
      ]
    },
    {
      "cell_type": "code",
      "execution_count": null,
      "metadata": {
        "id": "I1Voe0b-ArwS",
        "colab": {
          "base_uri": "https://localhost:8080/"
        },
        "outputId": "5d4f2bbf-ee60-4b87-9732-8443fc82ced7"
      },
      "outputs": [
        {
          "output_type": "stream",
          "name": "stdout",
          "text": [
            "0.9746135490895054\n",
            "0.0017791645422492572\n"
          ]
        }
      ],
      "source": [
        "print(scores.mean())\n",
        "print(scores.std())"
      ]
    },
    {
      "cell_type": "code",
      "execution_count": null,
      "metadata": {
        "colab": {
          "base_uri": "https://localhost:8080/"
        },
        "id": "ZrwSaBz3ArwP",
        "outputId": "43249e4f-2239-494c-a65c-7a6782b75ca4"
      },
      "outputs": [
        {
          "output_type": "stream",
          "name": "stdout",
          "text": [
            "Accuracy: 0.976230\n",
            "Recall 0.964380\n",
            "precision 0.988453\n",
            "F1 score: 0.976268\n"
          ]
        },
        {
          "output_type": "execute_result",
          "data": {
            "text/plain": [
              "array([[5802,   68],\n",
              "       [ 215, 5821]])"
            ]
          },
          "metadata": {},
          "execution_count": 20
        }
      ],
      "source": [
        "from sklearn.metrics import recall_score, precision_recall_curve,precision_score, confusion_matrix, accuracy_score, f1_score\n",
        "# accuracy: (tp + tn) / (p + n)\n",
        "accuracy = accuracy_score(Yt_test,svc_predict)\n",
        "print('Accuracy: %f' % accuracy)\n",
        "recall= recall_score(Yt_test,svc_predict)\n",
        "print(\"Recall %f\" % recall)\n",
        "precision= precision_score(Yt_test,svc_predict)\n",
        "print(\"precision %f\" % precision)\n",
        "# f1: 2 tp / (2 tp + fp + fn)\n",
        "f1 = f1_score(Yt_test,svc_predict)\n",
        "print('F1 score: %f' % f1)\n",
        "cm= confusion_matrix(Yt_test,svc_predict)\n",
        "cm"
      ]
    },
    {
      "cell_type": "code",
      "execution_count": null,
      "metadata": {
        "colab": {
          "base_uri": "https://localhost:8080/"
        },
        "id": "7s804JaRArwQ",
        "outputId": "a061ef67-f3c4-4a0d-9974-1c1a8e3022e8"
      },
      "outputs": [
        {
          "output_type": "stream",
          "name": "stdout",
          "text": [
            "ROCAUC score: 0.9763980286368105\n",
            "Accuracy score: 0.9762304720309087\n",
            "F1 score: 0.9762683438155138\n"
          ]
        }
      ],
      "source": [
        "from sklearn.metrics import recall_score, precision_recall_curve,precision_score, confusion_matrix, accuracy_score, f1_score, roc_auc_score\n",
        "print('ROCAUC score:',roc_auc_score(Yt_test, svc_predict))\n",
        "print('Accuracy score:',accuracy_score(Yt_test, svc_predict))\n",
        "print('F1 score:',f1_score(Yt_test, svc_predict))"
      ]
    },
    {
      "cell_type": "code",
      "execution_count": null,
      "metadata": {
        "colab": {
          "base_uri": "https://localhost:8080/"
        },
        "id": "Z3zBqbZbArwR",
        "outputId": "bb242d35-1ed4-42e9-a1f0-5680ae93678e"
      },
      "outputs": [
        {
          "output_type": "stream",
          "name": "stdout",
          "text": [
            "Cohens kappa: 0.952468\n",
            "ROC AUC: 0.976398\n",
            "[[5802   68]\n",
            " [ 215 5821]]\n"
          ]
        }
      ],
      "source": [
        "from sklearn.metrics import recall_score, precision_recall_curve,precision_score, confusion_matrix, accuracy_score, f1_score, roc_auc_score, cohen_kappa_score\n",
        "# kappa\n",
        "kappa = cohen_kappa_score(Yt_test, svc_predict)\n",
        "print('Cohens kappa: %f' % kappa)\n",
        "# ROC AUC\n",
        "auc = roc_auc_score(Yt_test, svc_predict)\n",
        "print('ROC AUC: %f' % auc)\n",
        "# confusion matrix\n",
        "matrix = confusion_matrix(Yt_test, svc_predict)\n",
        "print(matrix)"
      ]
    },
    {
      "cell_type": "code",
      "execution_count": null,
      "metadata": {
        "colab": {
          "base_uri": "https://localhost:8080/"
        },
        "id": "L4ZQrH3cArwR",
        "outputId": "b98e3805-6039-4f2f-dcf4-b89bcbebfc73"
      },
      "outputs": [
        {
          "output_type": "stream",
          "name": "stdout",
          "text": [
            "Test Set: 11906\n",
            "1    6036\n",
            "0    5870\n",
            "Name: hit, dtype: int64\n",
            "[[5802   68]\n",
            " [ 215 5821]]\n"
          ]
        }
      ],
      "source": [
        "print(f\"Test Set: {len(Xt_test)}\")\n",
        "print(Yt_test.value_counts())\n",
        "print(matrix)"
      ]
    },
    {
      "cell_type": "markdown",
      "metadata": {
        "id": "Tlr5nq31llry"
      },
      "source": [
        "## Asexual stage"
      ]
    },
    {
      "cell_type": "code",
      "execution_count": null,
      "metadata": {
        "colab": {
          "base_uri": "https://localhost:8080/"
        },
        "id": "gHnRtqcaHz_a",
        "outputId": "37be7a82-415a-4606-87fa-bbfab5ba69b4"
      },
      "outputs": [
        {
          "output_type": "stream",
          "name": "stdout",
          "text": [
            "Mounted at /content/drive\n"
          ]
        }
      ],
      "source": [
        "# LOAD the data\n",
        "from google.colab import drive\n",
        "\n",
        "drive.mount('/content/drive')"
      ]
    },
    {
      "cell_type": "code",
      "execution_count": null,
      "metadata": {
        "id": "GiGevf5olob3"
      },
      "outputs": [],
      "source": [
        "#Optional: move to the desired location:\n",
        "%cd /content/drive/MyDrive/PhD/PTS_datasets/\n",
        "!ls '/content/drive/MyDrive/PhD/PTS_datasets/'\n",
        "import pandas as pd\n",
        "axl= pd.read_csv(\"M_asexuals_lib_hits_nd_clst_nhts.csv\")\n",
        "axl['Hit'] = axl['Hit'].replace(np.nan, \"No\")\n",
        "axl = axl.iloc[: , 1:]\n",
        "print(axl['Hit'].value_counts())\n",
        "axl"
      ]
    },
    {
      "cell_type": "code",
      "execution_count": null,
      "metadata": {
        "id": "euySuPqD80lf"
      },
      "outputs": [],
      "source": [
        "compounds =[]\n",
        "df1= axl[:20000]\n",
        "\n",
        "for _, smiles, hit in df1[[\"Smiles\", \"Hit\"]].itertuples():\n",
        "    compounds.append((Chem.MolFromSmiles(smiles),hit))\n",
        "\n",
        "df2= axl[20001:23766]\n",
        "\n",
        "for _, smiles, hit in df2[[\"Smiles\", \"Hit\"]].itertuples():\n",
        "    compounds.append((Chem.MolFromSmiles(smiles),hit))\n",
        "\n",
        "df3= axl[23767:25396]\n",
        "\n",
        "for _, smiles, hit in df3[[\"Smiles\", \"Hit\"]].itertuples():\n",
        "    compounds.append((Chem.MolFromSmiles(smiles),hit))\n",
        "\n",
        "\n",
        "df4= axl[25397:25662]\n",
        "\n",
        "for _, smiles, hit in df4[[\"Smiles\", \"Hit\"]].itertuples():\n",
        "    compounds.append((Chem.MolFromSmiles(smiles),hit))\n",
        "\n",
        "df5= axl[25663:26912]\n",
        "\n",
        "for _, smiles, hit in df5[[\"Smiles\", \"Hit\"]].itertuples():\n",
        "    compounds.append((Chem.MolFromSmiles(smiles),hit))\n",
        "\n",
        "df6= axl[26913:28399]\n",
        "\n",
        "for _, smiles, hit in df6[[\"Smiles\", \"Hit\"]].itertuples():\n",
        "    compounds.append((Chem.MolFromSmiles(smiles),hit))\n",
        "\n",
        "df7= axl[28400:]\n",
        "\n",
        "for _, smiles, hit in df7[[\"Smiles\", \"Hit\"]].itertuples():\n",
        "    compounds.append((Chem.MolFromSmiles(smiles),hit))\n",
        "\n",
        "len(compounds)"
      ]
    },
    {
      "cell_type": "code",
      "execution_count": null,
      "metadata": {
        "id": "T8LvO5RZoWhO"
      },
      "outputs": [],
      "source": [
        "axl[\"Target\"] = np.where(axl[\"Hit\"]== \"Yes\", 1,0)\n",
        "axl[\"Target\"].value_counts()"
      ]
    },
    {
      "cell_type": "code",
      "execution_count": null,
      "metadata": {
        "id": "IdfeSq2BN8i7"
      },
      "outputs": [],
      "source": [
        "compounds\n",
        "dpchm= pd.DataFrame (compounds, columns = ['mol', 'hit']) \n",
        "dpchm"
      ]
    },
    {
      "cell_type": "code",
      "execution_count": null,
      "metadata": {
        "id": "8LN7BRQlnnyH"
      },
      "outputs": [],
      "source": [
        "#dchm= axl[\"Smiles\"]\n",
        "#dchm\n",
        "dpchm[\"Target\"] = np.where(dpchm[\"hit\"]== \"Yes\", 1,0)\n",
        "dpchm[\"Target\"].value_counts()\n",
        "\n",
        "dchm= dpchm[\"mol\"]\n",
        "dchm"
      ]
    },
    {
      "cell_type": "code",
      "execution_count": null,
      "metadata": {
        "id": "rV3JaCtFQm6K"
      },
      "outputs": [],
      "source": [
        "!pip install deepchem\n"
      ]
    },
    {
      "cell_type": "code",
      "execution_count": null,
      "metadata": {
        "id": "WOxXQ1shn7dl"
      },
      "outputs": [],
      "source": [
        "import deepchem as dc\n",
        "from deepchem.feat import MACCSKeysFingerprint\n",
        "#mols = [Chem.MolFromSmiles(x) for x in dchm]\n",
        "featurizer = MACCSKeysFingerprint()\n",
        "maccs = featurizer.featurize(dchm)\n",
        "maccs"
      ]
    },
    {
      "cell_type": "code",
      "execution_count": null,
      "metadata": {
        "id": "FJWGJ7bqArvv"
      },
      "outputs": [],
      "source": [
        "df=[]\n",
        "df = pd.DataFrame(maccs)\n",
        "#df[\"Target\"]= sxl[\"Target\"]\n",
        "df"
      ]
    },
    {
      "cell_type": "code",
      "execution_count": null,
      "metadata": {
        "id": "XIm1AgWrBmg7"
      },
      "outputs": [],
      "source": [
        "dpchm['hit']= np.where(dpchm['hit']== \"Yes\", 1,0)\n",
        "dpchm['hit']"
      ]
    },
    {
      "cell_type": "code",
      "execution_count": null,
      "metadata": {
        "id": "phjij2ycArvw"
      },
      "outputs": [],
      "source": [
        "from sklearn.model_selection import train_test_split\n",
        "from sklearn.svm import SVC\n",
        "\n",
        "Xt_train, Xt_test, Yt_train, Yt_test = train_test_split(df, dpchm['hit'],test_size=0.2, random_state=42)"
      ]
    },
    {
      "cell_type": "code",
      "execution_count": null,
      "metadata": {
        "id": "NOAQnCW0Arvx"
      },
      "outputs": [],
      "source": [
        "######################################################################Penalized_SVM (https://www.analyticsvidhya.com/blog/2020/07/10-techniques-to-deal-with-class-imbalance-in-machine-learning/)\n",
        "\n",
        "# load library\n",
        "from sklearn.svm import SVC\n",
        "\n",
        "# we can add class_weight='balanced' to add panalize mistake\n",
        "svc_model = SVC(class_weight='balanced', probability=True)\n",
        "\n",
        "svc_model.fit(Xt_train, Yt_train)\n",
        "\n",
        "svc_predict = svc_model.predict(Xt_test)# check performance\n"
      ]
    },
    {
      "cell_type": "code",
      "execution_count": null,
      "metadata": {
        "id": "5eHREEwkQti2"
      },
      "outputs": [],
      "source": [
        "##################################################Cross validation kfold=10\n",
        "\n",
        "# load library\n",
        "from sklearn.svm import SVC\n",
        "\n",
        "from sklearn.model_selection import cross_val_score\n",
        "scores = cross_val_score(svc_model,Xt_train, Yt_train, cv=10)"
      ]
    },
    {
      "cell_type": "code",
      "execution_count": null,
      "metadata": {
        "colab": {
          "base_uri": "https://localhost:8080/"
        },
        "id": "hoWR9U6-Qwpp",
        "outputId": "dfeece26-8a9c-4bb9-e56e-1769ca0cb2a2"
      },
      "outputs": [
        {
          "name": "stdout",
          "output_type": "stream",
          "text": [
            "0.9450 accuracy with a standard deviation of 0.0021\n"
          ]
        }
      ],
      "source": [
        "print(\"%0.4f accuracy with a standard deviation of %0.4f\" % (scores.mean(), scores.std()))"
      ]
    },
    {
      "cell_type": "code",
      "execution_count": null,
      "metadata": {
        "colab": {
          "base_uri": "https://localhost:8080/"
        },
        "id": "iCy8xEuoArvy",
        "outputId": "bb3fd8da-ec15-4b7f-da7a-badfac20d33d"
      },
      "outputs": [
        {
          "name": "stdout",
          "output_type": "stream",
          "text": [
            "/content\n",
            "0.942633966067529\n"
          ]
        }
      ],
      "source": [
        "# Save Model Using joblib\n",
        "import pandas\n",
        "from sklearn import model_selection\n",
        "from sklearn.linear_model import LogisticRegression\n",
        "import joblib\n",
        "\n",
        "%cd /content/\n",
        "# save the model to disk\n",
        "filename = 'asexualsPenalizedSVM_UMACCS_model.sav'\n",
        "joblib.dump(svc_model, filename)\n",
        " \n",
        "# some time later...\n",
        " \n",
        "# load the model from disk\n",
        "loaded_model = joblib.load(filename)\n",
        "result = loaded_model.score(Xt_test, Yt_test)\n",
        "print(result)"
      ]
    },
    {
      "cell_type": "code",
      "execution_count": null,
      "metadata": {
        "id": "dzfiV_g9Arvy"
      },
      "outputs": [],
      "source": [
        "!cp asexualsPenalizedSVM_UMACCS_model.sav /content/drive/MyDrive/PhD/PenalizedSVM_MACCS"
      ]
    },
    {
      "cell_type": "code",
      "execution_count": null,
      "metadata": {
        "colab": {
          "base_uri": "https://localhost:8080/"
        },
        "id": "DXKcTe2qArvz",
        "outputId": "de1d1eac-ec8b-4451-cece-9ba214d91cc3"
      },
      "outputs": [
        {
          "name": "stdout",
          "output_type": "stream",
          "text": [
            "/content/drive/MyDrive/PhD/PenalizedSVM_MACCS\n",
            "asexualsPenalizedSVM_UMACCS_model.sav\n",
            "sexualsPenalizedSVM_HPTFinal_UMACCS_model.sav\n",
            "sexualsPenalizedSVM_UMACCS_model.sav\n",
            "sexualsPenalizedzLinearHPTSVM_UMACCS_model.sav\n",
            "sxl_UnderMACCS_LinearSVM_HPT_FeatureImp.csv\n"
          ]
        }
      ],
      "source": [
        "###Import model\n",
        "#Optional: move to the desired location:\n",
        "%cd /content/drive/MyDrive/PhD/PenalizedSVM_MACCS\n",
        "!ls '/content/drive/MyDrive/PhD/PenalizedSVM_MACCS'"
      ]
    },
    {
      "cell_type": "code",
      "execution_count": null,
      "metadata": {
        "colab": {
          "base_uri": "https://localhost:8080/"
        },
        "id": "VUNHJkXqArv0",
        "outputId": "17362539-9117-4a79-d712-d8bcc6c81aee"
      },
      "outputs": [
        {
          "name": "stdout",
          "output_type": "stream",
          "text": [
            "0.942633966067529\n"
          ]
        }
      ],
      "source": [
        "import pandas\n",
        "from sklearn import model_selection\n",
        "from sklearn.linear_model import LogisticRegression\n",
        "import joblib\n",
        "\n",
        "# load the model from disk\n",
        "loaded_model = joblib.load('/content/drive/MyDrive/PhD/PenalizedSVM_MACCS/asexualsPenalizedSVM_UMACCS_model.sav')\n",
        "result = loaded_model.score(Xt_test, Yt_test)\n",
        "print(result)"
      ]
    },
    {
      "cell_type": "code",
      "execution_count": null,
      "metadata": {
        "id": "H8dkBcc-gJkC"
      },
      "outputs": [],
      "source": [
        "svc_predict = loaded_model.predict(Xt_test)"
      ]
    },
    {
      "cell_type": "code",
      "execution_count": null,
      "metadata": {
        "id": "YiwXQGL2hlf7"
      },
      "outputs": [],
      "source": [
        "svc_predict= np.where(svc_predict== \"Yes\", 1,0)\n",
        "Yt_test= np.where(Yt_test== \"Yes\", 1,0)"
      ]
    },
    {
      "cell_type": "code",
      "execution_count": null,
      "metadata": {
        "colab": {
          "base_uri": "https://localhost:8080/"
        },
        "id": "Lr1Rlh9whCx1",
        "outputId": "e9022078-34ee-445c-ecd0-8a54a281e435"
      },
      "outputs": [
        {
          "data": {
            "text/plain": [
              "array([0, 1, 0, ..., 1, 0, 1])"
            ]
          },
          "execution_count": 23,
          "metadata": {},
          "output_type": "execute_result"
        }
      ],
      "source": [
        "svc_predict\n",
        "Yt_test"
      ]
    },
    {
      "cell_type": "code",
      "execution_count": null,
      "metadata": {
        "colab": {
          "base_uri": "https://localhost:8080/"
        },
        "id": "UlwswQYkArv0",
        "outputId": "a6667cff-c289-4a12-f827-0f5b1ff33f67"
      },
      "outputs": [
        {
          "name": "stdout",
          "output_type": "stream",
          "text": [
            "Accuracy: 0.942634\n",
            "Recall 0.920974\n",
            "precision 0.964267\n",
            "F1 score: 0.942124\n"
          ]
        },
        {
          "data": {
            "text/plain": [
              "array([[5664,  206],\n",
              "       [ 477, 5559]])"
            ]
          },
          "execution_count": 24,
          "metadata": {},
          "output_type": "execute_result"
        }
      ],
      "source": [
        "from sklearn.metrics import recall_score, precision_recall_curve,precision_score, confusion_matrix, accuracy_score, f1_score\n",
        "# accuracy: (tp + tn) / (p + n)\n",
        "accuracy = accuracy_score(Yt_test,svc_predict)\n",
        "print('Accuracy: %f' % accuracy)\n",
        "recall= recall_score(Yt_test,svc_predict)\n",
        "print(\"Recall %f\" % recall)\n",
        "precision= precision_score(Yt_test,svc_predict)\n",
        "print(\"precision %f\" % precision)\n",
        "# f1: 2 tp / (2 tp + fp + fn)\n",
        "f1 = f1_score(Yt_test,svc_predict)\n",
        "print('F1 score: %f' % f1)\n",
        "cm= confusion_matrix(Yt_test,svc_predict)\n",
        "cm"
      ]
    },
    {
      "cell_type": "code",
      "execution_count": null,
      "metadata": {
        "colab": {
          "base_uri": "https://localhost:8080/"
        },
        "id": "9_VG0u-mArv1",
        "outputId": "f8bd0c76-de19-45f8-97e4-f0a52b8e7638"
      },
      "outputs": [
        {
          "name": "stdout",
          "output_type": "stream",
          "text": [
            "ROCAUC score: 0.9429402291531899\n",
            "Accuracy score: 0.942633966067529\n",
            "F1 score: 0.9421235488517922\n"
          ]
        }
      ],
      "source": [
        "from sklearn.metrics import recall_score, precision_recall_curve,precision_score, confusion_matrix, accuracy_score, f1_score, roc_auc_score\n",
        "print('ROCAUC score:',roc_auc_score(Yt_test, svc_predict))\n",
        "print('Accuracy score:',accuracy_score(Yt_test, svc_predict))\n",
        "print('F1 score:',f1_score(Yt_test, svc_predict))"
      ]
    },
    {
      "cell_type": "code",
      "execution_count": null,
      "metadata": {
        "colab": {
          "base_uri": "https://localhost:8080/"
        },
        "id": "3Fc7qefrArv2",
        "outputId": "d4530595-7a81-49de-a6f1-3f73aa625273"
      },
      "outputs": [
        {
          "name": "stdout",
          "output_type": "stream",
          "text": [
            "Cohens kappa: 0.885318\n",
            "ROC AUC: 0.942940\n",
            "[[5664  206]\n",
            " [ 477 5559]]\n"
          ]
        }
      ],
      "source": [
        "from sklearn.metrics import recall_score, precision_recall_curve,precision_score, confusion_matrix, accuracy_score, f1_score, roc_auc_score, cohen_kappa_score\n",
        "# kappa\n",
        "kappa = cohen_kappa_score(Yt_test, svc_predict)\n",
        "print('Cohens kappa: %f' % kappa)\n",
        "# ROC AUC\n",
        "auc = roc_auc_score(Yt_test, svc_predict)\n",
        "print('ROC AUC: %f' % auc)\n",
        "# confusion matrix\n",
        "matrix = confusion_matrix(Yt_test, svc_predict)\n",
        "print(matrix)"
      ]
    },
    {
      "cell_type": "code",
      "execution_count": null,
      "metadata": {
        "id": "XPdYqY9wArv3"
      },
      "outputs": [],
      "source": [
        "print(f\"Test Set: {len(Xt_test)}\")\n",
        "print(Yt_test.value_counts())\n",
        "print(matrix)"
      ]
    },
    {
      "cell_type": "code",
      "execution_count": null,
      "metadata": {
        "colab": {
          "background_save": true
        },
        "id": "iRikNflxArv3"
      },
      "outputs": [],
      "source": [
        "##################################################Cross validation kfold=10\n",
        "\n",
        "# load library\n",
        "from sklearn.svm import SVC\n",
        "\n",
        "# we can add class_weight='balanced' to add panalize mistake\n",
        "svc_model = SVC(class_weight='balanced', probability=True)\n",
        "\n",
        "fit= svc_model.fit(Xt_train, Yt_train)\n",
        "\n",
        "svc_predict = svc_model.predict(Xt_test)# check performance\n",
        "\n",
        "from sklearn.model_selection import cross_val_score\n",
        "scores = cross_val_score(svc_model,Xt_train, Yt_train, cv=10)"
      ]
    },
    {
      "cell_type": "code",
      "execution_count": null,
      "metadata": {
        "colab": {
          "background_save": true
        },
        "id": "uFFWoMTUArv4",
        "outputId": "2c00d0eb-01bf-4bf0-af12-3eb28f0559b5"
      },
      "outputs": [
        {
          "name": "stdout",
          "output_type": "stream",
          "text": [
            "0.95 accuracy with a standard deviation of 0.00\n"
          ]
        }
      ],
      "source": [
        "print(\"%0.2f accuracy with a standard deviation of %0.2f\" % (scores.mean(), scores.std()))"
      ]
    },
    {
      "cell_type": "markdown",
      "metadata": {
        "id": "OF9cAQXYUP2O"
      },
      "source": [
        "# Hyperparameter tuning\n",
        "\n",
        "\n",
        "---\n",
        "\n",
        "\n",
        "\n",
        "---\n",
        "\n"
      ]
    },
    {
      "cell_type": "code",
      "execution_count": null,
      "metadata": {
        "id": "QgabK97oUP2O"
      },
      "outputs": [],
      "source": [
        "## hyper-parameters (like what C or gamma values to use)\n",
        "# load library\n",
        "from sklearn.svm import SVC\n",
        "\n",
        "# we can add class_weight='balanced' to add panalize mistake\n",
        "svc_model = SVC( probability=True)"
      ]
    },
    {
      "cell_type": "code",
      "execution_count": null,
      "metadata": {
        "id": "ayeM3HH5UP2P"
      },
      "outputs": [],
      "source": [
        "kernels = ['Polynomial', 'RBF', 'Sigmoid','Linear']#A function which returns the corresponding SVC model\n",
        "def getClassifier(ktype):\n",
        "    if ktype == 0:\n",
        "        # Polynomial kernal\n",
        "        return SVC(kernel='poly', degree=8, gamma=\"auto\", probability=True)\n",
        "    elif ktype == 1:\n",
        "        # Radial Basis Function kernal\n",
        "        return SVC(kernel='rbf', gamma=\"auto\", probability=True)\n",
        "    elif ktype == 2:\n",
        "        # Sigmoid kernal\n",
        "        return SVC(kernel='sigmoid', gamma=\"auto\", probability=True)\n",
        "    elif ktype == 3:\n",
        "        # Linear kernal\n",
        "        return SVC(kernel='linear', gamma=\"auto\", probability=True)"
      ]
    },
    {
      "cell_type": "code",
      "execution_count": null,
      "metadata": {
        "id": "9L0zItVMUP2P"
      },
      "outputs": [],
      "source": [
        "## https://www.vebuso.com/2020/03/svm-hyperparameter-tuning-using-gridsearchcv/\n",
        "import pandas as pd  \n",
        "import numpy as np  \n",
        "from sklearn.svm import SVC  \n",
        "from sklearn.metrics import classification_report, confusion_matrix  \n",
        "from sklearn.metrics import recall_score, precision_recall_curve,precision_score, confusion_matrix, accuracy_score, f1_score, roc_auc_score\n",
        "import matplotlib.pyplot as plt\n",
        "%matplotlib inline\n",
        "\n",
        "for i in range(4):\n",
        "    # Separate data into test and training sets\n",
        "    X_train, X_test, y_train, y_test = train_test_split(df, dpchm['hit'],test_size=0.2, random_state=42)# Train a SVC model using different kernal\n",
        "    svclassifier = getClassifier(i) \n",
        "    svclassifier.fit(X_train, y_train)# Make prediction\n",
        "    y_pred = svclassifier.predict(X_test)# Evaluate our model\n",
        "    print(\"Evaluation:\", kernels[i], \"kernel\")\n",
        "    print(classification_report(y_test,y_pred))"
      ]
    },
    {
      "cell_type": "code",
      "execution_count": null,
      "metadata": {
        "id": "xzy9bpvFUP2Q"
      },
      "outputs": [],
      "source": [
        "from sklearn.model_selection import GridSearchCV\n",
        "from sklearn.model_selection import KFold\n",
        " \n",
        "# defining parameter range\n",
        "param_grid = {'C': [0.1, 1, 10],\n",
        "              'gamma': [1, 0.1, 0.01],\n",
        "              'kernel': ['rbf']}\n",
        "\n",
        "# defining parameter range\n",
        "#param_grid = {'C': [0.1, 1, 10],\n",
        "#              'gamma': [ 0.1, 0.01],\n",
        "#              'kernel': ['rbf']}\n",
        " \n",
        "grid = GridSearchCV(SVC( probability=True), param_grid, refit = True, verbose = 3)\n",
        " \n",
        "# fitting the model for grid search\n",
        "grid.fit(Xt_train, Yt_train)"
      ]
    },
    {
      "cell_type": "code",
      "source": [
        "from sklearn.model_selection import GridSearchCV\n",
        "from sklearn.model_selection import KFold\n",
        " \n",
        "# defining parameter range\n",
        "#param_grid = {'C': [0.1, 1, 10],\n",
        "#              'gamma': [1, 0.1, 0.01],\n",
        "#              'kernel': ['rbf']}\n",
        "\n",
        "# defining parameter range\n",
        "param_grid = {'C': [0.1, 1, 10],\n",
        "              'gamma': [ 0.1, 0.01],\n",
        "              'kernel': ['rbf']}\n",
        " \n",
        "grid = GridSearchCV(SVC(class_weight='balanced', probability=True), param_grid, refit = True, verbose = 3)\n",
        " \n",
        "# fitting the model for grid search\n",
        "grid.fit(Xt_train, Yt_train)"
      ],
      "metadata": {
        "colab": {
          "base_uri": "https://localhost:8080/"
        },
        "outputId": "a367df76-5c48-41fd-e911-cd54b252ab91",
        "id": "BusmocT1UP2Q"
      },
      "execution_count": null,
      "outputs": [
        {
          "output_type": "stream",
          "name": "stdout",
          "text": [
            "Fitting 5 folds for each of 6 candidates, totalling 30 fits\n",
            "[CV 1/5] END ......C=0.1, gamma=0.1, kernel=rbf;, score=0.928 total time=26.4min\n",
            "[CV 2/5] END ......C=0.1, gamma=0.1, kernel=rbf;, score=0.929 total time=26.2min\n",
            "[CV 3/5] END ......C=0.1, gamma=0.1, kernel=rbf;, score=0.927 total time=26.9min\n",
            "[CV 4/5] END ......C=0.1, gamma=0.1, kernel=rbf;, score=0.930 total time=27.9min\n",
            "[CV 5/5] END ......C=0.1, gamma=0.1, kernel=rbf;, score=0.929 total time=28.3min\n",
            "[CV 1/5] END .....C=0.1, gamma=0.01, kernel=rbf;, score=0.903 total time=20.8min\n",
            "[CV 2/5] END .....C=0.1, gamma=0.01, kernel=rbf;, score=0.906 total time=17.4min\n",
            "[CV 3/5] END .....C=0.1, gamma=0.01, kernel=rbf;, score=0.904 total time=14.7min\n",
            "[CV 4/5] END .....C=0.1, gamma=0.01, kernel=rbf;, score=0.904 total time=15.1min\n",
            "[CV 5/5] END .....C=0.1, gamma=0.01, kernel=rbf;, score=0.906 total time=15.2min\n"
          ]
        }
      ]
    },
    {
      "cell_type": "code",
      "source": [
        "from sklearn.model_selection import GridSearchCV\n",
        "from sklearn.model_selection import KFold\n",
        " \n",
        "# defining parameter range\n",
        "#param_grid = {'C': [0.1, 1, 10],\n",
        "#              'gamma': [1, 0.1, 0.01],\n",
        "#              'kernel': ['rbf']}\n",
        "\n",
        "# defining parameter range\n",
        "param_grid = {'C': [ 1, 10],\n",
        "              'gamma': [ 0.1, 0.01],\n",
        "              'kernel': ['rbf']}\n",
        " \n",
        "grid = GridSearchCV(SVC(class_weight='balanced', probability=True), param_grid, cv=2, refit = True, verbose = 3)\n",
        " \n",
        "# fitting the model for grid search\n",
        "grid.fit(Xt_train, Yt_train)"
      ],
      "metadata": {
        "colab": {
          "base_uri": "https://localhost:8080/"
        },
        "outputId": "f06e7127-f764-43f8-e9a2-831844f6d4c5",
        "id": "OLtp5445UP2Q"
      },
      "execution_count": null,
      "outputs": [
        {
          "output_type": "stream",
          "name": "stdout",
          "text": [
            "Fitting 2 folds for each of 4 candidates, totalling 8 fits\n",
            "[CV 1/2] END ........C=1, gamma=0.1, kernel=rbf;, score=0.957 total time=11.4min\n",
            "[CV 2/2] END ........C=1, gamma=0.1, kernel=rbf;, score=0.956 total time=14.4min\n",
            "[CV 1/2] END .......C=1, gamma=0.01, kernel=rbf;, score=0.919 total time= 6.3min\n",
            "[CV 2/2] END .......C=1, gamma=0.01, kernel=rbf;, score=0.919 total time= 6.1min\n",
            "[CV 1/2] END .......C=10, gamma=0.1, kernel=rbf;, score=0.961 total time=20.8min\n",
            "[CV 2/2] END .......C=10, gamma=0.1, kernel=rbf;, score=0.958 total time=20.0min\n",
            "[CV 1/2] END ......C=10, gamma=0.01, kernel=rbf;, score=0.941 total time= 3.7min\n",
            "[CV 2/2] END ......C=10, gamma=0.01, kernel=rbf;, score=0.940 total time= 3.7min\n"
          ]
        }
      ]
    },
    {
      "cell_type": "code",
      "execution_count": null,
      "metadata": {
        "id": "8IPmyl_PUP2R"
      },
      "outputs": [],
      "source": [
        "\n",
        "grid_predictions = grid.predict(Xt_test)\n",
        " \n",
        "# print classification report\n",
        "print(classification_report(Yt_test, grid_predictions))"
      ]
    },
    {
      "cell_type": "code",
      "execution_count": null,
      "metadata": {
        "id": "_ybqk6gDUP2R"
      },
      "outputs": [],
      "source": [
        "######################################################################Penalized_SVM (https://www.analyticsvidhya.com/blog/2020/07/10-techniques-to-deal-with-class-imbalance-in-machine-learning/)\n",
        "\n",
        "# load library\n",
        "from sklearn.svm import SVC\n",
        "\n",
        "#svm_weights = (clf.coef_ ** 2).sum(axis=0) # coef_ is only available when using a linear kernel\n",
        "\n",
        "# we can add class_weight='balanced' to add panalize mistake\n",
        "svc_model = SVC(kernel='rbf', C= 10, gamma= 0.1, probability=True)\n",
        "\n",
        "svc_model.fit(Xt_train, Yt_train)\n",
        "\n",
        "svc_predict = svc_model.predict(Xt_test)# check performance\n"
      ]
    },
    {
      "cell_type": "code",
      "execution_count": null,
      "metadata": {
        "colab": {
          "base_uri": "https://localhost:8080/"
        },
        "outputId": "d4dfb16f-22ac-4915-87bc-e74162c5d5d9",
        "id": "VtS9O1KtUP2S"
      },
      "outputs": [
        {
          "output_type": "stream",
          "name": "stdout",
          "text": [
            "ROCAUC score: 0.9762323560059292\n",
            "Accuracy score: 0.9760624895010919\n",
            "F1 score: 0.9760966199781934\n",
            "Cohens kappa: 0.952132\n",
            "ROC AUC: 0.976232\n",
            "[[5802   68]\n",
            " [ 217 5819]]\n",
            "Test Set: 11906\n",
            "1    6036\n",
            "0    5870\n",
            "Name: hit, dtype: int64\n",
            "[[5802   68]\n",
            " [ 217 5819]]\n"
          ]
        }
      ],
      "source": [
        "##################################################Cross validation kfold=10\n",
        "\n",
        "svc_predict = svc_model.predict(Xt_test)# check performance\n",
        "\n",
        "from sklearn.model_selection import cross_val_score\n",
        "#scores = cross_val_score(svc_model,Xt_train, Yt_train, cv=10)\n",
        "#print(\"%0.2f accuracy with a standard deviation of %0.2f\" % (scores.mean(), scores.std()))\n",
        "#print(scores.mean())\n",
        "#print(scores.std())\n",
        "from sklearn.metrics import recall_score, precision_recall_curve,precision_score, confusion_matrix, accuracy_score, f1_score, roc_auc_score\n",
        "print('ROCAUC score:',roc_auc_score(Yt_test, svc_predict))\n",
        "print('Accuracy score:',accuracy_score(Yt_test, svc_predict))\n",
        "print('F1 score:',f1_score(Yt_test, svc_predict))\n",
        "\n",
        "from sklearn.metrics import recall_score, precision_recall_curve,precision_score, confusion_matrix, accuracy_score, f1_score, roc_auc_score, cohen_kappa_score\n",
        "# kappa\n",
        "kappa = cohen_kappa_score(Yt_test, svc_predict)\n",
        "print('Cohens kappa: %f' % kappa)\n",
        "# ROC AUC\n",
        "auc = roc_auc_score(Yt_test, svc_predict)\n",
        "print('ROC AUC: %f' % auc)\n",
        "# confusion matrix\n",
        "matrix = confusion_matrix(Yt_test, svc_predict)\n",
        "print(matrix)\n",
        "print(f\"Test Set: {len(Xt_test)}\")\n",
        "print(Yt_test.value_counts())\n",
        "print(matrix)"
      ]
    },
    {
      "cell_type": "code",
      "source": [
        "# Save Model Using joblib\n",
        "import pandas\n",
        "from sklearn import model_selection\n",
        "from sklearn.linear_model import LogisticRegression\n",
        "import joblib\n",
        "\n",
        "%cd /content/\n",
        "# save the model to disk\n",
        "filename = 'asexualsPenalizedSVM_HPTFinal_UMACCS_model.pkl'\n",
        "joblib.dump(svc_model, filename)\n",
        " \n",
        "# some time later...\n",
        " \n",
        "# load the model from disk\n",
        "loaded_model = joblib.load(filename)\n",
        "result = loaded_model.score(Xt_test, Yt_test)\n",
        "print(result)"
      ],
      "metadata": {
        "colab": {
          "base_uri": "https://localhost:8080/"
        },
        "outputId": "d13239e0-d75d-4c5a-abfe-c4bd83dd7336",
        "id": "2fASQMjhUP2S"
      },
      "execution_count": null,
      "outputs": [
        {
          "output_type": "stream",
          "name": "stdout",
          "text": [
            "/content\n",
            "0.9760624895010919\n"
          ]
        }
      ]
    },
    {
      "cell_type": "code",
      "source": [
        "!cp 'asexualsPenalizedSVM_HPTFinal_UMACCS_model.pkl' /content/drive/MyDrive/PhD/PenalizedSVM_MACCS"
      ],
      "metadata": {
        "id": "R6iOjRCrUP2T"
      },
      "execution_count": null,
      "outputs": []
    },
    {
      "cell_type": "code",
      "execution_count": null,
      "metadata": {
        "id": "cKYsKdZ6UP2T"
      },
      "outputs": [],
      "source": [
        "import pandas\n",
        "from sklearn import model_selection\n",
        "from sklearn.linear_model import LogisticRegression\n",
        "import joblib\n",
        "\n",
        "# load the model from disk\n",
        "loaded_model = joblib.load('/content/drive/MyDrive/PhD/PenalizedSVM_MACCS/asexualsPenalizedSVM_HPTFinal_UMACCS_model.pkl')\n",
        "result = loaded_model.score(Xt_test, Yt_test)\n",
        "print(result)"
      ]
    },
    {
      "cell_type": "code",
      "execution_count": null,
      "metadata": {
        "id": "e8-cpG5tUP2T"
      },
      "outputs": [],
      "source": [
        "# load library\n",
        "from sklearn.svm import SVC\n",
        "# we can add class_weight='balanced' to add panalize mistake\n",
        "svc_model = SVC(kernel='rbf', C= 10, gamma= 0.1,\n",
        "                class_weight='balanced', probability=True)"
      ]
    },
    {
      "cell_type": "code",
      "execution_count": null,
      "metadata": {
        "colab": {
          "base_uri": "https://localhost:8080/"
        },
        "outputId": "a6d2a164-1248-46ba-89b5-3248d4d91beb",
        "id": "ToQhxMMpUP2V"
      },
      "outputs": [
        {
          "output_type": "stream",
          "name": "stdout",
          "text": [
            "0.97 accuracy with a standard deviation of 0.00\n"
          ]
        }
      ],
      "source": [
        "##################################################Cross validation kfold=10\n",
        "import pandas\n",
        "from sklearn import model_selection\n",
        "from sklearn.linear_model import LogisticRegression\n",
        "import joblib\n",
        "\n",
        "# load the model from disk\n",
        "svc_model = joblib.load('/content/drive/MyDrive/PhD/PenalizedSVM_MACCS/asexualsPenalizedSVM_HPTFinal_UMACCS_model.pkl')\n",
        "svc_predict = svc_model.predict(Xt_test)# check performance\n",
        "\n",
        "from sklearn.model_selection import cross_val_score\n",
        "scores = cross_val_score(svc_model,Xt_train, Yt_train, cv=10)\n",
        "print(\"%0.2f accuracy with a standard deviation of %0.2f\" % (scores.mean(), scores.std()))"
      ]
    },
    {
      "cell_type": "code",
      "execution_count": null,
      "metadata": {
        "colab": {
          "base_uri": "https://localhost:8080/"
        },
        "outputId": "5d4f2bbf-ee60-4b87-9732-8443fc82ced7",
        "id": "eRxRdZkfUP2W"
      },
      "outputs": [
        {
          "output_type": "stream",
          "name": "stdout",
          "text": [
            "0.9746135490895054\n",
            "0.0017791645422492572\n"
          ]
        }
      ],
      "source": [
        "print(scores.mean())\n",
        "print(scores.std())"
      ]
    },
    {
      "cell_type": "code",
      "execution_count": null,
      "metadata": {
        "colab": {
          "base_uri": "https://localhost:8080/"
        },
        "outputId": "43249e4f-2239-494c-a65c-7a6782b75ca4",
        "id": "IAPYmER0UP2W"
      },
      "outputs": [
        {
          "output_type": "stream",
          "name": "stdout",
          "text": [
            "Accuracy: 0.976230\n",
            "Recall 0.964380\n",
            "precision 0.988453\n",
            "F1 score: 0.976268\n"
          ]
        },
        {
          "output_type": "execute_result",
          "data": {
            "text/plain": [
              "array([[5802,   68],\n",
              "       [ 215, 5821]])"
            ]
          },
          "metadata": {},
          "execution_count": 20
        }
      ],
      "source": [
        "from sklearn.metrics import recall_score, precision_recall_curve,precision_score, confusion_matrix, accuracy_score, f1_score\n",
        "# accuracy: (tp + tn) / (p + n)\n",
        "accuracy = accuracy_score(Yt_test,svc_predict)\n",
        "print('Accuracy: %f' % accuracy)\n",
        "recall= recall_score(Yt_test,svc_predict)\n",
        "print(\"Recall %f\" % recall)\n",
        "precision= precision_score(Yt_test,svc_predict)\n",
        "print(\"precision %f\" % precision)\n",
        "# f1: 2 tp / (2 tp + fp + fn)\n",
        "f1 = f1_score(Yt_test,svc_predict)\n",
        "print('F1 score: %f' % f1)\n",
        "cm= confusion_matrix(Yt_test,svc_predict)\n",
        "cm"
      ]
    },
    {
      "cell_type": "code",
      "execution_count": null,
      "metadata": {
        "colab": {
          "base_uri": "https://localhost:8080/"
        },
        "outputId": "a061ef67-f3c4-4a0d-9974-1c1a8e3022e8",
        "id": "DiPTogbuUP2W"
      },
      "outputs": [
        {
          "output_type": "stream",
          "name": "stdout",
          "text": [
            "ROCAUC score: 0.9763980286368105\n",
            "Accuracy score: 0.9762304720309087\n",
            "F1 score: 0.9762683438155138\n"
          ]
        }
      ],
      "source": [
        "from sklearn.metrics import recall_score, precision_recall_curve,precision_score, confusion_matrix, accuracy_score, f1_score, roc_auc_score\n",
        "print('ROCAUC score:',roc_auc_score(Yt_test, svc_predict))\n",
        "print('Accuracy score:',accuracy_score(Yt_test, svc_predict))\n",
        "print('F1 score:',f1_score(Yt_test, svc_predict))"
      ]
    },
    {
      "cell_type": "code",
      "execution_count": null,
      "metadata": {
        "colab": {
          "base_uri": "https://localhost:8080/"
        },
        "outputId": "bb242d35-1ed4-42e9-a1f0-5680ae93678e",
        "id": "S0LSTAx9UP2W"
      },
      "outputs": [
        {
          "output_type": "stream",
          "name": "stdout",
          "text": [
            "Cohens kappa: 0.952468\n",
            "ROC AUC: 0.976398\n",
            "[[5802   68]\n",
            " [ 215 5821]]\n"
          ]
        }
      ],
      "source": [
        "from sklearn.metrics import recall_score, precision_recall_curve,precision_score, confusion_matrix, accuracy_score, f1_score, roc_auc_score, cohen_kappa_score\n",
        "# kappa\n",
        "kappa = cohen_kappa_score(Yt_test, svc_predict)\n",
        "print('Cohens kappa: %f' % kappa)\n",
        "# ROC AUC\n",
        "auc = roc_auc_score(Yt_test, svc_predict)\n",
        "print('ROC AUC: %f' % auc)\n",
        "# confusion matrix\n",
        "matrix = confusion_matrix(Yt_test, svc_predict)\n",
        "print(matrix)"
      ]
    },
    {
      "cell_type": "code",
      "execution_count": null,
      "metadata": {
        "colab": {
          "base_uri": "https://localhost:8080/"
        },
        "outputId": "b98e3805-6039-4f2f-dcf4-b89bcbebfc73",
        "id": "pnRpPzOlUP2X"
      },
      "outputs": [
        {
          "output_type": "stream",
          "name": "stdout",
          "text": [
            "Test Set: 11906\n",
            "1    6036\n",
            "0    5870\n",
            "Name: hit, dtype: int64\n",
            "[[5802   68]\n",
            " [ 215 5821]]\n"
          ]
        }
      ],
      "source": [
        "print(f\"Test Set: {len(Xt_test)}\")\n",
        "print(Yt_test.value_counts())\n",
        "print(matrix)"
      ]
    }
  ]
}