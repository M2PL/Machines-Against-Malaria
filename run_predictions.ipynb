{
  "cells": [
    {
      "cell_type": "markdown",
      "metadata": {
        "id": "view-in-github",
        "colab_type": "text"
      },
      "source": [
        "<a href=\"https://colab.research.google.com/github/GemmaTuron/Machines-Against-Malaria/blob/main/run_predictions.ipynb\" target=\"_parent\"><img src=\"https://colab.research.google.com/assets/colab-badge.svg\" alt=\"Open In Colab\"/></a>"
      ]
    },
    {
      "cell_type": "markdown",
      "metadata": {
        "id": "Nma_JWh-W-IF"
      },
      "source": [
        "\n",
        "<div class=\"markdown-google-sans\">\n",
        "  <h2>Welcome to Ersilia on Google Colaboratory!</h1>\n",
        "</div>\n",
        "\n",
        "Use this interactive notebook to get predictions on the antimalarial potential of small molecules.\n",
        "\n",
        "Simply click the play button step by step, and make sure to have your files accessible in Google Drive."
      ]
    },
    {
      "cell_type": "code",
      "execution_count": null,
      "metadata": {
        "id": "gJr_9dXGpJ05",
        "cellView": "form"
      },
      "outputs": [],
      "source": [
        "# @title 🏃‍♀️ Install Ersilia on Colab\n",
        "\n",
        "\n",
        "%%capture\n",
        "%env MINICONDA_INSTALLER_SCRIPT=Miniconda3-py37_4.12.0-Linux-x86_64.sh\n",
        "%env MINICONDA_PREFIX=/usr/local\n",
        "%env PYTHONPATH= \"$PYTHONPATH:/usr/local/lib/python3.7/site-packages\"\n",
        "%env PIP_ROOT_USER_ACTION=ignore\n",
        "\n",
        "!wget https://repo.anaconda.com/miniconda/$MINICONDA_INSTALLER_SCRIPT\n",
        "!chmod +x $MINICONDA_INSTALLER_SCRIPT\n",
        "!./$MINICONDA_INSTALLER_SCRIPT -b -f -p $MINICONDA_PREFIX\n",
        "\n",
        "!python -m pip install git+https://github.com/ersilia-os/ersilia.git\n",
        "!python -m pip install requests --upgrade\n",
        "import sys\n",
        "\n",
        "_ = sys.path.append(\"/usr/local/lib/python3.7/site-packages\")"
      ]
    },
    {
      "cell_type": "code",
      "execution_count": null,
      "metadata": {
        "id": "C4HZx7Gndbrh",
        "cellView": "form",
        "outputId": "a3183792-1879-4a72-d47a-0fb97ce01b53",
        "colab": {
          "base_uri": "https://localhost:8080/"
        }
      },
      "outputs": [
        {
          "output_type": "stream",
          "name": "stdout",
          "text": [
            "Mounted at /content/drive\n"
          ]
        }
      ],
      "source": [
        "# @title 🔗 Connect Colab to your Google Drive\n",
        "\n",
        "## Mount google drive\n",
        "from google.colab import drive\n",
        "\n",
        "drive.mount(\"/content/drive\")\n",
        "\n",
        "## Click on the folder/directory icon to the left\n",
        "##      and make sure your drive is mounted"
      ]
    },
    {
      "cell_type": "markdown",
      "metadata": {
        "id": "4_kCnsPUqS6o"
      },
      "source": [
        "<div class=\"markdown-google-sans\">\n",
        "\n",
        "### 📩 Specify your file paths and the input .csv file\n",
        "</div>\n",
        "\n",
        "<div>\n",
        "\n",
        "*  Make sure you have a .csv file containing a list of molecules represented as SMILES string\n",
        "* Specify the exact column name of your smiles column in the .csv file\n",
        "*  Specify the path to your file in Google Drive\n",
        "*  Specify the path where you want to store the results in Google Drive\n",
        "\n",
        "</div>"
      ]
    },
    {
      "cell_type": "code",
      "source": [
        "# specify your input folder\n",
        "\n",
        "input_folder = \"/content/drive/MyDrive/Ersilia\"  # @param {type:\"string\"}"
      ],
      "metadata": {
        "id": "7pKQI_LTPa1G",
        "cellView": "form"
      },
      "execution_count": null,
      "outputs": []
    },
    {
      "cell_type": "code",
      "source": [
        "# specify your output folder\n",
        "\n",
        "output_folder = \"/content/drive/MyDrive/Ersilia\"  # @param {type:\"string\"}"
      ],
      "metadata": {
        "id": "2r13dGXgLxKF",
        "cellView": "form"
      },
      "execution_count": null,
      "outputs": []
    },
    {
      "cell_type": "code",
      "source": [
        "# specify the name of your input csv file\n",
        "\n",
        "input_filename = \"<your filename, for example: my_molecules>\"  # @param {type:\"string\"}"
      ],
      "metadata": {
        "id": "ywqZyGWnP4Ef",
        "cellView": "form"
      },
      "execution_count": null,
      "outputs": []
    },
    {
      "cell_type": "code",
      "source": [
        "# specify the SMILES column name\n",
        "smiles_column = \"<smiles>\"  # @param {type:\"string\"}"
      ],
      "metadata": {
        "id": "WW16pY7-xLOV",
        "cellView": "form"
      },
      "execution_count": null,
      "outputs": []
    },
    {
      "cell_type": "code",
      "execution_count": null,
      "metadata": {
        "id": "JdoU9sr6D4su",
        "cellView": "form"
      },
      "outputs": [],
      "source": [
        "# @title 🔤 Extract SMILES to a list\n",
        "import pandas as pd\n",
        "\n",
        "path = \"%s/%s.csv\" % (input_folder, input_filename)\n",
        "smi_col = \"%s\" % smiles_column\n",
        "df = pd.read_csv(path)\n",
        "smiles = df[smi_col].tolist()\n",
        "\n",
        "print(\"My dataset contains\" + \" \" + str(len(smiles)) + \" \" + \"SMILES\")"
      ]
    },
    {
      "cell_type": "markdown",
      "metadata": {
        "id": "OwuxHmxllTwN"
      },
      "source": [
        "<div class=\"markdown-google-sans\">\n",
        "\n",
        "#### 🚀 Use the Ersilia Model Hub to run predictions for your molecules. Check all available models [here](https://ersilia.io/model-hub)\n",
        "</div>\n",
        "\n",
        "1. Enter the model name\n",
        "2. Fetch models\n",
        "3. Make predictions\n",
        "4. Save the result to a .csv file in your google drive."
      ]
    },
    {
      "cell_type": "code",
      "source": [
        "# Enter the model name\n",
        "# This is just an example, make sure to adapt it to your specific model\n",
        "\n",
        "model_name = \"eos80ch\"  # @param {type:\"string\"}"
      ],
      "metadata": {
        "id": "5xqTcuegSyQF",
        "cellView": "form"
      },
      "execution_count": null,
      "outputs": []
    },
    {
      "cell_type": "code",
      "execution_count": null,
      "metadata": {
        "id": "mWRZdAMkmgxZ",
        "cellView": "form"
      },
      "outputs": [],
      "source": [
        "# @title 📥 Fetch the model\n",
        "import time\n",
        "\n",
        "begin = time.time()\n",
        "!ersilia fetch $model_name\n",
        "end = time.time()\n",
        "\n",
        "print(\"Time taken:\", round((end - begin), 2), \"seconds\")"
      ]
    },
    {
      "cell_type": "code",
      "source": [
        "# @title ⚙️ Serve the model\n",
        "!ersilia serve $model_name"
      ],
      "metadata": {
        "id": "uYsEZpQ1gN8x",
        "cellView": "form"
      },
      "execution_count": null,
      "outputs": []
    },
    {
      "cell_type": "code",
      "execution_count": null,
      "metadata": {
        "id": "TYmcRRZ4mnkx",
        "cellView": "form"
      },
      "outputs": [],
      "source": [
        "# @title ⚡ Run predictions\n",
        "\n",
        "\n",
        "from ersilia import ErsiliaModel\n",
        "import time\n",
        "\n",
        "model = ErsiliaModel(model_name)\n",
        "begin = time.time()\n",
        "output = model.api(input=smiles, output=\"pandas\")\n",
        "end = time.time()\n",
        "\n",
        "print(\"Successful 👍! Time taken:\", round((end - begin), 2), \"seconds\")\n",
        "model.close()"
      ]
    },
    {
      "cell_type": "code",
      "source": [
        "# @title ✔️ Check your results\n",
        "\n",
        "output.head()"
      ],
      "metadata": {
        "cellView": "form",
        "id": "ipckLYxPS3GY"
      },
      "execution_count": null,
      "outputs": []
    },
    {
      "cell_type": "code",
      "execution_count": null,
      "metadata": {
        "id": "1cg9EqzVnJSs",
        "cellView": "form",
        "outputId": "34b410f3-49f3-4e83-f4de-60e236501499",
        "colab": {
          "base_uri": "https://localhost:8080/"
        }
      },
      "outputs": [
        {
          "output_type": "stream",
          "name": "stdout",
          "text": [
            "Results saved!\n"
          ]
        }
      ],
      "source": [
        "# @title 💾 Save your results in Google Drive\n",
        "\n",
        "output_path = \"%s/%s_output.csv\" % (output_folder, model_name)\n",
        "output.to_csv(output_path, index=False)\n",
        "print(\"Results saved!\")"
      ]
    }
  ],
  "metadata": {
    "colab": {
      "collapsed_sections": [
        "GJBs_flRovLc",
        "UdRyKR44dcNI"
      ],
      "provenance": [],
      "include_colab_link": true
    },
    "kernelspec": {
      "display_name": "Python 3",
      "name": "python3"
    }
  },
  "nbformat": 4,
  "nbformat_minor": 0
}