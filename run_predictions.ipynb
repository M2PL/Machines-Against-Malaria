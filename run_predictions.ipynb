{
  "cells": [
    {
      "cell_type": "markdown",
      "metadata": {
        "id": "view-in-github",
        "colab_type": "text"
      },
      "source": [
        "<a href=\"https://colab.research.google.com/github/GemmaTuron/Machines-Against-Malaria/blob/main/run_predictions.ipynb\" target=\"_parent\"><img src=\"https://colab.research.google.com/assets/colab-badge.svg\" alt=\"Open In Colab\"/></a>"
      ]
    },
    {
      "cell_type": "markdown",
      "metadata": {
        "id": "Nma_JWh-W-IF"
      },
      "source": [
        "\n",
        "<div class=\"markdown-google-sans\">\n",
        "  <h2>Welcome to Ersilia on Google Colaboratory!</h1>\n",
        "</div>\n",
        "\n",
        "Use this interactive notebook to get predictions on the antimalarial potential of small molecules.\n",
        "\n",
        "Simply click the play button step by step!"
      ]
    },
    {
      "cell_type": "code",
      "execution_count": 14,
      "metadata": {
        "id": "gJr_9dXGpJ05",
        "cellView": "form"
      },
      "outputs": [],
      "source": [
        "# @title 🏃‍♀️ Install Ersilia on Colab\n",
        "\n",
        "\n",
        "%%capture\n",
        "%env MINICONDA_INSTALLER_SCRIPT=Miniconda3-py37_4.12.0-Linux-x86_64.sh\n",
        "%env MINICONDA_PREFIX=/usr/local\n",
        "%env PYTHONPATH= \"$PYTHONPATH:/usr/local/lib/python3.7/site-packages\"\n",
        "%env PIP_ROOT_USER_ACTION=ignore\n",
        "\n",
        "!wget https://repo.anaconda.com/miniconda/$MINICONDA_INSTALLER_SCRIPT\n",
        "!chmod +x $MINICONDA_INSTALLER_SCRIPT\n",
        "!./$MINICONDA_INSTALLER_SCRIPT -b -f -p $MINICONDA_PREFIX\n",
        "\n",
        "!python -m pip install git+https://github.com/ersilia-os/ersilia.git\n",
        "!python -m pip install requests --upgrade\n",
        "import sys\n",
        "\n",
        "_ = sys.path.append(\"/usr/local/lib/python3.7/site-packages\")"
      ]
    },
    {
      "cell_type": "code",
      "source": [
        "#@title 📩 Upload input files\n",
        "#@markdown Upload a csv file with a single column named SMILES\n",
        "from google.colab import files\n",
        "import pandas as pd\n",
        "import io\n",
        "import os\n",
        "\n",
        "uploaded = files.upload()\n",
        "os.remove([k for k in uploaded.keys()][0])\n",
        "df=pd.read_csv(io.StringIO(uploaded[[k for k in uploaded.keys()][0]].decode('ISO-8859-1')))\n",
        "smiles = df.iloc[:,0].tolist()\n",
        "print(u'\\u270D' + \" My dataset contains\" + \" \" + str(len(smiles)) + \" \" + \"SMILES\")"
      ],
      "metadata": {
        "cellView": "form",
        "id": "s7LgA6mkjS2E"
      },
      "execution_count": null,
      "outputs": []
    },
    {
      "cell_type": "code",
      "source": [
        "# @title 🚀 Get Predictions\n",
        "from ersilia import ErsiliaModel\n",
        "\n",
        "!ersilia fetch eos80ch\n",
        "!ersilia serve eos80ch\n",
        "model = ErsiliaModel(\"eos80ch\")\n",
        "output = model.api(input=smiles, output=\"pandas\")\n",
        "model.close()\n",
        "print(u'\\u2705' + \" SMILES predicted successfully!\")"
      ],
      "metadata": {
        "cellView": "form",
        "id": "NwNrNO3Nk-VF"
      },
      "execution_count": null,
      "outputs": []
    },
    {
      "cell_type": "code",
      "source": [
        "# @title 💾 Save your results!\n",
        "output.head()\n",
        "output.to_csv(\"eos80ch_predictions.csv\", index=False)\n",
        "files.download('eos80ch_predictions.csv')"
      ],
      "metadata": {
        "cellView": "form",
        "id": "qiyr-Rn7mf1P"
      },
      "execution_count": null,
      "outputs": []
    }
  ],
  "metadata": {
    "colab": {
      "collapsed_sections": [
        "GJBs_flRovLc",
        "UdRyKR44dcNI"
      ],
      "provenance": [],
      "include_colab_link": true
    },
    "kernelspec": {
      "display_name": "Python 3",
      "name": "python3"
    }
  },
  "nbformat": 4,
  "nbformat_minor": 0
}